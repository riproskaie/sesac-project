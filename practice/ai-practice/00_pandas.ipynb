{
  "cells": [
    {
      "cell_type": "markdown",
      "metadata": {
        "id": "5ZWRlwJkThBc"
      },
      "source": [
        "![pandas](https://www.hanbit.co.kr/data/books/B6417848794_l.jpg)\n",
        "\n",
        "https://wikidocs.net/32829"
      ]
    },
    {
      "cell_type": "markdown",
      "metadata": {
        "id": "O01pJH-rI112"
      },
      "source": [
        "### 0. 판다스 시작하기"
      ]
    },
    {
      "cell_type": "code",
      "execution_count": 6,
      "metadata": {
        "id": "LNnMssFzI112"
      },
      "outputs": [],
      "source": [
        "import pandas as pd\n",
        "import numpy as np\n",
        "import matplotlib.pyplot as plt"
      ]
    },
    {
      "cell_type": "markdown",
      "metadata": {
        "id": "P2wsB5xlI114"
      },
      "source": [
        "### 1. pandas 데이터 구조 소개"
      ]
    },
    {
      "cell_type": "markdown",
      "metadata": {
        "id": "zXZYDW7pI114"
      },
      "source": [
        "#### Series"
      ]
    },
    {
      "cell_type": "code",
      "execution_count": 11,
      "metadata": {
        "colab": {
          "base_uri": "https://localhost:8080/"
        },
        "id": "HAig6hHbI115",
        "outputId": "80f00bed-d36f-42fa-8de6-57954c06c237"
      },
      "outputs": [
        {
          "data": {
            "text/plain": [
              "0    4\n",
              "1    7\n",
              "2   -5\n",
              "3    3\n",
              "dtype: int64"
            ]
          },
          "execution_count": 11,
          "metadata": {},
          "output_type": "execute_result"
        }
      ],
      "source": [
        "obj = pd.Series([4, 7, -5, 3])\n",
        "obj"
      ]
    },
    {
      "cell_type": "code",
      "execution_count": 14,
      "metadata": {
        "colab": {
          "base_uri": "https://localhost:8080/"
        },
        "id": "7oc-StXbI115",
        "outputId": "0bb9a609-4eb8-4a6a-eff6-b9c843104ab9"
      },
      "outputs": [
        {
          "data": {
            "text/plain": [
              "RangeIndex(start=0, stop=4, step=1)"
            ]
          },
          "execution_count": 14,
          "metadata": {},
          "output_type": "execute_result"
        }
      ],
      "source": [
        "# obj.values # numpy의 array 객체. 리스트랑 똑같다.\n",
        "obj.index  #  range(4) 랑 같다. range가 들어가 있었구나!"
      ]
    },
    {
      "cell_type": "code",
      "execution_count": 25,
      "metadata": {
        "colab": {
          "base_uri": "https://localhost:8080/"
        },
        "id": "UyvJ95CJI116",
        "outputId": "3077d3f6-cdac-4b44-9137-8a65fec66c02"
      },
      "outputs": [
        {
          "data": {
            "text/plain": [
              "d    4\n",
              "b    7\n",
              "a   -5\n",
              "c    3\n",
              "dtype: int64"
            ]
          },
          "execution_count": 25,
          "metadata": {},
          "output_type": "execute_result"
        }
      ],
      "source": [
        "obj2 = pd.Series([4, 7, -5, 3], index=['d', 'b', 'a', 'c'])\n",
        "obj2\n",
        "# obj2.index 를 유심히 보라. 1. 문자열도 들어갈 수가 있다. 2. 리스트로 되어 있다. 3. row만 해당. \n"
      ]
    },
    {
      "cell_type": "code",
      "execution_count": 21,
      "metadata": {},
      "outputs": [
        {
          "data": {
            "text/plain": [
              "d    4\n",
              "d    7\n",
              "d   -5\n",
              "d    3\n",
              "dtype: int64"
            ]
          },
          "execution_count": 21,
          "metadata": {},
          "output_type": "execute_result"
        }
      ],
      "source": [
        "obj2"
      ]
    },
    {
      "cell_type": "code",
      "execution_count": 33,
      "metadata": {
        "colab": {
          "base_uri": "https://localhost:8080/"
        },
        "id": "gLNNNYO1I117",
        "outputId": "bf0a88be-6600-4c4a-d9f7-6544e5a2097d"
      },
      "outputs": [
        {
          "data": {
            "text/plain": [
              "c    3\n",
              "a   -5\n",
              "d    4\n",
              "d    4\n",
              "dtype: int64"
            ]
          },
          "execution_count": 33,
          "metadata": {},
          "output_type": "execute_result"
        }
      ],
      "source": [
        "obj2[['c', 'a', 'd', 'd']] # 리스트가 인덱스 선택에 활용됐음을 확인해라"
      ]
    },
    {
      "cell_type": "markdown",
      "metadata": {
        "id": "21UpSPlyI117"
      },
      "source": [
        "#### DataFrame"
      ]
    },
    {
      "cell_type": "code",
      "execution_count": 35,
      "metadata": {
        "id": "Imea-GJeI117"
      },
      "outputs": [
        {
          "data": {
            "text/html": [
              "<div>\n",
              "<style scoped>\n",
              "    .dataframe tbody tr th:only-of-type {\n",
              "        vertical-align: middle;\n",
              "    }\n",
              "\n",
              "    .dataframe tbody tr th {\n",
              "        vertical-align: top;\n",
              "    }\n",
              "\n",
              "    .dataframe thead th {\n",
              "        text-align: right;\n",
              "    }\n",
              "</style>\n",
              "<table border=\"1\" class=\"dataframe\">\n",
              "  <thead>\n",
              "    <tr style=\"text-align: right;\">\n",
              "      <th></th>\n",
              "      <th>state</th>\n",
              "      <th>year</th>\n",
              "      <th>pop</th>\n",
              "    </tr>\n",
              "  </thead>\n",
              "  <tbody>\n",
              "    <tr>\n",
              "      <th>0</th>\n",
              "      <td>Ohio</td>\n",
              "      <td>2000</td>\n",
              "      <td>1.5</td>\n",
              "    </tr>\n",
              "    <tr>\n",
              "      <th>1</th>\n",
              "      <td>Ohio</td>\n",
              "      <td>2001</td>\n",
              "      <td>1.7</td>\n",
              "    </tr>\n",
              "    <tr>\n",
              "      <th>2</th>\n",
              "      <td>Ohio</td>\n",
              "      <td>2002</td>\n",
              "      <td>3.6</td>\n",
              "    </tr>\n",
              "    <tr>\n",
              "      <th>3</th>\n",
              "      <td>Nevada</td>\n",
              "      <td>2001</td>\n",
              "      <td>2.4</td>\n",
              "    </tr>\n",
              "    <tr>\n",
              "      <th>4</th>\n",
              "      <td>Nevada</td>\n",
              "      <td>2002</td>\n",
              "      <td>2.9</td>\n",
              "    </tr>\n",
              "    <tr>\n",
              "      <th>5</th>\n",
              "      <td>Nevada</td>\n",
              "      <td>2003</td>\n",
              "      <td>3.2</td>\n",
              "    </tr>\n",
              "  </tbody>\n",
              "</table>\n",
              "</div>"
            ],
            "text/plain": [
              "    state  year  pop\n",
              "0    Ohio  2000  1.5\n",
              "1    Ohio  2001  1.7\n",
              "2    Ohio  2002  3.6\n",
              "3  Nevada  2001  2.4\n",
              "4  Nevada  2002  2.9\n",
              "5  Nevada  2003  3.2"
            ]
          },
          "execution_count": 35,
          "metadata": {},
          "output_type": "execute_result"
        }
      ],
      "source": [
        "# 같은 길이의 리스트로 만들어진 딕셔너리를 이용하면 Series와 DataFrame을 생성할 수 있다.\n",
        "data = {'state': ['Ohio', 'Ohio', 'Ohio', 'Nevada', 'Nevada', 'Nevada'],\n",
        "        'year': [2000, 2001, 2002, 2001, 2002, 2003],\n",
        "        'pop': [1.5, 1.7, 3.6, 2.4, 2.9, 3.2]}\n",
        "frame = pd.DataFrame(data)\n",
        "frame"
      ]
    },
    {
      "cell_type": "code",
      "execution_count": 40,
      "metadata": {},
      "outputs": [
        {
          "data": {
            "text/plain": [
              "[1, 2, 4, 5]"
            ]
          },
          "execution_count": 40,
          "metadata": {},
          "output_type": "execute_result"
        }
      ],
      "source": [
        "a = [1,2,4,5]\n",
        "a[:6]"
      ]
    },
    {
      "cell_type": "code",
      "execution_count": 38,
      "metadata": {
        "colab": {
          "base_uri": "https://localhost:8080/",
          "height": 143
        },
        "id": "CejzI5x4I118",
        "outputId": "21e71c33-2dfc-408b-9d9e-677feb65d214"
      },
      "outputs": [
        {
          "data": {
            "text/html": [
              "<div>\n",
              "<style scoped>\n",
              "    .dataframe tbody tr th:only-of-type {\n",
              "        vertical-align: middle;\n",
              "    }\n",
              "\n",
              "    .dataframe tbody tr th {\n",
              "        vertical-align: top;\n",
              "    }\n",
              "\n",
              "    .dataframe thead th {\n",
              "        text-align: right;\n",
              "    }\n",
              "</style>\n",
              "<table border=\"1\" class=\"dataframe\">\n",
              "  <thead>\n",
              "    <tr style=\"text-align: right;\">\n",
              "      <th></th>\n",
              "      <th>state</th>\n",
              "      <th>year</th>\n",
              "      <th>pop</th>\n",
              "    </tr>\n",
              "  </thead>\n",
              "  <tbody>\n",
              "    <tr>\n",
              "      <th>0</th>\n",
              "      <td>Ohio</td>\n",
              "      <td>2000</td>\n",
              "      <td>1.5</td>\n",
              "    </tr>\n",
              "    <tr>\n",
              "      <th>1</th>\n",
              "      <td>Ohio</td>\n",
              "      <td>2001</td>\n",
              "      <td>1.7</td>\n",
              "    </tr>\n",
              "    <tr>\n",
              "      <th>2</th>\n",
              "      <td>Ohio</td>\n",
              "      <td>2002</td>\n",
              "      <td>3.6</td>\n",
              "    </tr>\n",
              "    <tr>\n",
              "      <th>3</th>\n",
              "      <td>Nevada</td>\n",
              "      <td>2001</td>\n",
              "      <td>2.4</td>\n",
              "    </tr>\n",
              "    <tr>\n",
              "      <th>4</th>\n",
              "      <td>Nevada</td>\n",
              "      <td>2002</td>\n",
              "      <td>2.9</td>\n",
              "    </tr>\n",
              "    <tr>\n",
              "      <th>5</th>\n",
              "      <td>Nevada</td>\n",
              "      <td>2003</td>\n",
              "      <td>3.2</td>\n",
              "    </tr>\n",
              "  </tbody>\n",
              "</table>\n",
              "</div>"
            ],
            "text/plain": [
              "    state  year  pop\n",
              "0    Ohio  2000  1.5\n",
              "1    Ohio  2001  1.7\n",
              "2    Ohio  2002  3.6\n",
              "3  Nevada  2001  2.4\n",
              "4  Nevada  2002  2.9\n",
              "5  Nevada  2003  3.2"
            ]
          },
          "execution_count": 38,
          "metadata": {},
          "output_type": "execute_result"
        }
      ],
      "source": [
        "frame.head(10)"
      ]
    },
    {
      "cell_type": "code",
      "execution_count": 43,
      "metadata": {
        "colab": {
          "base_uri": "https://localhost:8080/",
          "height": 238
        },
        "id": "7jQFFVhrI118",
        "outputId": "1873c1ab-ebc4-4387-adaa-e6aafe2bc6e1"
      },
      "outputs": [
        {
          "data": {
            "text/html": [
              "<div>\n",
              "<style scoped>\n",
              "    .dataframe tbody tr th:only-of-type {\n",
              "        vertical-align: middle;\n",
              "    }\n",
              "\n",
              "    .dataframe tbody tr th {\n",
              "        vertical-align: top;\n",
              "    }\n",
              "\n",
              "    .dataframe thead th {\n",
              "        text-align: right;\n",
              "    }\n",
              "</style>\n",
              "<table border=\"1\" class=\"dataframe\">\n",
              "  <thead>\n",
              "    <tr style=\"text-align: right;\">\n",
              "      <th></th>\n",
              "      <th>state</th>\n",
              "      <th>pop</th>\n",
              "      <th>year</th>\n",
              "    </tr>\n",
              "  </thead>\n",
              "  <tbody>\n",
              "    <tr>\n",
              "      <th>0</th>\n",
              "      <td>Ohio</td>\n",
              "      <td>1.5</td>\n",
              "      <td>2000</td>\n",
              "    </tr>\n",
              "    <tr>\n",
              "      <th>1</th>\n",
              "      <td>Ohio</td>\n",
              "      <td>1.7</td>\n",
              "      <td>2001</td>\n",
              "    </tr>\n",
              "    <tr>\n",
              "      <th>2</th>\n",
              "      <td>Ohio</td>\n",
              "      <td>3.6</td>\n",
              "      <td>2002</td>\n",
              "    </tr>\n",
              "    <tr>\n",
              "      <th>3</th>\n",
              "      <td>Nevada</td>\n",
              "      <td>2.4</td>\n",
              "      <td>2001</td>\n",
              "    </tr>\n",
              "    <tr>\n",
              "      <th>4</th>\n",
              "      <td>Nevada</td>\n",
              "      <td>2.9</td>\n",
              "      <td>2002</td>\n",
              "    </tr>\n",
              "    <tr>\n",
              "      <th>5</th>\n",
              "      <td>Nevada</td>\n",
              "      <td>3.2</td>\n",
              "      <td>2003</td>\n",
              "    </tr>\n",
              "  </tbody>\n",
              "</table>\n",
              "</div>"
            ],
            "text/plain": [
              "    state  pop  year\n",
              "0    Ohio  1.5  2000\n",
              "1    Ohio  1.7  2001\n",
              "2    Ohio  3.6  2002\n",
              "3  Nevada  2.4  2001\n",
              "4  Nevada  2.9  2002\n",
              "5  Nevada  3.2  2003"
            ]
          },
          "execution_count": 43,
          "metadata": {},
          "output_type": "execute_result"
        }
      ],
      "source": [
        "# 만약 원하는 순서대로 columns를 지정하고 싶다면 columns를 지정해주면 된다.\n",
        "# 엑셀에서 칼럼 옮기기\n",
        "pd.DataFrame(data, columns=['state', 'pop','year'])"
      ]
    },
    {
      "cell_type": "code",
      "execution_count": 44,
      "metadata": {
        "colab": {
          "base_uri": "https://localhost:8080/",
          "height": 238
        },
        "id": "SruD4A75I118",
        "outputId": "b2f23fe8-01e4-45a8-b1f0-a97b14a643ef"
      },
      "outputs": [
        {
          "data": {
            "text/html": [
              "<div>\n",
              "<style scoped>\n",
              "    .dataframe tbody tr th:only-of-type {\n",
              "        vertical-align: middle;\n",
              "    }\n",
              "\n",
              "    .dataframe tbody tr th {\n",
              "        vertical-align: top;\n",
              "    }\n",
              "\n",
              "    .dataframe thead th {\n",
              "        text-align: right;\n",
              "    }\n",
              "</style>\n",
              "<table border=\"1\" class=\"dataframe\">\n",
              "  <thead>\n",
              "    <tr style=\"text-align: right;\">\n",
              "      <th></th>\n",
              "      <th>year</th>\n",
              "      <th>state</th>\n",
              "      <th>pop</th>\n",
              "      <th>debt</th>\n",
              "    </tr>\n",
              "  </thead>\n",
              "  <tbody>\n",
              "    <tr>\n",
              "      <th>one</th>\n",
              "      <td>2000</td>\n",
              "      <td>Ohio</td>\n",
              "      <td>1.5</td>\n",
              "      <td>NaN</td>\n",
              "    </tr>\n",
              "    <tr>\n",
              "      <th>two</th>\n",
              "      <td>2001</td>\n",
              "      <td>Ohio</td>\n",
              "      <td>1.7</td>\n",
              "      <td>NaN</td>\n",
              "    </tr>\n",
              "    <tr>\n",
              "      <th>three</th>\n",
              "      <td>2002</td>\n",
              "      <td>Ohio</td>\n",
              "      <td>3.6</td>\n",
              "      <td>NaN</td>\n",
              "    </tr>\n",
              "    <tr>\n",
              "      <th>four</th>\n",
              "      <td>2001</td>\n",
              "      <td>Nevada</td>\n",
              "      <td>2.4</td>\n",
              "      <td>NaN</td>\n",
              "    </tr>\n",
              "    <tr>\n",
              "      <th>five</th>\n",
              "      <td>2002</td>\n",
              "      <td>Nevada</td>\n",
              "      <td>2.9</td>\n",
              "      <td>NaN</td>\n",
              "    </tr>\n",
              "    <tr>\n",
              "      <th>six</th>\n",
              "      <td>2003</td>\n",
              "      <td>Nevada</td>\n",
              "      <td>3.2</td>\n",
              "      <td>NaN</td>\n",
              "    </tr>\n",
              "  </tbody>\n",
              "</table>\n",
              "</div>"
            ],
            "text/plain": [
              "       year   state  pop debt\n",
              "one    2000    Ohio  1.5  NaN\n",
              "two    2001    Ohio  1.7  NaN\n",
              "three  2002    Ohio  3.6  NaN\n",
              "four   2001  Nevada  2.4  NaN\n",
              "five   2002  Nevada  2.9  NaN\n",
              "six    2003  Nevada  3.2  NaN"
            ]
          },
          "execution_count": 44,
          "metadata": {},
          "output_type": "execute_result"
        }
      ],
      "source": [
        "# index 값을 숫자로만 넣을 수 있다는 편견을 버리자.\n",
        "# 없는 Key 값이 있으면 새로 만들고 값이 없으면 NaN으로 채운다.\n",
        "\n",
        "frame2 = pd.DataFrame(data, columns=['year', 'state', 'pop', 'debt'],\n",
        "                      index=['one', 'two', 'three', 'four',\n",
        "                             'five', 'six'])\n",
        "frame2"
      ]
    },
    {
      "cell_type": "code",
      "execution_count": 45,
      "metadata": {
        "colab": {
          "base_uri": "https://localhost:8080/"
        },
        "id": "0QbNc990I119",
        "outputId": "3e3b3051-52c3-448c-99ca-56b9912d0bf4"
      },
      "outputs": [
        {
          "data": {
            "text/plain": [
              "Index(['year', 'state', 'pop', 'debt'], dtype='object')"
            ]
          },
          "execution_count": 45,
          "metadata": {},
          "output_type": "execute_result"
        }
      ],
      "source": [
        "frame2.columns"
      ]
    },
    {
      "cell_type": "code",
      "execution_count": 48,
      "metadata": {
        "colab": {
          "base_uri": "https://localhost:8080/"
        },
        "id": "HxvGhebZI119",
        "outputId": "aa7557c8-801e-4476-c30b-b9023192fa5d"
      },
      "outputs": [
        {
          "data": {
            "text/plain": [
              "one      2000\n",
              "two      2001\n",
              "three    2002\n",
              "four     2001\n",
              "five     2002\n",
              "six      2003\n",
              "Name: year, dtype: int64"
            ]
          },
          "execution_count": 48,
          "metadata": {},
          "output_type": "execute_result"
        }
      ],
      "source": [
        "# frame2['state']\n",
        "frame2.year # 주석 없애고 이 코드도 실행시켜 보자.\n"
      ]
    },
    {
      "cell_type": "code",
      "execution_count": 62,
      "metadata": {
        "colab": {
          "base_uri": "https://localhost:8080/"
        },
        "id": "ouGbimTsI119",
        "outputId": "16bb779d-2fed-4764-96cf-6a381cb2e092"
      },
      "outputs": [
        {
          "data": {
            "text/html": [
              "<div>\n",
              "<style scoped>\n",
              "    .dataframe tbody tr th:only-of-type {\n",
              "        vertical-align: middle;\n",
              "    }\n",
              "\n",
              "    .dataframe tbody tr th {\n",
              "        vertical-align: top;\n",
              "    }\n",
              "\n",
              "    .dataframe thead th {\n",
              "        text-align: right;\n",
              "    }\n",
              "</style>\n",
              "<table border=\"1\" class=\"dataframe\">\n",
              "  <thead>\n",
              "    <tr style=\"text-align: right;\">\n",
              "      <th></th>\n",
              "      <th>state</th>\n",
              "      <th>pop</th>\n",
              "    </tr>\n",
              "  </thead>\n",
              "  <tbody>\n",
              "    <tr>\n",
              "      <th>one</th>\n",
              "      <td>Ohio</td>\n",
              "      <td>1.5</td>\n",
              "    </tr>\n",
              "    <tr>\n",
              "      <th>two</th>\n",
              "      <td>Ohio</td>\n",
              "      <td>1.7</td>\n",
              "    </tr>\n",
              "    <tr>\n",
              "      <th>three</th>\n",
              "      <td>Ohio</td>\n",
              "      <td>3.6</td>\n",
              "    </tr>\n",
              "    <tr>\n",
              "      <th>four</th>\n",
              "      <td>Nevada</td>\n",
              "      <td>2.4</td>\n",
              "    </tr>\n",
              "  </tbody>\n",
              "</table>\n",
              "</div>"
            ],
            "text/plain": [
              "        state  pop\n",
              "one      Ohio  1.5\n",
              "two      Ohio  1.7\n",
              "three    Ohio  3.6\n",
              "four   Nevada  2.4"
            ]
          },
          "execution_count": 62,
          "metadata": {},
          "output_type": "execute_result"
        }
      ],
      "source": [
        "# loc 의 사용 방법을 주목해라. 메소드를 사용하는 것이 아니라 속성처럼 사용한다.\n",
        "# loc 는 index를 기준으로 값을 찾는다. 그래서 index가 없으면 에러가 난다.\n",
        "frame2.loc['one':'four', 'state':'pop']\n",
        "\n"
      ]
    },
    {
      "cell_type": "code",
      "execution_count": 63,
      "metadata": {},
      "outputs": [
        {
          "data": {
            "text/html": [
              "<div>\n",
              "<style scoped>\n",
              "    .dataframe tbody tr th:only-of-type {\n",
              "        vertical-align: middle;\n",
              "    }\n",
              "\n",
              "    .dataframe tbody tr th {\n",
              "        vertical-align: top;\n",
              "    }\n",
              "\n",
              "    .dataframe thead th {\n",
              "        text-align: right;\n",
              "    }\n",
              "</style>\n",
              "<table border=\"1\" class=\"dataframe\">\n",
              "  <thead>\n",
              "    <tr style=\"text-align: right;\">\n",
              "      <th></th>\n",
              "      <th>year</th>\n",
              "      <th>state</th>\n",
              "      <th>pop</th>\n",
              "      <th>debt</th>\n",
              "    </tr>\n",
              "  </thead>\n",
              "  <tbody>\n",
              "    <tr>\n",
              "      <th>one</th>\n",
              "      <td>2000</td>\n",
              "      <td>Ohio</td>\n",
              "      <td>1.5</td>\n",
              "      <td>NaN</td>\n",
              "    </tr>\n",
              "    <tr>\n",
              "      <th>two</th>\n",
              "      <td>2001</td>\n",
              "      <td>Ohio</td>\n",
              "      <td>1.7</td>\n",
              "      <td>NaN</td>\n",
              "    </tr>\n",
              "    <tr>\n",
              "      <th>three</th>\n",
              "      <td>2002</td>\n",
              "      <td>Ohio</td>\n",
              "      <td>3.6</td>\n",
              "      <td>NaN</td>\n",
              "    </tr>\n",
              "    <tr>\n",
              "      <th>four</th>\n",
              "      <td>2001</td>\n",
              "      <td>Nevada</td>\n",
              "      <td>2.4</td>\n",
              "      <td>NaN</td>\n",
              "    </tr>\n",
              "    <tr>\n",
              "      <th>five</th>\n",
              "      <td>2002</td>\n",
              "      <td>Nevada</td>\n",
              "      <td>2.9</td>\n",
              "      <td>NaN</td>\n",
              "    </tr>\n",
              "    <tr>\n",
              "      <th>six</th>\n",
              "      <td>2003</td>\n",
              "      <td>Nevada</td>\n",
              "      <td>3.2</td>\n",
              "      <td>NaN</td>\n",
              "    </tr>\n",
              "  </tbody>\n",
              "</table>\n",
              "</div>"
            ],
            "text/plain": [
              "       year   state  pop debt\n",
              "one    2000    Ohio  1.5  NaN\n",
              "two    2001    Ohio  1.7  NaN\n",
              "three  2002    Ohio  3.6  NaN\n",
              "four   2001  Nevada  2.4  NaN\n",
              "five   2002  Nevada  2.9  NaN\n",
              "six    2003  Nevada  3.2  NaN"
            ]
          },
          "execution_count": 63,
          "metadata": {},
          "output_type": "execute_result"
        }
      ],
      "source": [
        "frame2"
      ]
    },
    {
      "cell_type": "code",
      "execution_count": 77,
      "metadata": {
        "colab": {
          "base_uri": "https://localhost:8080/",
          "height": 238
        },
        "id": "XGxro4RdI119",
        "outputId": "0df3dc2a-c2fb-480f-80e7-766ff64294e2"
      },
      "outputs": [
        {
          "data": {
            "text/plain": [
              "one      1.5\n",
              "two      1.7\n",
              "three    3.6\n",
              "four     2.4\n",
              "five     2.9\n",
              "six      3.2\n",
              "Name: pop, dtype: float64"
            ]
          },
          "execution_count": 77,
          "metadata": {},
          "output_type": "execute_result"
        }
      ],
      "source": [
        "# 냅다 값을 넣으면 해당 컬럼에 모든 값이 그 값으로 채워진다.\n",
        "frame2['pop']\n"
      ]
    },
    {
      "cell_type": "code",
      "execution_count": 70,
      "metadata": {
        "colab": {
          "base_uri": "https://localhost:8080/",
          "height": 238
        },
        "id": "qApavndkI11-",
        "outputId": "2efc6869-e401-4cb8-c65d-ccdf4d0b1d1c"
      },
      "outputs": [
        {
          "data": {
            "text/html": [
              "<div>\n",
              "<style scoped>\n",
              "    .dataframe tbody tr th:only-of-type {\n",
              "        vertical-align: middle;\n",
              "    }\n",
              "\n",
              "    .dataframe tbody tr th {\n",
              "        vertical-align: top;\n",
              "    }\n",
              "\n",
              "    .dataframe thead th {\n",
              "        text-align: right;\n",
              "    }\n",
              "</style>\n",
              "<table border=\"1\" class=\"dataframe\">\n",
              "  <thead>\n",
              "    <tr style=\"text-align: right;\">\n",
              "      <th></th>\n",
              "      <th>year</th>\n",
              "      <th>state</th>\n",
              "      <th>pop</th>\n",
              "      <th>debt</th>\n",
              "    </tr>\n",
              "  </thead>\n",
              "  <tbody>\n",
              "    <tr>\n",
              "      <th>one</th>\n",
              "      <td>2000</td>\n",
              "      <td>Ohio</td>\n",
              "      <td>1.5</td>\n",
              "      <td>0</td>\n",
              "    </tr>\n",
              "    <tr>\n",
              "      <th>two</th>\n",
              "      <td>2001</td>\n",
              "      <td>Ohio</td>\n",
              "      <td>1.7</td>\n",
              "      <td>1</td>\n",
              "    </tr>\n",
              "    <tr>\n",
              "      <th>three</th>\n",
              "      <td>2002</td>\n",
              "      <td>Ohio</td>\n",
              "      <td>3.6</td>\n",
              "      <td>2</td>\n",
              "    </tr>\n",
              "    <tr>\n",
              "      <th>four</th>\n",
              "      <td>2001</td>\n",
              "      <td>Nevada</td>\n",
              "      <td>2.4</td>\n",
              "      <td>3</td>\n",
              "    </tr>\n",
              "    <tr>\n",
              "      <th>five</th>\n",
              "      <td>2002</td>\n",
              "      <td>Nevada</td>\n",
              "      <td>2.9</td>\n",
              "      <td>4</td>\n",
              "    </tr>\n",
              "    <tr>\n",
              "      <th>six</th>\n",
              "      <td>2003</td>\n",
              "      <td>Nevada</td>\n",
              "      <td>3.2</td>\n",
              "      <td>5</td>\n",
              "    </tr>\n",
              "  </tbody>\n",
              "</table>\n",
              "</div>"
            ],
            "text/plain": [
              "       year   state  pop  debt\n",
              "one    2000    Ohio  1.5     0\n",
              "two    2001    Ohio  1.7     1\n",
              "three  2002    Ohio  3.6     2\n",
              "four   2001  Nevada  2.4     3\n",
              "five   2002  Nevada  2.9     4\n",
              "six    2003  Nevada  3.2     5"
            ]
          },
          "execution_count": 70,
          "metadata": {},
          "output_type": "execute_result"
        }
      ],
      "source": [
        "# 리스트나 배열을 넣으면 전체에 대입한다. \n",
        "frame2['debt'] = range(len(frame2))\n",
        "frame2"
      ]
    },
    {
      "cell_type": "code",
      "execution_count": 80,
      "metadata": {
        "colab": {
          "base_uri": "https://localhost:8080/",
          "height": 238
        },
        "id": "NFlEuDDCI11-",
        "outputId": "c964454a-3dcb-462b-e84d-eeb6c87277b7"
      },
      "outputs": [
        {
          "data": {
            "text/html": [
              "<div>\n",
              "<style scoped>\n",
              "    .dataframe tbody tr th:only-of-type {\n",
              "        vertical-align: middle;\n",
              "    }\n",
              "\n",
              "    .dataframe tbody tr th {\n",
              "        vertical-align: top;\n",
              "    }\n",
              "\n",
              "    .dataframe thead th {\n",
              "        text-align: right;\n",
              "    }\n",
              "</style>\n",
              "<table border=\"1\" class=\"dataframe\">\n",
              "  <thead>\n",
              "    <tr style=\"text-align: right;\">\n",
              "      <th></th>\n",
              "      <th>year</th>\n",
              "      <th>state</th>\n",
              "      <th>pop</th>\n",
              "      <th>debt</th>\n",
              "      <th>pop1000</th>\n",
              "    </tr>\n",
              "  </thead>\n",
              "  <tbody>\n",
              "    <tr>\n",
              "      <th>one</th>\n",
              "      <td>2000</td>\n",
              "      <td>Ohio</td>\n",
              "      <td>1.5</td>\n",
              "      <td>NaN</td>\n",
              "      <td>1500.0</td>\n",
              "    </tr>\n",
              "    <tr>\n",
              "      <th>two</th>\n",
              "      <td>2001</td>\n",
              "      <td>Ohio</td>\n",
              "      <td>1.7</td>\n",
              "      <td>-1.2</td>\n",
              "      <td>1700.0</td>\n",
              "    </tr>\n",
              "    <tr>\n",
              "      <th>three</th>\n",
              "      <td>2002</td>\n",
              "      <td>Ohio</td>\n",
              "      <td>3.6</td>\n",
              "      <td>NaN</td>\n",
              "      <td>3600.0</td>\n",
              "    </tr>\n",
              "    <tr>\n",
              "      <th>four</th>\n",
              "      <td>2001</td>\n",
              "      <td>Nevada</td>\n",
              "      <td>2.4</td>\n",
              "      <td>-1.5</td>\n",
              "      <td>2400.0</td>\n",
              "    </tr>\n",
              "    <tr>\n",
              "      <th>five</th>\n",
              "      <td>2002</td>\n",
              "      <td>Nevada</td>\n",
              "      <td>2.9</td>\n",
              "      <td>-1.7</td>\n",
              "      <td>2900.0</td>\n",
              "    </tr>\n",
              "    <tr>\n",
              "      <th>six</th>\n",
              "      <td>2003</td>\n",
              "      <td>Nevada</td>\n",
              "      <td>3.2</td>\n",
              "      <td>NaN</td>\n",
              "      <td>3200.0</td>\n",
              "    </tr>\n",
              "  </tbody>\n",
              "</table>\n",
              "</div>"
            ],
            "text/plain": [
              "       year   state  pop  debt  pop1000\n",
              "one    2000    Ohio  1.5   NaN   1500.0\n",
              "two    2001    Ohio  1.7  -1.2   1700.0\n",
              "three  2002    Ohio  3.6   NaN   3600.0\n",
              "four   2001  Nevada  2.4  -1.5   2400.0\n",
              "five   2002  Nevada  2.9  -1.7   2900.0\n",
              "six    2003  Nevada  3.2   NaN   3200.0"
            ]
          },
          "execution_count": 80,
          "metadata": {},
          "output_type": "execute_result"
        }
      ],
      "source": [
        "# Series를 넣으면 index에 맞춰서 대입한다. 없는 index는 NaN으로 채운다.\n",
        "val = pd.Series([-1.2, -1.5, -1.7], index=['two', 'four', 'five'])\n",
        "frame2['debt'] = val\n",
        "frame2"
      ]
    },
    {
      "cell_type": "code",
      "execution_count": 83,
      "metadata": {},
      "outputs": [
        {
          "data": {
            "text/plain": [
              "one       True\n",
              "two       True\n",
              "three     True\n",
              "four     False\n",
              "five     False\n",
              "six      False\n",
              "Name: state, dtype: bool"
            ]
          },
          "execution_count": 83,
          "metadata": {},
          "output_type": "execute_result"
        }
      ],
      "source": [
        "frame2.state == 'Ohio'"
      ]
    },
    {
      "cell_type": "code",
      "execution_count": 81,
      "metadata": {
        "colab": {
          "base_uri": "https://localhost:8080/",
          "height": 238
        },
        "id": "0dGeSPLOI11-",
        "outputId": "53ec18f8-632e-4ebf-cfdc-e7b41ab44c75"
      },
      "outputs": [
        {
          "data": {
            "text/html": [
              "<div>\n",
              "<style scoped>\n",
              "    .dataframe tbody tr th:only-of-type {\n",
              "        vertical-align: middle;\n",
              "    }\n",
              "\n",
              "    .dataframe tbody tr th {\n",
              "        vertical-align: top;\n",
              "    }\n",
              "\n",
              "    .dataframe thead th {\n",
              "        text-align: right;\n",
              "    }\n",
              "</style>\n",
              "<table border=\"1\" class=\"dataframe\">\n",
              "  <thead>\n",
              "    <tr style=\"text-align: right;\">\n",
              "      <th></th>\n",
              "      <th>year</th>\n",
              "      <th>state</th>\n",
              "      <th>pop</th>\n",
              "      <th>debt</th>\n",
              "      <th>pop1000</th>\n",
              "      <th>eastern</th>\n",
              "    </tr>\n",
              "  </thead>\n",
              "  <tbody>\n",
              "    <tr>\n",
              "      <th>one</th>\n",
              "      <td>2000</td>\n",
              "      <td>Ohio</td>\n",
              "      <td>1.5</td>\n",
              "      <td>NaN</td>\n",
              "      <td>1500.0</td>\n",
              "      <td>True</td>\n",
              "    </tr>\n",
              "    <tr>\n",
              "      <th>two</th>\n",
              "      <td>2001</td>\n",
              "      <td>Ohio</td>\n",
              "      <td>1.7</td>\n",
              "      <td>-1.2</td>\n",
              "      <td>1700.0</td>\n",
              "      <td>True</td>\n",
              "    </tr>\n",
              "    <tr>\n",
              "      <th>three</th>\n",
              "      <td>2002</td>\n",
              "      <td>Ohio</td>\n",
              "      <td>3.6</td>\n",
              "      <td>NaN</td>\n",
              "      <td>3600.0</td>\n",
              "      <td>True</td>\n",
              "    </tr>\n",
              "    <tr>\n",
              "      <th>four</th>\n",
              "      <td>2001</td>\n",
              "      <td>Nevada</td>\n",
              "      <td>2.4</td>\n",
              "      <td>-1.5</td>\n",
              "      <td>2400.0</td>\n",
              "      <td>False</td>\n",
              "    </tr>\n",
              "    <tr>\n",
              "      <th>five</th>\n",
              "      <td>2002</td>\n",
              "      <td>Nevada</td>\n",
              "      <td>2.9</td>\n",
              "      <td>-1.7</td>\n",
              "      <td>2900.0</td>\n",
              "      <td>False</td>\n",
              "    </tr>\n",
              "    <tr>\n",
              "      <th>six</th>\n",
              "      <td>2003</td>\n",
              "      <td>Nevada</td>\n",
              "      <td>3.2</td>\n",
              "      <td>NaN</td>\n",
              "      <td>3200.0</td>\n",
              "      <td>False</td>\n",
              "    </tr>\n",
              "  </tbody>\n",
              "</table>\n",
              "</div>"
            ],
            "text/plain": [
              "       year   state  pop  debt  pop1000  eastern\n",
              "one    2000    Ohio  1.5   NaN   1500.0     True\n",
              "two    2001    Ohio  1.7  -1.2   1700.0     True\n",
              "three  2002    Ohio  3.6   NaN   3600.0     True\n",
              "four   2001  Nevada  2.4  -1.5   2400.0    False\n",
              "five   2002  Nevada  2.9  -1.7   2900.0    False\n",
              "six    2003  Nevada  3.2   NaN   3200.0    False"
            ]
          },
          "execution_count": 81,
          "metadata": {},
          "output_type": "execute_result"
        }
      ],
      "source": [
        "# 조건 연산을 통해서 값을 집어 넣는 경우\n",
        "frame2['eastern'] = frame2.state == 'Ohio'\n",
        "frame2"
      ]
    },
    {
      "cell_type": "code",
      "execution_count": 85,
      "metadata": {
        "colab": {
          "base_uri": "https://localhost:8080/"
        },
        "id": "5MacIFW2I11-",
        "outputId": "b953db0e-45b4-458f-b1e7-8435cae15255"
      },
      "outputs": [
        {
          "data": {
            "text/plain": [
              "Index(['year', 'state', 'pop', 'debt'], dtype='object')"
            ]
          },
          "execution_count": 85,
          "metadata": {},
          "output_type": "execute_result"
        }
      ],
      "source": [
        "del frame2['pop1000']\n",
        "frame2.columns"
      ]
    },
    {
      "cell_type": "code",
      "execution_count": 86,
      "metadata": {
        "id": "OtOeN2SII11-"
      },
      "outputs": [],
      "source": [
        "pop = {'Nevada': {2001: 2.4, 2002: 2.9},\n",
        "       'Ohio': {2000: 1.5, 2001: 1.7, 2002: 3.6}}"
      ]
    },
    {
      "cell_type": "code",
      "execution_count": 88,
      "metadata": {
        "colab": {
          "base_uri": "https://localhost:8080/",
          "height": 143
        },
        "id": "D7CXv_xdI11-",
        "outputId": "ae3f739a-c64e-4eb0-c03e-aa0dbe5b7f00"
      },
      "outputs": [
        {
          "data": {
            "text/html": [
              "<div>\n",
              "<style scoped>\n",
              "    .dataframe tbody tr th:only-of-type {\n",
              "        vertical-align: middle;\n",
              "    }\n",
              "\n",
              "    .dataframe tbody tr th {\n",
              "        vertical-align: top;\n",
              "    }\n",
              "\n",
              "    .dataframe thead th {\n",
              "        text-align: right;\n",
              "    }\n",
              "</style>\n",
              "<table border=\"1\" class=\"dataframe\">\n",
              "  <thead>\n",
              "    <tr style=\"text-align: right;\">\n",
              "      <th></th>\n",
              "      <th>Nevada</th>\n",
              "      <th>Ohio</th>\n",
              "    </tr>\n",
              "  </thead>\n",
              "  <tbody>\n",
              "    <tr>\n",
              "      <th>2001</th>\n",
              "      <td>2.4</td>\n",
              "      <td>1.7</td>\n",
              "    </tr>\n",
              "    <tr>\n",
              "      <th>2002</th>\n",
              "      <td>2.9</td>\n",
              "      <td>3.6</td>\n",
              "    </tr>\n",
              "    <tr>\n",
              "      <th>2000</th>\n",
              "      <td>NaN</td>\n",
              "      <td>1.5</td>\n",
              "    </tr>\n",
              "  </tbody>\n",
              "</table>\n",
              "</div>"
            ],
            "text/plain": [
              "      Nevada  Ohio\n",
              "2001     2.4   1.7\n",
              "2002     2.9   3.6\n",
              "2000     NaN   1.5"
            ]
          },
          "execution_count": 88,
          "metadata": {},
          "output_type": "execute_result"
        }
      ],
      "source": [
        "frame3 = pd.DataFrame(pop)\n",
        "frame3"
      ]
    },
    {
      "cell_type": "code",
      "execution_count": 89,
      "metadata": {
        "colab": {
          "base_uri": "https://localhost:8080/",
          "height": 112
        },
        "id": "wytPFdJvI11_",
        "outputId": "6ffa55a0-4ffa-49dc-a274-31162c2a3793"
      },
      "outputs": [
        {
          "data": {
            "text/html": [
              "<div>\n",
              "<style scoped>\n",
              "    .dataframe tbody tr th:only-of-type {\n",
              "        vertical-align: middle;\n",
              "    }\n",
              "\n",
              "    .dataframe tbody tr th {\n",
              "        vertical-align: top;\n",
              "    }\n",
              "\n",
              "    .dataframe thead th {\n",
              "        text-align: right;\n",
              "    }\n",
              "</style>\n",
              "<table border=\"1\" class=\"dataframe\">\n",
              "  <thead>\n",
              "    <tr style=\"text-align: right;\">\n",
              "      <th></th>\n",
              "      <th>2001</th>\n",
              "      <th>2002</th>\n",
              "      <th>2000</th>\n",
              "    </tr>\n",
              "  </thead>\n",
              "  <tbody>\n",
              "    <tr>\n",
              "      <th>Nevada</th>\n",
              "      <td>2.4</td>\n",
              "      <td>2.9</td>\n",
              "      <td>NaN</td>\n",
              "    </tr>\n",
              "    <tr>\n",
              "      <th>Ohio</th>\n",
              "      <td>1.7</td>\n",
              "      <td>3.6</td>\n",
              "      <td>1.5</td>\n",
              "    </tr>\n",
              "  </tbody>\n",
              "</table>\n",
              "</div>"
            ],
            "text/plain": [
              "        2001  2002  2000\n",
              "Nevada   2.4   2.9   NaN\n",
              "Ohio     1.7   3.6   1.5"
            ]
          },
          "execution_count": 89,
          "metadata": {},
          "output_type": "execute_result"
        }
      ],
      "source": [
        "# transpose 로 행과 열을 바꿀 수 있다.\n",
        "frame3.T"
      ]
    },
    {
      "cell_type": "code",
      "execution_count": 90,
      "metadata": {
        "colab": {
          "base_uri": "https://localhost:8080/",
          "height": 143
        },
        "id": "POqh5GXYI11_",
        "outputId": "718d48ec-94af-4bf5-cc04-574edb58c667"
      },
      "outputs": [
        {
          "data": {
            "text/html": [
              "<div>\n",
              "<style scoped>\n",
              "    .dataframe tbody tr th:only-of-type {\n",
              "        vertical-align: middle;\n",
              "    }\n",
              "\n",
              "    .dataframe tbody tr th {\n",
              "        vertical-align: top;\n",
              "    }\n",
              "\n",
              "    .dataframe thead th {\n",
              "        text-align: right;\n",
              "    }\n",
              "</style>\n",
              "<table border=\"1\" class=\"dataframe\">\n",
              "  <thead>\n",
              "    <tr style=\"text-align: right;\">\n",
              "      <th></th>\n",
              "      <th>Nevada</th>\n",
              "      <th>Ohio</th>\n",
              "    </tr>\n",
              "  </thead>\n",
              "  <tbody>\n",
              "    <tr>\n",
              "      <th>2001</th>\n",
              "      <td>2.4</td>\n",
              "      <td>1.7</td>\n",
              "    </tr>\n",
              "    <tr>\n",
              "      <th>2002</th>\n",
              "      <td>2.9</td>\n",
              "      <td>3.6</td>\n",
              "    </tr>\n",
              "    <tr>\n",
              "      <th>2003</th>\n",
              "      <td>NaN</td>\n",
              "      <td>NaN</td>\n",
              "    </tr>\n",
              "  </tbody>\n",
              "</table>\n",
              "</div>"
            ],
            "text/plain": [
              "      Nevada  Ohio\n",
              "2001     2.4   1.7\n",
              "2002     2.9   3.6\n",
              "2003     NaN   NaN"
            ]
          },
          "execution_count": 90,
          "metadata": {},
          "output_type": "execute_result"
        }
      ],
      "source": [
        "# index가 없는 값으로 만들면, NaN으로 채워진다. \n",
        "# 데이터에 다른 길이를 추가 했을 때와는 다른 상황이다.\n",
        "pd.DataFrame(pop, index=[2001, 2002, 2003])"
      ]
    },
    {
      "cell_type": "code",
      "execution_count": 94,
      "metadata": {},
      "outputs": [
        {
          "data": {
            "text/plain": [
              "2001    1.7\n",
              "2002    3.6\n",
              "Name: Ohio, dtype: float64"
            ]
          },
          "execution_count": 94,
          "metadata": {},
          "output_type": "execute_result"
        }
      ],
      "source": [
        "frame3['Ohio'][:-1]"
      ]
    },
    {
      "cell_type": "code",
      "execution_count": 95,
      "metadata": {
        "colab": {
          "base_uri": "https://localhost:8080/",
          "height": 112
        },
        "id": "n3jvxxdJI11_",
        "outputId": "68f6d389-138d-4997-ecfd-b0720fcc15c1"
      },
      "outputs": [
        {
          "data": {
            "text/html": [
              "<div>\n",
              "<style scoped>\n",
              "    .dataframe tbody tr th:only-of-type {\n",
              "        vertical-align: middle;\n",
              "    }\n",
              "\n",
              "    .dataframe tbody tr th {\n",
              "        vertical-align: top;\n",
              "    }\n",
              "\n",
              "    .dataframe thead th {\n",
              "        text-align: right;\n",
              "    }\n",
              "</style>\n",
              "<table border=\"1\" class=\"dataframe\">\n",
              "  <thead>\n",
              "    <tr style=\"text-align: right;\">\n",
              "      <th></th>\n",
              "      <th>Ohio</th>\n",
              "      <th>Nevada</th>\n",
              "    </tr>\n",
              "  </thead>\n",
              "  <tbody>\n",
              "    <tr>\n",
              "      <th>2001</th>\n",
              "      <td>1.7</td>\n",
              "      <td>2.4</td>\n",
              "    </tr>\n",
              "    <tr>\n",
              "      <th>2002</th>\n",
              "      <td>3.6</td>\n",
              "      <td>2.9</td>\n",
              "    </tr>\n",
              "  </tbody>\n",
              "</table>\n",
              "</div>"
            ],
            "text/plain": [
              "      Ohio  Nevada\n",
              "2001   1.7     2.4\n",
              "2002   3.6     2.9"
            ]
          },
          "execution_count": 95,
          "metadata": {},
          "output_type": "execute_result"
        }
      ],
      "source": [
        "# 리스트 슬라이싱 하듯이 \n",
        "pdata = {'Ohio': frame3['Ohio'][:-1],\n",
        "         'Nevada': frame3['Nevada'][:2]}\n",
        "pd.DataFrame(pdata)"
      ]
    },
    {
      "cell_type": "code",
      "execution_count": 96,
      "metadata": {
        "colab": {
          "base_uri": "https://localhost:8080/",
          "height": 175
        },
        "id": "JSfVdpayI11_",
        "outputId": "729d458c-6880-4177-bb4e-d7c9797c7acd"
      },
      "outputs": [
        {
          "data": {
            "text/html": [
              "<div>\n",
              "<style scoped>\n",
              "    .dataframe tbody tr th:only-of-type {\n",
              "        vertical-align: middle;\n",
              "    }\n",
              "\n",
              "    .dataframe tbody tr th {\n",
              "        vertical-align: top;\n",
              "    }\n",
              "\n",
              "    .dataframe thead th {\n",
              "        text-align: right;\n",
              "    }\n",
              "</style>\n",
              "<table border=\"1\" class=\"dataframe\">\n",
              "  <thead>\n",
              "    <tr style=\"text-align: right;\">\n",
              "      <th>state</th>\n",
              "      <th>Nevada</th>\n",
              "      <th>Ohio</th>\n",
              "    </tr>\n",
              "    <tr>\n",
              "      <th>year</th>\n",
              "      <th></th>\n",
              "      <th></th>\n",
              "    </tr>\n",
              "  </thead>\n",
              "  <tbody>\n",
              "    <tr>\n",
              "      <th>2001</th>\n",
              "      <td>2.4</td>\n",
              "      <td>1.7</td>\n",
              "    </tr>\n",
              "    <tr>\n",
              "      <th>2002</th>\n",
              "      <td>2.9</td>\n",
              "      <td>3.6</td>\n",
              "    </tr>\n",
              "    <tr>\n",
              "      <th>2000</th>\n",
              "      <td>NaN</td>\n",
              "      <td>1.5</td>\n",
              "    </tr>\n",
              "  </tbody>\n",
              "</table>\n",
              "</div>"
            ],
            "text/plain": [
              "state  Nevada  Ohio\n",
              "year               \n",
              "2001      2.4   1.7\n",
              "2002      2.9   3.6\n",
              "2000      NaN   1.5"
            ]
          },
          "execution_count": 96,
          "metadata": {},
          "output_type": "execute_result"
        }
      ],
      "source": [
        "# index와 columns에 이름을 붙일 수 있다.\n",
        "\n",
        "frame3.index.name = 'year'\n",
        "frame3.columns.name = 'state'\n",
        "frame3"
      ]
    },
    {
      "cell_type": "code",
      "execution_count": 97,
      "metadata": {
        "colab": {
          "base_uri": "https://localhost:8080/"
        },
        "id": "jwoEt9jeI11_",
        "outputId": "71218297-d3e2-4a74-bf3b-9a5b8194d763"
      },
      "outputs": [
        {
          "data": {
            "text/plain": [
              "array([[2.4, 1.7],\n",
              "       [2.9, 3.6],\n",
              "       [nan, 1.5]])"
            ]
          },
          "execution_count": 97,
          "metadata": {},
          "output_type": "execute_result"
        }
      ],
      "source": [
        "frame3.values"
      ]
    },
    {
      "cell_type": "code",
      "execution_count": 98,
      "metadata": {
        "colab": {
          "base_uri": "https://localhost:8080/"
        },
        "id": "iYvdPGsSI11_",
        "outputId": "4722e58b-d30b-446b-fa17-784bb5de8880"
      },
      "outputs": [
        {
          "data": {
            "text/plain": [
              "array([[2000, 'Ohio', 1.5, nan],\n",
              "       [2001, 'Ohio', 1.7, -1.2],\n",
              "       [2002, 'Ohio', 3.6, nan],\n",
              "       [2001, 'Nevada', 2.4, -1.5],\n",
              "       [2002, 'Nevada', 2.9, -1.7],\n",
              "       [2003, 'Nevada', 3.2, nan]], dtype=object)"
            ]
          },
          "execution_count": 98,
          "metadata": {},
          "output_type": "execute_result"
        }
      ],
      "source": [
        "frame2.values"
      ]
    },
    {
      "cell_type": "markdown",
      "metadata": {
        "id": "k4xLPl1oI11_"
      },
      "source": [
        "#### 인덱스(Index)"
      ]
    },
    {
      "cell_type": "code",
      "execution_count": 113,
      "metadata": {
        "colab": {
          "base_uri": "https://localhost:8080/"
        },
        "id": "4eyReYbdI11_",
        "outputId": "a109ae6a-38e0-408f-d76a-caf2d7adf986"
      },
      "outputs": [
        {
          "data": {
            "text/plain": [
              "Index(['a', 'b', 'c'], dtype='object')"
            ]
          },
          "execution_count": 113,
          "metadata": {},
          "output_type": "execute_result"
        }
      ],
      "source": [
        "# 사실 index도 객체이다.\n",
        "obj = pd.Series(range(3), index=['a', 'b', 'c'])\n",
        "idx = obj.index\n",
        "idx\n",
        "# index 이름을 중복해서 쓸 수 있을까?"
      ]
    },
    {
      "cell_type": "code",
      "execution_count": 114,
      "metadata": {},
      "outputs": [
        {
          "data": {
            "text/plain": [
              "a    0\n",
              "b    1\n",
              "c    2\n",
              "dtype: int64"
            ]
          },
          "execution_count": 114,
          "metadata": {},
          "output_type": "execute_result"
        }
      ],
      "source": [
        "obj"
      ]
    },
    {
      "cell_type": "code",
      "execution_count": 103,
      "metadata": {
        "colab": {
          "base_uri": "https://localhost:8080/"
        },
        "id": "7NjJKtlDI12A",
        "outputId": "e328fb31-c346-4bc2-8ac1-d11b70dadc85"
      },
      "outputs": [
        {
          "data": {
            "text/plain": [
              "Index(['b', 'c'], dtype='object')"
            ]
          },
          "execution_count": 103,
          "metadata": {},
          "output_type": "execute_result"
        }
      ],
      "source": [
        "idx[1:]"
      ]
    },
    {
      "cell_type": "code",
      "execution_count": 109,
      "metadata": {},
      "outputs": [],
      "source": [
        "obj = obj.reindex(['a','d','c'])\n",
        "# TypeError 발생. 에러 메시지에 주목하자."
      ]
    },
    {
      "cell_type": "code",
      "execution_count": 111,
      "metadata": {},
      "outputs": [],
      "source": [
        "obj['d'] = 2"
      ]
    },
    {
      "cell_type": "code",
      "execution_count": 112,
      "metadata": {},
      "outputs": [
        {
          "data": {
            "text/plain": [
              "a    0.0\n",
              "d    2.0\n",
              "c    2.0\n",
              "dtype: float64"
            ]
          },
          "execution_count": 112,
          "metadata": {},
          "output_type": "execute_result"
        }
      ],
      "source": [
        "obj"
      ]
    },
    {
      "cell_type": "code",
      "execution_count": 105,
      "metadata": {
        "colab": {
          "base_uri": "https://localhost:8080/"
        },
        "id": "S7c6VvOmI12A",
        "outputId": "7e6e60a6-4d69-4403-f851-5cde032168ad"
      },
      "outputs": [
        {
          "data": {
            "text/plain": [
              "Index([0, 1, 2], dtype='int64')"
            ]
          },
          "execution_count": 105,
          "metadata": {},
          "output_type": "execute_result"
        }
      ],
      "source": [
        "# pd.Index를 이용하면 바로 index를 만들 수 있다.\n",
        "labels = pd.Index(np.arange(3))\n",
        "# labels = pd.Index(list(range(3)))\n",
        "labels"
      ]
    },
    {
      "cell_type": "code",
      "execution_count": 106,
      "metadata": {
        "colab": {
          "base_uri": "https://localhost:8080/"
        },
        "id": "MaMx_9jMI12A",
        "outputId": "2afdcb3d-a7f3-4329-e09b-f37ae1a28476"
      },
      "outputs": [
        {
          "data": {
            "text/plain": [
              "0    1.5\n",
              "1   -2.5\n",
              "2    0.0\n",
              "dtype: float64"
            ]
          },
          "execution_count": 106,
          "metadata": {},
          "output_type": "execute_result"
        }
      ],
      "source": [
        "obj2 = pd.Series([1.5, -2.5, 0], index=labels)\n",
        "obj2"
      ]
    },
    {
      "cell_type": "code",
      "execution_count": null,
      "metadata": {
        "colab": {
          "base_uri": "https://localhost:8080/"
        },
        "id": "TLinLH22I12A",
        "outputId": "a519345c-734b-4eb2-8b99-b6d342e507aa"
      },
      "outputs": [],
      "source": [
        "obj2.index is labels"
      ]
    },
    {
      "cell_type": "markdown",
      "metadata": {
        "id": "IRSXuhUcI12A"
      },
      "source": [
        "### 2. 필수 기능들"
      ]
    },
    {
      "cell_type": "code",
      "execution_count": 115,
      "metadata": {
        "colab": {
          "base_uri": "https://localhost:8080/",
          "height": 143
        },
        "id": "4WA0Ejp6I12B",
        "outputId": "6d73e485-aad2-4a6e-80c5-4778583db6d8"
      },
      "outputs": [
        {
          "data": {
            "text/html": [
              "<div>\n",
              "<style scoped>\n",
              "    .dataframe tbody tr th:only-of-type {\n",
              "        vertical-align: middle;\n",
              "    }\n",
              "\n",
              "    .dataframe tbody tr th {\n",
              "        vertical-align: top;\n",
              "    }\n",
              "\n",
              "    .dataframe thead th {\n",
              "        text-align: right;\n",
              "    }\n",
              "</style>\n",
              "<table border=\"1\" class=\"dataframe\">\n",
              "  <thead>\n",
              "    <tr style=\"text-align: right;\">\n",
              "      <th></th>\n",
              "      <th>Ohio</th>\n",
              "      <th>Texas</th>\n",
              "      <th>California</th>\n",
              "    </tr>\n",
              "  </thead>\n",
              "  <tbody>\n",
              "    <tr>\n",
              "      <th>a</th>\n",
              "      <td>0</td>\n",
              "      <td>1</td>\n",
              "      <td>2</td>\n",
              "    </tr>\n",
              "    <tr>\n",
              "      <th>c</th>\n",
              "      <td>3</td>\n",
              "      <td>4</td>\n",
              "      <td>5</td>\n",
              "    </tr>\n",
              "    <tr>\n",
              "      <th>d</th>\n",
              "      <td>6</td>\n",
              "      <td>7</td>\n",
              "      <td>8</td>\n",
              "    </tr>\n",
              "  </tbody>\n",
              "</table>\n",
              "</div>"
            ],
            "text/plain": [
              "   Ohio  Texas  California\n",
              "a     0      1           2\n",
              "c     3      4           5\n",
              "d     6      7           8"
            ]
          },
          "execution_count": 115,
          "metadata": {},
          "output_type": "execute_result"
        }
      ],
      "source": [
        "frame = pd.DataFrame(np.arange(9).reshape((3, 3)),\n",
        "                     index=['a', 'c', 'd'],\n",
        "                     columns=['Ohio', 'Texas', 'California'])\n",
        "frame\n"
      ]
    },
    {
      "cell_type": "code",
      "execution_count": 116,
      "metadata": {
        "colab": {
          "base_uri": "https://localhost:8080/",
          "height": 174
        },
        "id": "pTlqZwV8I12B",
        "outputId": "6cf44aff-7822-40cc-dc44-77de7b55b895"
      },
      "outputs": [
        {
          "data": {
            "text/html": [
              "<div>\n",
              "<style scoped>\n",
              "    .dataframe tbody tr th:only-of-type {\n",
              "        vertical-align: middle;\n",
              "    }\n",
              "\n",
              "    .dataframe tbody tr th {\n",
              "        vertical-align: top;\n",
              "    }\n",
              "\n",
              "    .dataframe thead th {\n",
              "        text-align: right;\n",
              "    }\n",
              "</style>\n",
              "<table border=\"1\" class=\"dataframe\">\n",
              "  <thead>\n",
              "    <tr style=\"text-align: right;\">\n",
              "      <th></th>\n",
              "      <th>Ohio</th>\n",
              "      <th>Texas</th>\n",
              "      <th>California</th>\n",
              "    </tr>\n",
              "  </thead>\n",
              "  <tbody>\n",
              "    <tr>\n",
              "      <th>a</th>\n",
              "      <td>0.0</td>\n",
              "      <td>1.0</td>\n",
              "      <td>2.0</td>\n",
              "    </tr>\n",
              "    <tr>\n",
              "      <th>b</th>\n",
              "      <td>NaN</td>\n",
              "      <td>NaN</td>\n",
              "      <td>NaN</td>\n",
              "    </tr>\n",
              "    <tr>\n",
              "      <th>c</th>\n",
              "      <td>3.0</td>\n",
              "      <td>4.0</td>\n",
              "      <td>5.0</td>\n",
              "    </tr>\n",
              "    <tr>\n",
              "      <th>d</th>\n",
              "      <td>6.0</td>\n",
              "      <td>7.0</td>\n",
              "      <td>8.0</td>\n",
              "    </tr>\n",
              "  </tbody>\n",
              "</table>\n",
              "</div>"
            ],
            "text/plain": [
              "   Ohio  Texas  California\n",
              "a   0.0    1.0         2.0\n",
              "b   NaN    NaN         NaN\n",
              "c   3.0    4.0         5.0\n",
              "d   6.0    7.0         8.0"
            ]
          },
          "execution_count": 116,
          "metadata": {},
          "output_type": "execute_result"
        }
      ],
      "source": [
        "# index는 mutable 하지 않았기 때문에, reindex 메소드를 사용해 줘야 한다.\n",
        "frame2 = frame.reindex(['a', 'b', 'c', 'd'])\n",
        "frame2"
      ]
    },
    {
      "cell_type": "code",
      "execution_count": 117,
      "metadata": {
        "colab": {
          "base_uri": "https://localhost:8080/",
          "height": 143
        },
        "id": "QPKku-SsI12B",
        "outputId": "c96bacd4-abbd-4cf8-f3ea-1512832acc23"
      },
      "outputs": [
        {
          "data": {
            "text/html": [
              "<div>\n",
              "<style scoped>\n",
              "    .dataframe tbody tr th:only-of-type {\n",
              "        vertical-align: middle;\n",
              "    }\n",
              "\n",
              "    .dataframe tbody tr th {\n",
              "        vertical-align: top;\n",
              "    }\n",
              "\n",
              "    .dataframe thead th {\n",
              "        text-align: right;\n",
              "    }\n",
              "</style>\n",
              "<table border=\"1\" class=\"dataframe\">\n",
              "  <thead>\n",
              "    <tr style=\"text-align: right;\">\n",
              "      <th></th>\n",
              "      <th>Texas</th>\n",
              "      <th>Utah</th>\n",
              "      <th>California</th>\n",
              "    </tr>\n",
              "  </thead>\n",
              "  <tbody>\n",
              "    <tr>\n",
              "      <th>a</th>\n",
              "      <td>1</td>\n",
              "      <td>NaN</td>\n",
              "      <td>2</td>\n",
              "    </tr>\n",
              "    <tr>\n",
              "      <th>c</th>\n",
              "      <td>4</td>\n",
              "      <td>NaN</td>\n",
              "      <td>5</td>\n",
              "    </tr>\n",
              "    <tr>\n",
              "      <th>d</th>\n",
              "      <td>7</td>\n",
              "      <td>NaN</td>\n",
              "      <td>8</td>\n",
              "    </tr>\n",
              "  </tbody>\n",
              "</table>\n",
              "</div>"
            ],
            "text/plain": [
              "   Texas  Utah  California\n",
              "a      1   NaN           2\n",
              "c      4   NaN           5\n",
              "d      7   NaN           8"
            ]
          },
          "execution_count": 117,
          "metadata": {},
          "output_type": "execute_result"
        }
      ],
      "source": [
        "states = ['Texas', 'Utah', 'California']\n",
        "frame.reindex(columns=states) # 사실 columns과 index는 같은 건데, 위치에 따라 이름만 다르다."
      ]
    },
    {
      "cell_type": "code",
      "execution_count": 123,
      "metadata": {
        "colab": {
          "base_uri": "https://localhost:8080/",
          "height": 174
        },
        "id": "GGUi6tygI12B",
        "outputId": "d0dc6ab8-96bd-41dc-aa9a-9a355978b1ce"
      },
      "outputs": [
        {
          "data": {
            "text/html": [
              "<div>\n",
              "<style scoped>\n",
              "    .dataframe tbody tr th:only-of-type {\n",
              "        vertical-align: middle;\n",
              "    }\n",
              "\n",
              "    .dataframe tbody tr th {\n",
              "        vertical-align: top;\n",
              "    }\n",
              "\n",
              "    .dataframe thead th {\n",
              "        text-align: right;\n",
              "    }\n",
              "</style>\n",
              "<table border=\"1\" class=\"dataframe\">\n",
              "  <thead>\n",
              "    <tr style=\"text-align: right;\">\n",
              "      <th></th>\n",
              "      <th>one</th>\n",
              "      <th>two</th>\n",
              "      <th>three</th>\n",
              "      <th>four</th>\n",
              "    </tr>\n",
              "  </thead>\n",
              "  <tbody>\n",
              "    <tr>\n",
              "      <th>Ohio</th>\n",
              "      <td>0</td>\n",
              "      <td>1</td>\n",
              "      <td>2</td>\n",
              "      <td>3</td>\n",
              "    </tr>\n",
              "    <tr>\n",
              "      <th>Colorado</th>\n",
              "      <td>4</td>\n",
              "      <td>5</td>\n",
              "      <td>6</td>\n",
              "      <td>7</td>\n",
              "    </tr>\n",
              "    <tr>\n",
              "      <th>Utah</th>\n",
              "      <td>8</td>\n",
              "      <td>9</td>\n",
              "      <td>10</td>\n",
              "      <td>11</td>\n",
              "    </tr>\n",
              "    <tr>\n",
              "      <th>New York</th>\n",
              "      <td>12</td>\n",
              "      <td>13</td>\n",
              "      <td>14</td>\n",
              "      <td>15</td>\n",
              "    </tr>\n",
              "  </tbody>\n",
              "</table>\n",
              "</div>"
            ],
            "text/plain": [
              "          one  two  three  four\n",
              "Ohio        0    1      2     3\n",
              "Colorado    4    5      6     7\n",
              "Utah        8    9     10    11\n",
              "New York   12   13     14    15"
            ]
          },
          "execution_count": 123,
          "metadata": {},
          "output_type": "execute_result"
        }
      ],
      "source": [
        "data = pd.DataFrame(np.arange(16).reshape((4, 4)),\n",
        "                    index=['Ohio', 'Colorado', 'Utah', 'New York'],\n",
        "                    columns=['one', 'two', 'three', 'four'])\n",
        "data"
      ]
    },
    {
      "cell_type": "code",
      "execution_count": 124,
      "metadata": {
        "colab": {
          "base_uri": "https://localhost:8080/",
          "height": 112
        },
        "id": "y-uigoIcI12C",
        "outputId": "533b4c63-15d7-4090-f5cf-eccbdeddf34d"
      },
      "outputs": [
        {
          "data": {
            "text/html": [
              "<div>\n",
              "<style scoped>\n",
              "    .dataframe tbody tr th:only-of-type {\n",
              "        vertical-align: middle;\n",
              "    }\n",
              "\n",
              "    .dataframe tbody tr th {\n",
              "        vertical-align: top;\n",
              "    }\n",
              "\n",
              "    .dataframe thead th {\n",
              "        text-align: right;\n",
              "    }\n",
              "</style>\n",
              "<table border=\"1\" class=\"dataframe\">\n",
              "  <thead>\n",
              "    <tr style=\"text-align: right;\">\n",
              "      <th></th>\n",
              "      <th>one</th>\n",
              "      <th>two</th>\n",
              "      <th>three</th>\n",
              "      <th>four</th>\n",
              "    </tr>\n",
              "  </thead>\n",
              "  <tbody>\n",
              "    <tr>\n",
              "      <th>Utah</th>\n",
              "      <td>8</td>\n",
              "      <td>9</td>\n",
              "      <td>10</td>\n",
              "      <td>11</td>\n",
              "    </tr>\n",
              "    <tr>\n",
              "      <th>New York</th>\n",
              "      <td>12</td>\n",
              "      <td>13</td>\n",
              "      <td>14</td>\n",
              "      <td>15</td>\n",
              "    </tr>\n",
              "  </tbody>\n",
              "</table>\n",
              "</div>"
            ],
            "text/plain": [
              "          one  two  three  four\n",
              "Utah        8    9     10    11\n",
              "New York   12   13     14    15"
            ]
          },
          "execution_count": 124,
          "metadata": {},
          "output_type": "execute_result"
        }
      ],
      "source": [
        "# drop은 index를 기준으로 값을 지운다.\n",
        "data.drop(['Colorado', 'Ohio'])"
      ]
    },
    {
      "cell_type": "code",
      "execution_count": 125,
      "metadata": {},
      "outputs": [
        {
          "data": {
            "text/html": [
              "<div>\n",
              "<style scoped>\n",
              "    .dataframe tbody tr th:only-of-type {\n",
              "        vertical-align: middle;\n",
              "    }\n",
              "\n",
              "    .dataframe tbody tr th {\n",
              "        vertical-align: top;\n",
              "    }\n",
              "\n",
              "    .dataframe thead th {\n",
              "        text-align: right;\n",
              "    }\n",
              "</style>\n",
              "<table border=\"1\" class=\"dataframe\">\n",
              "  <thead>\n",
              "    <tr style=\"text-align: right;\">\n",
              "      <th></th>\n",
              "      <th>one</th>\n",
              "      <th>two</th>\n",
              "      <th>three</th>\n",
              "      <th>four</th>\n",
              "    </tr>\n",
              "  </thead>\n",
              "  <tbody>\n",
              "    <tr>\n",
              "      <th>Ohio</th>\n",
              "      <td>0</td>\n",
              "      <td>1</td>\n",
              "      <td>2</td>\n",
              "      <td>3</td>\n",
              "    </tr>\n",
              "    <tr>\n",
              "      <th>Colorado</th>\n",
              "      <td>4</td>\n",
              "      <td>5</td>\n",
              "      <td>6</td>\n",
              "      <td>7</td>\n",
              "    </tr>\n",
              "    <tr>\n",
              "      <th>Utah</th>\n",
              "      <td>8</td>\n",
              "      <td>9</td>\n",
              "      <td>10</td>\n",
              "      <td>11</td>\n",
              "    </tr>\n",
              "    <tr>\n",
              "      <th>New York</th>\n",
              "      <td>12</td>\n",
              "      <td>13</td>\n",
              "      <td>14</td>\n",
              "      <td>15</td>\n",
              "    </tr>\n",
              "  </tbody>\n",
              "</table>\n",
              "</div>"
            ],
            "text/plain": [
              "          one  two  three  four\n",
              "Ohio        0    1      2     3\n",
              "Colorado    4    5      6     7\n",
              "Utah        8    9     10    11\n",
              "New York   12   13     14    15"
            ]
          },
          "execution_count": 125,
          "metadata": {},
          "output_type": "execute_result"
        }
      ],
      "source": [
        "data"
      ]
    },
    {
      "cell_type": "code",
      "execution_count": 133,
      "metadata": {
        "colab": {
          "base_uri": "https://localhost:8080/",
          "height": 174
        },
        "id": "yPPn33DLI12C",
        "outputId": "77ebe5a3-bbdf-4b67-9371-5dfe7875c065"
      },
      "outputs": [
        {
          "data": {
            "text/html": [
              "<div>\n",
              "<style scoped>\n",
              "    .dataframe tbody tr th:only-of-type {\n",
              "        vertical-align: middle;\n",
              "    }\n",
              "\n",
              "    .dataframe tbody tr th {\n",
              "        vertical-align: top;\n",
              "    }\n",
              "\n",
              "    .dataframe thead th {\n",
              "        text-align: right;\n",
              "    }\n",
              "</style>\n",
              "<table border=\"1\" class=\"dataframe\">\n",
              "  <thead>\n",
              "    <tr style=\"text-align: right;\">\n",
              "      <th></th>\n",
              "      <th>one</th>\n",
              "      <th>three</th>\n",
              "    </tr>\n",
              "  </thead>\n",
              "  <tbody>\n",
              "    <tr>\n",
              "      <th>Ohio</th>\n",
              "      <td>0</td>\n",
              "      <td>2</td>\n",
              "    </tr>\n",
              "    <tr>\n",
              "      <th>Colorado</th>\n",
              "      <td>4</td>\n",
              "      <td>6</td>\n",
              "    </tr>\n",
              "    <tr>\n",
              "      <th>Utah</th>\n",
              "      <td>8</td>\n",
              "      <td>10</td>\n",
              "    </tr>\n",
              "    <tr>\n",
              "      <th>New York</th>\n",
              "      <td>12</td>\n",
              "      <td>14</td>\n",
              "    </tr>\n",
              "  </tbody>\n",
              "</table>\n",
              "</div>"
            ],
            "text/plain": [
              "          one  three\n",
              "Ohio        0      2\n",
              "Colorado    4      6\n",
              "Utah        8     10\n",
              "New York   12     14"
            ]
          },
          "execution_count": 133,
          "metadata": {},
          "output_type": "execute_result"
        }
      ],
      "source": [
        "# column을 지우는 경우에는 axis=1을 넣어준다. 또는 columns를 넣어준다.\n",
        "# data.drop('two', axis='index')\n",
        "data.drop(['two', 'four'], axis='columns')"
      ]
    },
    {
      "cell_type": "code",
      "execution_count": 135,
      "metadata": {
        "colab": {
          "base_uri": "https://localhost:8080/",
          "height": 174
        },
        "id": "0MIo_i4bd8lc",
        "outputId": "917ecbbb-fd09-4190-d004-cf13303839da"
      },
      "outputs": [
        {
          "ename": "KeyError",
          "evalue": "\"['three'] not found in axis\"",
          "output_type": "error",
          "traceback": [
            "\u001b[0;31m---------------------------------------------------------------------------\u001b[0m",
            "\u001b[0;31mKeyError\u001b[0m                                  Traceback (most recent call last)",
            "Cell \u001b[0;32mIn[135], line 2\u001b[0m\n\u001b[1;32m      1\u001b[0m \u001b[38;5;66;03m# inplace=True를 넣어주면 원본이 바뀐다. 다시 할당 말자!!\u001b[39;00m\n\u001b[0;32m----> 2\u001b[0m \u001b[43mdata\u001b[49m\u001b[38;5;241;43m.\u001b[39;49m\u001b[43mdrop\u001b[49m\u001b[43m(\u001b[49m\u001b[38;5;124;43m'\u001b[39;49m\u001b[38;5;124;43mthree\u001b[39;49m\u001b[38;5;124;43m'\u001b[39;49m\u001b[43m,\u001b[49m\u001b[43maxis\u001b[49m\u001b[38;5;241;43m=\u001b[39;49m\u001b[38;5;241;43m1\u001b[39;49m\u001b[43m,\u001b[49m\u001b[43m \u001b[49m\u001b[43minplace\u001b[49m\u001b[38;5;241;43m=\u001b[39;49m\u001b[38;5;28;43;01mTrue\u001b[39;49;00m\u001b[43m)\u001b[49m\n\u001b[1;32m      3\u001b[0m data\n",
            "File \u001b[0;32m~/Github/sesac-project/.venv/lib/python3.11/site-packages/pandas/core/frame.py:5344\u001b[0m, in \u001b[0;36mDataFrame.drop\u001b[0;34m(self, labels, axis, index, columns, level, inplace, errors)\u001b[0m\n\u001b[1;32m   5196\u001b[0m \u001b[38;5;28;01mdef\u001b[39;00m \u001b[38;5;21mdrop\u001b[39m(\n\u001b[1;32m   5197\u001b[0m     \u001b[38;5;28mself\u001b[39m,\n\u001b[1;32m   5198\u001b[0m     labels: IndexLabel \u001b[38;5;241m|\u001b[39m \u001b[38;5;28;01mNone\u001b[39;00m \u001b[38;5;241m=\u001b[39m \u001b[38;5;28;01mNone\u001b[39;00m,\n\u001b[0;32m   (...)\u001b[0m\n\u001b[1;32m   5205\u001b[0m     errors: IgnoreRaise \u001b[38;5;241m=\u001b[39m \u001b[38;5;124m\"\u001b[39m\u001b[38;5;124mraise\u001b[39m\u001b[38;5;124m\"\u001b[39m,\n\u001b[1;32m   5206\u001b[0m ) \u001b[38;5;241m-\u001b[39m\u001b[38;5;241m>\u001b[39m DataFrame \u001b[38;5;241m|\u001b[39m \u001b[38;5;28;01mNone\u001b[39;00m:\n\u001b[1;32m   5207\u001b[0m \u001b[38;5;250m    \u001b[39m\u001b[38;5;124;03m\"\"\"\u001b[39;00m\n\u001b[1;32m   5208\u001b[0m \u001b[38;5;124;03m    Drop specified labels from rows or columns.\u001b[39;00m\n\u001b[1;32m   5209\u001b[0m \n\u001b[0;32m   (...)\u001b[0m\n\u001b[1;32m   5342\u001b[0m \u001b[38;5;124;03m            weight  1.0     0.8\u001b[39;00m\n\u001b[1;32m   5343\u001b[0m \u001b[38;5;124;03m    \"\"\"\u001b[39;00m\n\u001b[0;32m-> 5344\u001b[0m     \u001b[38;5;28;01mreturn\u001b[39;00m \u001b[38;5;28;43msuper\u001b[39;49m\u001b[43m(\u001b[49m\u001b[43m)\u001b[49m\u001b[38;5;241;43m.\u001b[39;49m\u001b[43mdrop\u001b[49m\u001b[43m(\u001b[49m\n\u001b[1;32m   5345\u001b[0m \u001b[43m        \u001b[49m\u001b[43mlabels\u001b[49m\u001b[38;5;241;43m=\u001b[39;49m\u001b[43mlabels\u001b[49m\u001b[43m,\u001b[49m\n\u001b[1;32m   5346\u001b[0m \u001b[43m        \u001b[49m\u001b[43maxis\u001b[49m\u001b[38;5;241;43m=\u001b[39;49m\u001b[43maxis\u001b[49m\u001b[43m,\u001b[49m\n\u001b[1;32m   5347\u001b[0m \u001b[43m        \u001b[49m\u001b[43mindex\u001b[49m\u001b[38;5;241;43m=\u001b[39;49m\u001b[43mindex\u001b[49m\u001b[43m,\u001b[49m\n\u001b[1;32m   5348\u001b[0m \u001b[43m        \u001b[49m\u001b[43mcolumns\u001b[49m\u001b[38;5;241;43m=\u001b[39;49m\u001b[43mcolumns\u001b[49m\u001b[43m,\u001b[49m\n\u001b[1;32m   5349\u001b[0m \u001b[43m        \u001b[49m\u001b[43mlevel\u001b[49m\u001b[38;5;241;43m=\u001b[39;49m\u001b[43mlevel\u001b[49m\u001b[43m,\u001b[49m\n\u001b[1;32m   5350\u001b[0m \u001b[43m        \u001b[49m\u001b[43minplace\u001b[49m\u001b[38;5;241;43m=\u001b[39;49m\u001b[43minplace\u001b[49m\u001b[43m,\u001b[49m\n\u001b[1;32m   5351\u001b[0m \u001b[43m        \u001b[49m\u001b[43merrors\u001b[49m\u001b[38;5;241;43m=\u001b[39;49m\u001b[43merrors\u001b[49m\u001b[43m,\u001b[49m\n\u001b[1;32m   5352\u001b[0m \u001b[43m    \u001b[49m\u001b[43m)\u001b[49m\n",
            "File \u001b[0;32m~/Github/sesac-project/.venv/lib/python3.11/site-packages/pandas/core/generic.py:4711\u001b[0m, in \u001b[0;36mNDFrame.drop\u001b[0;34m(self, labels, axis, index, columns, level, inplace, errors)\u001b[0m\n\u001b[1;32m   4709\u001b[0m \u001b[38;5;28;01mfor\u001b[39;00m axis, labels \u001b[38;5;129;01min\u001b[39;00m axes\u001b[38;5;241m.\u001b[39mitems():\n\u001b[1;32m   4710\u001b[0m     \u001b[38;5;28;01mif\u001b[39;00m labels \u001b[38;5;129;01mis\u001b[39;00m \u001b[38;5;129;01mnot\u001b[39;00m \u001b[38;5;28;01mNone\u001b[39;00m:\n\u001b[0;32m-> 4711\u001b[0m         obj \u001b[38;5;241m=\u001b[39m \u001b[43mobj\u001b[49m\u001b[38;5;241;43m.\u001b[39;49m\u001b[43m_drop_axis\u001b[49m\u001b[43m(\u001b[49m\u001b[43mlabels\u001b[49m\u001b[43m,\u001b[49m\u001b[43m \u001b[49m\u001b[43maxis\u001b[49m\u001b[43m,\u001b[49m\u001b[43m \u001b[49m\u001b[43mlevel\u001b[49m\u001b[38;5;241;43m=\u001b[39;49m\u001b[43mlevel\u001b[49m\u001b[43m,\u001b[49m\u001b[43m \u001b[49m\u001b[43merrors\u001b[49m\u001b[38;5;241;43m=\u001b[39;49m\u001b[43merrors\u001b[49m\u001b[43m)\u001b[49m\n\u001b[1;32m   4713\u001b[0m \u001b[38;5;28;01mif\u001b[39;00m inplace:\n\u001b[1;32m   4714\u001b[0m     \u001b[38;5;28mself\u001b[39m\u001b[38;5;241m.\u001b[39m_update_inplace(obj)\n",
            "File \u001b[0;32m~/Github/sesac-project/.venv/lib/python3.11/site-packages/pandas/core/generic.py:4753\u001b[0m, in \u001b[0;36mNDFrame._drop_axis\u001b[0;34m(self, labels, axis, level, errors, only_slice)\u001b[0m\n\u001b[1;32m   4751\u001b[0m         new_axis \u001b[38;5;241m=\u001b[39m axis\u001b[38;5;241m.\u001b[39mdrop(labels, level\u001b[38;5;241m=\u001b[39mlevel, errors\u001b[38;5;241m=\u001b[39merrors)\n\u001b[1;32m   4752\u001b[0m     \u001b[38;5;28;01melse\u001b[39;00m:\n\u001b[0;32m-> 4753\u001b[0m         new_axis \u001b[38;5;241m=\u001b[39m \u001b[43maxis\u001b[49m\u001b[38;5;241;43m.\u001b[39;49m\u001b[43mdrop\u001b[49m\u001b[43m(\u001b[49m\u001b[43mlabels\u001b[49m\u001b[43m,\u001b[49m\u001b[43m \u001b[49m\u001b[43merrors\u001b[49m\u001b[38;5;241;43m=\u001b[39;49m\u001b[43merrors\u001b[49m\u001b[43m)\u001b[49m\n\u001b[1;32m   4754\u001b[0m     indexer \u001b[38;5;241m=\u001b[39m axis\u001b[38;5;241m.\u001b[39mget_indexer(new_axis)\n\u001b[1;32m   4756\u001b[0m \u001b[38;5;66;03m# Case for non-unique axis\u001b[39;00m\n\u001b[1;32m   4757\u001b[0m \u001b[38;5;28;01melse\u001b[39;00m:\n",
            "File \u001b[0;32m~/Github/sesac-project/.venv/lib/python3.11/site-packages/pandas/core/indexes/base.py:7000\u001b[0m, in \u001b[0;36mIndex.drop\u001b[0;34m(self, labels, errors)\u001b[0m\n\u001b[1;32m   6998\u001b[0m \u001b[38;5;28;01mif\u001b[39;00m mask\u001b[38;5;241m.\u001b[39many():\n\u001b[1;32m   6999\u001b[0m     \u001b[38;5;28;01mif\u001b[39;00m errors \u001b[38;5;241m!=\u001b[39m \u001b[38;5;124m\"\u001b[39m\u001b[38;5;124mignore\u001b[39m\u001b[38;5;124m\"\u001b[39m:\n\u001b[0;32m-> 7000\u001b[0m         \u001b[38;5;28;01mraise\u001b[39;00m \u001b[38;5;167;01mKeyError\u001b[39;00m(\u001b[38;5;124mf\u001b[39m\u001b[38;5;124m\"\u001b[39m\u001b[38;5;132;01m{\u001b[39;00mlabels[mask]\u001b[38;5;241m.\u001b[39mtolist()\u001b[38;5;132;01m}\u001b[39;00m\u001b[38;5;124m not found in axis\u001b[39m\u001b[38;5;124m\"\u001b[39m)\n\u001b[1;32m   7001\u001b[0m     indexer \u001b[38;5;241m=\u001b[39m indexer[\u001b[38;5;241m~\u001b[39mmask]\n\u001b[1;32m   7002\u001b[0m \u001b[38;5;28;01mreturn\u001b[39;00m \u001b[38;5;28mself\u001b[39m\u001b[38;5;241m.\u001b[39mdelete(indexer)\n",
            "\u001b[0;31mKeyError\u001b[0m: \"['three'] not found in axis\""
          ]
        }
      ],
      "source": [
        "# inplace=True를 넣어주면 원본이 바뀐다. 다시 할당 말자!!\n",
        "data.drop('three',axis=1, inplace=True)"
      ]
    },
    {
      "cell_type": "code",
      "execution_count": null,
      "metadata": {
        "colab": {
          "base_uri": "https://localhost:8080/"
        },
        "id": "mlxEbw-vI12C",
        "outputId": "ba051c7d-4bb8-45a0-de0e-1badf2307812"
      },
      "outputs": [],
      "source": [
        "obj.drop('c', inplace=True)\n",
        "obj"
      ]
    },
    {
      "cell_type": "markdown",
      "metadata": {
        "id": "lAFnHr96I12C"
      },
      "source": [
        "#### 선택, 필터링"
      ]
    },
    {
      "cell_type": "code",
      "execution_count": 140,
      "metadata": {
        "colab": {
          "base_uri": "https://localhost:8080/"
        },
        "id": "VoazJYAdI12C",
        "outputId": "674acd4d-866e-44e2-bd0e-42517c50fa13"
      },
      "outputs": [
        {
          "data": {
            "text/plain": [
              "a    0.0\n",
              "c    1.0\n",
              "b    2.0\n",
              "d    3.0\n",
              "dtype: float64"
            ]
          },
          "execution_count": 140,
          "metadata": {},
          "output_type": "execute_result"
        }
      ],
      "source": [
        "obj = pd.Series(np.arange(4.), index=['a', 'c', 'b', 'd'])\n",
        "obj"
      ]
    },
    {
      "cell_type": "code",
      "execution_count": 141,
      "metadata": {
        "colab": {
          "base_uri": "https://localhost:8080/"
        },
        "id": "5lOsJF2oI12C",
        "outputId": "e5754462-e491-4fdc-ec40-56ae2868cc44"
      },
      "outputs": [
        {
          "data": {
            "text/plain": [
              "a    0.0\n",
              "c    1.0\n",
              "b    2.0\n",
              "dtype: float64"
            ]
          },
          "execution_count": 141,
          "metadata": {},
          "output_type": "execute_result"
        }
      ],
      "source": [
        "# index를 기준으로 정렬한다. \n",
        "obj['a':'b']"
      ]
    },
    {
      "cell_type": "code",
      "execution_count": 143,
      "metadata": {
        "colab": {
          "base_uri": "https://localhost:8080/"
        },
        "id": "NCeCC3OTI12C",
        "outputId": "1d51e7c3-063c-40aa-984b-353d877b87d7"
      },
      "outputs": [
        {
          "data": {
            "text/plain": [
              "a    5.0\n",
              "c    5.0\n",
              "b    5.0\n",
              "d    5.0\n",
              "dtype: float64"
            ]
          },
          "execution_count": 143,
          "metadata": {},
          "output_type": "execute_result"
        }
      ],
      "source": [
        "obj[:] = 5 \n",
        "obj\n",
        "# obj = pd.Series(np.arange(4.), index=['a', 'c', 'b', 'd'])"
      ]
    },
    {
      "cell_type": "code",
      "execution_count": 144,
      "metadata": {
        "colab": {
          "base_uri": "https://localhost:8080/",
          "height": 175
        },
        "id": "7rAwd0r0I12C",
        "outputId": "d3e72386-c713-4e4e-e187-a579d8854dd7"
      },
      "outputs": [
        {
          "data": {
            "text/html": [
              "<div>\n",
              "<style scoped>\n",
              "    .dataframe tbody tr th:only-of-type {\n",
              "        vertical-align: middle;\n",
              "    }\n",
              "\n",
              "    .dataframe tbody tr th {\n",
              "        vertical-align: top;\n",
              "    }\n",
              "\n",
              "    .dataframe thead th {\n",
              "        text-align: right;\n",
              "    }\n",
              "</style>\n",
              "<table border=\"1\" class=\"dataframe\">\n",
              "  <thead>\n",
              "    <tr style=\"text-align: right;\">\n",
              "      <th></th>\n",
              "      <th>one</th>\n",
              "      <th>two</th>\n",
              "      <th>three</th>\n",
              "      <th>four</th>\n",
              "    </tr>\n",
              "  </thead>\n",
              "  <tbody>\n",
              "    <tr>\n",
              "      <th>Ohio</th>\n",
              "      <td>0</td>\n",
              "      <td>1</td>\n",
              "      <td>2</td>\n",
              "      <td>3</td>\n",
              "    </tr>\n",
              "    <tr>\n",
              "      <th>Colorado</th>\n",
              "      <td>4</td>\n",
              "      <td>5</td>\n",
              "      <td>6</td>\n",
              "      <td>7</td>\n",
              "    </tr>\n",
              "    <tr>\n",
              "      <th>Utah</th>\n",
              "      <td>8</td>\n",
              "      <td>9</td>\n",
              "      <td>10</td>\n",
              "      <td>11</td>\n",
              "    </tr>\n",
              "    <tr>\n",
              "      <th>New York</th>\n",
              "      <td>12</td>\n",
              "      <td>13</td>\n",
              "      <td>14</td>\n",
              "      <td>15</td>\n",
              "    </tr>\n",
              "  </tbody>\n",
              "</table>\n",
              "</div>"
            ],
            "text/plain": [
              "          one  two  three  four\n",
              "Ohio        0    1      2     3\n",
              "Colorado    4    5      6     7\n",
              "Utah        8    9     10    11\n",
              "New York   12   13     14    15"
            ]
          },
          "execution_count": 144,
          "metadata": {},
          "output_type": "execute_result"
        }
      ],
      "source": [
        "data = pd.DataFrame(np.arange(16).reshape((4, 4)),\n",
        "                    index=['Ohio', 'Colorado', 'Utah', 'New York'],\n",
        "                    columns=['one', 'two', 'three', 'four'])\n",
        "data"
      ]
    },
    {
      "cell_type": "code",
      "execution_count": null,
      "metadata": {},
      "outputs": [],
      "source": [
        "dictionary[]"
      ]
    },
    {
      "cell_type": "code",
      "execution_count": 146,
      "metadata": {
        "colab": {
          "base_uri": "https://localhost:8080/",
          "height": 596
        },
        "id": "rwhpbsIqI12C",
        "outputId": "48f5f3a0-d2a6-4b2f-e316-28f06ee7c23b"
      },
      "outputs": [
        {
          "data": {
            "text/html": [
              "<div>\n",
              "<style scoped>\n",
              "    .dataframe tbody tr th:only-of-type {\n",
              "        vertical-align: middle;\n",
              "    }\n",
              "\n",
              "    .dataframe tbody tr th {\n",
              "        vertical-align: top;\n",
              "    }\n",
              "\n",
              "    .dataframe thead th {\n",
              "        text-align: right;\n",
              "    }\n",
              "</style>\n",
              "<table border=\"1\" class=\"dataframe\">\n",
              "  <thead>\n",
              "    <tr style=\"text-align: right;\">\n",
              "      <th></th>\n",
              "      <th>two</th>\n",
              "      <th>one</th>\n",
              "    </tr>\n",
              "  </thead>\n",
              "  <tbody>\n",
              "    <tr>\n",
              "      <th>Ohio</th>\n",
              "      <td>1</td>\n",
              "      <td>0</td>\n",
              "    </tr>\n",
              "    <tr>\n",
              "      <th>Colorado</th>\n",
              "      <td>5</td>\n",
              "      <td>4</td>\n",
              "    </tr>\n",
              "    <tr>\n",
              "      <th>Utah</th>\n",
              "      <td>9</td>\n",
              "      <td>8</td>\n",
              "    </tr>\n",
              "    <tr>\n",
              "      <th>New York</th>\n",
              "      <td>13</td>\n",
              "      <td>12</td>\n",
              "    </tr>\n",
              "  </tbody>\n",
              "</table>\n",
              "</div>"
            ],
            "text/plain": [
              "          two  one\n",
              "Ohio        1    0\n",
              "Colorado    5    4\n",
              "Utah        9    8\n",
              "New York   13   12"
            ]
          },
          "execution_count": 146,
          "metadata": {},
          "output_type": "execute_result"
        }
      ],
      "source": [
        "# column을 기준으로 선택할 때 리스트로 전달해줌 주의. (index는 겹괄호를 안해줬다. 데이터프레임이라 이렇다.)\n",
        "data[['two', 'one']]"
      ]
    },
    {
      "cell_type": "code",
      "execution_count": 150,
      "metadata": {},
      "outputs": [
        {
          "data": {
            "text/plain": [
              "[1, 2, 3]"
            ]
          },
          "execution_count": 150,
          "metadata": {},
          "output_type": "execute_result"
        }
      ],
      "source": [
        "lst = [1, 2, 3, 4, 5]\n",
        "list(filter(lambda x: x<=3,lst))"
      ]
    },
    {
      "cell_type": "code",
      "execution_count": 153,
      "metadata": {},
      "outputs": [
        {
          "data": {
            "text/html": [
              "<div>\n",
              "<style scoped>\n",
              "    .dataframe tbody tr th:only-of-type {\n",
              "        vertical-align: middle;\n",
              "    }\n",
              "\n",
              "    .dataframe tbody tr th {\n",
              "        vertical-align: top;\n",
              "    }\n",
              "\n",
              "    .dataframe thead th {\n",
              "        text-align: right;\n",
              "    }\n",
              "</style>\n",
              "<table border=\"1\" class=\"dataframe\">\n",
              "  <thead>\n",
              "    <tr style=\"text-align: right;\">\n",
              "      <th></th>\n",
              "      <th>one</th>\n",
              "      <th>two</th>\n",
              "      <th>three</th>\n",
              "      <th>four</th>\n",
              "    </tr>\n",
              "  </thead>\n",
              "  <tbody>\n",
              "    <tr>\n",
              "      <th>Ohio</th>\n",
              "      <td>0</td>\n",
              "      <td>1</td>\n",
              "      <td>2</td>\n",
              "      <td>3</td>\n",
              "    </tr>\n",
              "    <tr>\n",
              "      <th>Colorado</th>\n",
              "      <td>4</td>\n",
              "      <td>5</td>\n",
              "      <td>6</td>\n",
              "      <td>7</td>\n",
              "    </tr>\n",
              "    <tr>\n",
              "      <th>Utah</th>\n",
              "      <td>8</td>\n",
              "      <td>9</td>\n",
              "      <td>10</td>\n",
              "      <td>11</td>\n",
              "    </tr>\n",
              "    <tr>\n",
              "      <th>New York</th>\n",
              "      <td>12</td>\n",
              "      <td>13</td>\n",
              "      <td>14</td>\n",
              "      <td>15</td>\n",
              "    </tr>\n",
              "  </tbody>\n",
              "</table>\n",
              "</div>"
            ],
            "text/plain": [
              "          one  two  three  four\n",
              "Ohio        0    1      2     3\n",
              "Colorado    4    5      6     7\n",
              "Utah        8    9     10    11\n",
              "New York   12   13     14    15"
            ]
          },
          "execution_count": 153,
          "metadata": {},
          "output_type": "execute_result"
        }
      ],
      "source": [
        "data"
      ]
    },
    {
      "cell_type": "code",
      "execution_count": 158,
      "metadata": {
        "colab": {
          "base_uri": "https://localhost:8080/",
          "height": 112
        },
        "id": "w4nNSIC_I12D",
        "outputId": "4c443db6-1a40-46ae-c349-0a39d501b3fd"
      },
      "outputs": [
        {
          "data": {
            "text/plain": [
              "array([ 9, 13])"
            ]
          },
          "execution_count": 158,
          "metadata": {},
          "output_type": "execute_result"
        }
      ],
      "source": [
        "# row 기준으로 하는 조건 선택\n",
        "data[data['two'] > 5]['two'].values"
      ]
    },
    {
      "cell_type": "code",
      "execution_count": null,
      "metadata": {
        "colab": {
          "base_uri": "https://localhost:8080/",
          "height": 175
        },
        "id": "NusUrwxUI12D",
        "outputId": "a72095fc-5ce4-4a9e-f73a-1c0d15b5446d"
      },
      "outputs": [],
      "source": [
        "data < 5"
      ]
    },
    {
      "cell_type": "markdown",
      "metadata": {
        "id": "UgBhxPoHI12D"
      },
      "source": [
        "#### 산술 연산과 데이터 정렬"
      ]
    },
    {
      "cell_type": "code",
      "execution_count": 159,
      "metadata": {
        "colab": {
          "base_uri": "https://localhost:8080/"
        },
        "id": "rmVjfT9ZI12D",
        "outputId": "426854c8-4159-4181-b430-ebb327ee8680"
      },
      "outputs": [
        {
          "name": "stdout",
          "output_type": "stream",
          "text": [
            "a    7.3\n",
            "c   -2.5\n",
            "d    3.4\n",
            "e    1.5\n",
            "dtype: float64\n",
            "a   -2.1\n",
            "c    3.6\n",
            "e   -1.5\n",
            "f    4.0\n",
            "g    3.1\n",
            "dtype: float64\n"
          ]
        }
      ],
      "source": [
        "s1 = pd.Series([7.3, -2.5, 3.4, 1.5], index=['a', 'c', 'd', 'e'])\n",
        "s2 = pd.Series([-2.1, 3.6, -1.5, 4, 3.1],\n",
        "               index=['a', 'c', 'e', 'f', 'g'])\n",
        "print(s1)\n",
        "print(s2)"
      ]
    },
    {
      "cell_type": "code",
      "execution_count": 160,
      "metadata": {
        "colab": {
          "base_uri": "https://localhost:8080/"
        },
        "id": "TCa9y_7OI12D",
        "outputId": "a9745133-47da-4b27-a475-903064d7c13e"
      },
      "outputs": [
        {
          "data": {
            "text/plain": [
              "a    5.2\n",
              "c    1.1\n",
              "d    NaN\n",
              "e    0.0\n",
              "f    NaN\n",
              "g    NaN\n",
              "dtype: float64"
            ]
          },
          "execution_count": 160,
          "metadata": {},
          "output_type": "execute_result"
        }
      ],
      "source": [
        "# index가 같은 것끼리 연산을 수행한다. \n",
        "# index가 교집합인 값만 연산을 수행한다.\n",
        "s1 + s2"
      ]
    },
    {
      "cell_type": "code",
      "execution_count": 161,
      "metadata": {
        "colab": {
          "base_uri": "https://localhost:8080/"
        },
        "id": "Nc0ROMM3I12D",
        "outputId": "08d97d81-08b6-4852-8ec5-2278fa1a203c"
      },
      "outputs": [
        {
          "name": "stdout",
          "output_type": "stream",
          "text": [
            "            b    c    d\n",
            "Ohio      0.0  1.0  2.0\n",
            "Texas     3.0  4.0  5.0\n",
            "Colorado  6.0  7.0  8.0\n",
            "          b     d     e\n",
            "Utah    0.0   1.0   2.0\n",
            "Ohio    3.0   4.0   5.0\n",
            "Texas   6.0   7.0   8.0\n",
            "Oregon  9.0  10.0  11.0\n"
          ]
        }
      ],
      "source": [
        "df1 = pd.DataFrame(np.arange(9.).reshape((3, 3)), columns=list('bcd'),\n",
        "                   index=['Ohio', 'Texas', 'Colorado'])\n",
        "df2 = pd.DataFrame(np.arange(12.).reshape((4, 3)), columns=list('bde'),\n",
        "                   index=['Utah', 'Ohio', 'Texas', 'Oregon'])\n",
        "print(df1)\n",
        "print(df2)"
      ]
    },
    {
      "cell_type": "code",
      "execution_count": 162,
      "metadata": {
        "colab": {
          "base_uri": "https://localhost:8080/",
          "height": 206
        },
        "id": "tE6K7EDXI12E",
        "outputId": "833c0978-91ab-467d-a5ae-965a04b12ab3"
      },
      "outputs": [
        {
          "data": {
            "text/html": [
              "<div>\n",
              "<style scoped>\n",
              "    .dataframe tbody tr th:only-of-type {\n",
              "        vertical-align: middle;\n",
              "    }\n",
              "\n",
              "    .dataframe tbody tr th {\n",
              "        vertical-align: top;\n",
              "    }\n",
              "\n",
              "    .dataframe thead th {\n",
              "        text-align: right;\n",
              "    }\n",
              "</style>\n",
              "<table border=\"1\" class=\"dataframe\">\n",
              "  <thead>\n",
              "    <tr style=\"text-align: right;\">\n",
              "      <th></th>\n",
              "      <th>b</th>\n",
              "      <th>c</th>\n",
              "      <th>d</th>\n",
              "      <th>e</th>\n",
              "    </tr>\n",
              "  </thead>\n",
              "  <tbody>\n",
              "    <tr>\n",
              "      <th>Colorado</th>\n",
              "      <td>NaN</td>\n",
              "      <td>NaN</td>\n",
              "      <td>NaN</td>\n",
              "      <td>NaN</td>\n",
              "    </tr>\n",
              "    <tr>\n",
              "      <th>Ohio</th>\n",
              "      <td>3.0</td>\n",
              "      <td>NaN</td>\n",
              "      <td>6.0</td>\n",
              "      <td>NaN</td>\n",
              "    </tr>\n",
              "    <tr>\n",
              "      <th>Oregon</th>\n",
              "      <td>NaN</td>\n",
              "      <td>NaN</td>\n",
              "      <td>NaN</td>\n",
              "      <td>NaN</td>\n",
              "    </tr>\n",
              "    <tr>\n",
              "      <th>Texas</th>\n",
              "      <td>9.0</td>\n",
              "      <td>NaN</td>\n",
              "      <td>12.0</td>\n",
              "      <td>NaN</td>\n",
              "    </tr>\n",
              "    <tr>\n",
              "      <th>Utah</th>\n",
              "      <td>NaN</td>\n",
              "      <td>NaN</td>\n",
              "      <td>NaN</td>\n",
              "      <td>NaN</td>\n",
              "    </tr>\n",
              "  </tbody>\n",
              "</table>\n",
              "</div>"
            ],
            "text/plain": [
              "            b   c     d   e\n",
              "Colorado  NaN NaN   NaN NaN\n",
              "Ohio      3.0 NaN   6.0 NaN\n",
              "Oregon    NaN NaN   NaN NaN\n",
              "Texas     9.0 NaN  12.0 NaN\n",
              "Utah      NaN NaN   NaN NaN"
            ]
          },
          "execution_count": 162,
          "metadata": {},
          "output_type": "execute_result"
        }
      ],
      "source": [
        "df1 + df2 # 1. index를 맞춰서 연산을 진행했다. 2. 정렬은 알파벳 순으로 다시 했다. 3. 교집합만 연산을 한다. 4. index 값들은 합집합 한다."
      ]
    },
    {
      "cell_type": "markdown",
      "metadata": {
        "id": "Apw6FGctI12E"
      },
      "source": [
        "#### Apply, Map"
      ]
    },
    {
      "cell_type": "code",
      "execution_count": 178,
      "metadata": {
        "colab": {
          "base_uri": "https://localhost:8080/",
          "height": 175
        },
        "id": "rqi6UlPxI12E",
        "outputId": "586fcac3-7257-4141-af0d-981f3f941c1b"
      },
      "outputs": [
        {
          "data": {
            "text/html": [
              "<div>\n",
              "<style scoped>\n",
              "    .dataframe tbody tr th:only-of-type {\n",
              "        vertical-align: middle;\n",
              "    }\n",
              "\n",
              "    .dataframe tbody tr th {\n",
              "        vertical-align: top;\n",
              "    }\n",
              "\n",
              "    .dataframe thead th {\n",
              "        text-align: right;\n",
              "    }\n",
              "</style>\n",
              "<table border=\"1\" class=\"dataframe\">\n",
              "  <thead>\n",
              "    <tr style=\"text-align: right;\">\n",
              "      <th></th>\n",
              "      <th>b</th>\n",
              "      <th>d</th>\n",
              "      <th>e</th>\n",
              "    </tr>\n",
              "  </thead>\n",
              "  <tbody>\n",
              "    <tr>\n",
              "      <th>Utah</th>\n",
              "      <td>-0.163538</td>\n",
              "      <td>0.618601</td>\n",
              "      <td>0.809807</td>\n",
              "    </tr>\n",
              "    <tr>\n",
              "      <th>Ohio</th>\n",
              "      <td>0.870449</td>\n",
              "      <td>-0.991302</td>\n",
              "      <td>-1.029781</td>\n",
              "    </tr>\n",
              "    <tr>\n",
              "      <th>Texas</th>\n",
              "      <td>-0.725739</td>\n",
              "      <td>1.746182</td>\n",
              "      <td>0.630616</td>\n",
              "    </tr>\n",
              "    <tr>\n",
              "      <th>Oregon</th>\n",
              "      <td>-0.259505</td>\n",
              "      <td>-1.051303</td>\n",
              "      <td>-1.230582</td>\n",
              "    </tr>\n",
              "  </tbody>\n",
              "</table>\n",
              "</div>"
            ],
            "text/plain": [
              "               b         d         e\n",
              "Utah   -0.163538  0.618601  0.809807\n",
              "Ohio    0.870449 -0.991302 -1.029781\n",
              "Texas  -0.725739  1.746182  0.630616\n",
              "Oregon -0.259505 -1.051303 -1.230582"
            ]
          },
          "execution_count": 178,
          "metadata": {},
          "output_type": "execute_result"
        }
      ],
      "source": []
    },
    {
      "cell_type": "code",
      "execution_count": null,
      "metadata": {},
      "outputs": [],
      "source": []
    },
    {
      "cell_type": "code",
      "execution_count": 177,
      "metadata": {},
      "outputs": [
        {
          "data": {
            "text/plain": [
              "<Axes: xlabel='SECRETARY2'>"
            ]
          },
          "execution_count": 177,
          "metadata": {},
          "output_type": "execute_result"
        },
        {
          "data": {
            "image/png": "[encoded data removed]",
            "text/plain": [
              "<Figure size 640x480 with 1 Axes>"
            ]
          },
          "metadata": {},
          "output_type": "display_data"
        }
      ],
      "source": [
        "senators['SECRETARY2'].apply(lambda x: len(x.split(\", \"))).value_counts().plot(kind='bar')"
      ]
    },
    {
      "cell_type": "code",
      "execution_count": 164,
      "metadata": {},
      "outputs": [
        {
          "data": {
            "text/html": [
              "<div>\n",
              "<style scoped>\n",
              "    .dataframe tbody tr th:only-of-type {\n",
              "        vertical-align: middle;\n",
              "    }\n",
              "\n",
              "    .dataframe tbody tr th {\n",
              "        vertical-align: top;\n",
              "    }\n",
              "\n",
              "    .dataframe thead th {\n",
              "        text-align: right;\n",
              "    }\n",
              "</style>\n",
              "<table border=\"1\" class=\"dataframe\">\n",
              "  <thead>\n",
              "    <tr style=\"text-align: right;\">\n",
              "      <th></th>\n",
              "      <th>HG_NM</th>\n",
              "      <th>HJ_NM</th>\n",
              "      <th>ENG_NM</th>\n",
              "      <th>BTH_GBN_NM</th>\n",
              "      <th>BTH_DATE</th>\n",
              "      <th>JOB_RES_NM</th>\n",
              "      <th>POLY_NM</th>\n",
              "      <th>ORIG_NM</th>\n",
              "      <th>ELECT_GBN_NM</th>\n",
              "      <th>CMIT_NM</th>\n",
              "      <th>...</th>\n",
              "      <th>SEX_GBN_NM</th>\n",
              "      <th>TEL_NO</th>\n",
              "      <th>E_MAIL</th>\n",
              "      <th>HOMEPAGE</th>\n",
              "      <th>STAFF</th>\n",
              "      <th>SECRETARY</th>\n",
              "      <th>SECRETARY2</th>\n",
              "      <th>MONA_CD</th>\n",
              "      <th>MEM_TITLE</th>\n",
              "      <th>ASSEM_ADDR</th>\n",
              "    </tr>\n",
              "  </thead>\n",
              "  <tbody>\n",
              "    <tr>\n",
              "      <th>0</th>\n",
              "      <td>강기윤</td>\n",
              "      <td>姜起潤</td>\n",
              "      <td>KANG GIYUN</td>\n",
              "      <td>양</td>\n",
              "      <td>1960-06-04</td>\n",
              "      <td>간사</td>\n",
              "      <td>국민의힘</td>\n",
              "      <td>경남 창원시성산구</td>\n",
              "      <td>지역구</td>\n",
              "      <td>보건복지위원회</td>\n",
              "      <td>...</td>\n",
              "      <td>남</td>\n",
              "      <td>02-784-1751</td>\n",
              "      <td>ggotop@naver.com</td>\n",
              "      <td>http://blog.naver.com/ggotop</td>\n",
              "      <td>강현국, 한영애</td>\n",
              "      <td>김샛별, 장원종</td>\n",
              "      <td>안효상, 빈자영, 이유진, 김지훈, 조옥자</td>\n",
              "      <td>14M56632</td>\n",
              "      <td>[학력]\\r\\n마산공고(26회)\\r\\n창원대학교 행정학과\\r\\n중앙대학교 행정대학원...</td>\n",
              "      <td>의원회관 937호</td>\n",
              "    </tr>\n",
              "    <tr>\n",
              "      <th>1</th>\n",
              "      <td>강대식</td>\n",
              "      <td>姜大植</td>\n",
              "      <td>KANG DAESIK</td>\n",
              "      <td>양</td>\n",
              "      <td>1959-11-02</td>\n",
              "      <td>위원</td>\n",
              "      <td>국민의힘</td>\n",
              "      <td>대구 동구을</td>\n",
              "      <td>지역구</td>\n",
              "      <td>국토교통위원회</td>\n",
              "      <td>...</td>\n",
              "      <td>남</td>\n",
              "      <td>02-784-5275</td>\n",
              "      <td>kds21341@naver.com</td>\n",
              "      <td>NaN</td>\n",
              "      <td>박홍규, 유진영</td>\n",
              "      <td>김기일, 이기백</td>\n",
              "      <td>박순권, 김광연, 김현정, 황인택, 정유미</td>\n",
              "      <td>L2I9861C</td>\n",
              "      <td>[학력]\\r\\n송정초등학교\\r\\n안심중학교\\r\\n경북대학교 사범대학 부속고등학교\\r...</td>\n",
              "      <td>의원회관 341호</td>\n",
              "    </tr>\n",
              "    <tr>\n",
              "      <th>2</th>\n",
              "      <td>강득구</td>\n",
              "      <td>姜得求</td>\n",
              "      <td>KANG DEUKGU</td>\n",
              "      <td>양</td>\n",
              "      <td>1963-05-27</td>\n",
              "      <td>위원</td>\n",
              "      <td>더불어민주당</td>\n",
              "      <td>경기 안양시만안구</td>\n",
              "      <td>지역구</td>\n",
              "      <td>인구위기특별위원회, 교육위원회</td>\n",
              "      <td>...</td>\n",
              "      <td>남</td>\n",
              "      <td>02-784-2747~9</td>\n",
              "      <td>mainsail440@daum.net</td>\n",
              "      <td>http://blog.naver.com/dulipapa</td>\n",
              "      <td>김효성, 홍미하</td>\n",
              "      <td>장진수, 최경순</td>\n",
              "      <td>김창용, 오세령, 배은경, 남소영, 김광택</td>\n",
              "      <td>8P37634C</td>\n",
              "      <td>2023. 4.  ~ 현재      더불어민주당 정책위원회 상임부의장\\r\\n2023...</td>\n",
              "      <td>의원회관 440호</td>\n",
              "    </tr>\n",
              "    <tr>\n",
              "      <th>3</th>\n",
              "      <td>강민국</td>\n",
              "      <td>姜旻局</td>\n",
              "      <td>KANG MINKUK</td>\n",
              "      <td>양</td>\n",
              "      <td>1971-03-03</td>\n",
              "      <td>위원</td>\n",
              "      <td>국민의힘</td>\n",
              "      <td>경남 진주시을</td>\n",
              "      <td>지역구</td>\n",
              "      <td>정무위원회</td>\n",
              "      <td>...</td>\n",
              "      <td>남</td>\n",
              "      <td>02-784-0797</td>\n",
              "      <td>strongwind01@naver.com</td>\n",
              "      <td>NaN</td>\n",
              "      <td>강민승, 정경섭</td>\n",
              "      <td>김종민, 남정만</td>\n",
              "      <td>성환종, 이승연, 서경익, 윤정인, 정다정</td>\n",
              "      <td>GX22581L</td>\n",
              "      <td>[학력]\\r\\n\\r\\n\\r\\n- 봉곡초등학교 졸업(14회)\\r\\n\\r\\n- 진주중학...</td>\n",
              "      <td>의원회관 1007호</td>\n",
              "    </tr>\n",
              "    <tr>\n",
              "      <th>4</th>\n",
              "      <td>강민정</td>\n",
              "      <td>姜旼姃</td>\n",
              "      <td>KANG MINJUNG</td>\n",
              "      <td>양</td>\n",
              "      <td>1961-04-26</td>\n",
              "      <td>위원</td>\n",
              "      <td>더불어민주당</td>\n",
              "      <td>비례대표</td>\n",
              "      <td>비례대표</td>\n",
              "      <td>교육위원회</td>\n",
              "      <td>...</td>\n",
              "      <td>여</td>\n",
              "      <td>02-784-2477</td>\n",
              "      <td>kmj2020edu@gmail.com</td>\n",
              "      <td>https://blog.naver.com/kmgedu21</td>\n",
              "      <td>손성조, 윤호숙</td>\n",
              "      <td>김민혜, 김원석</td>\n",
              "      <td>김수안, 김성용, 민지홍, 황연미, 김기만</td>\n",
              "      <td>P2N50879</td>\n",
              "      <td>현) 국회 교육위원회 위원\\r\\n\\r\\n전) 더불어민주당 원내소통부대표\\r\\n전) ...</td>\n",
              "      <td>의원회관 421호</td>\n",
              "    </tr>\n",
              "    <tr>\n",
              "      <th>...</th>\n",
              "      <td>...</td>\n",
              "      <td>...</td>\n",
              "      <td>...</td>\n",
              "      <td>...</td>\n",
              "      <td>...</td>\n",
              "      <td>...</td>\n",
              "      <td>...</td>\n",
              "      <td>...</td>\n",
              "      <td>...</td>\n",
              "      <td>...</td>\n",
              "      <td>...</td>\n",
              "      <td>...</td>\n",
              "      <td>...</td>\n",
              "      <td>...</td>\n",
              "      <td>...</td>\n",
              "      <td>...</td>\n",
              "      <td>...</td>\n",
              "      <td>...</td>\n",
              "      <td>...</td>\n",
              "      <td>...</td>\n",
              "      <td>...</td>\n",
              "    </tr>\n",
              "    <tr>\n",
              "      <th>293</th>\n",
              "      <td>홍익표</td>\n",
              "      <td>洪翼杓</td>\n",
              "      <td>HONG IHKPYO</td>\n",
              "      <td>양</td>\n",
              "      <td>1967-11-20</td>\n",
              "      <td>위원장</td>\n",
              "      <td>더불어민주당</td>\n",
              "      <td>서울 중구성동구갑</td>\n",
              "      <td>지역구</td>\n",
              "      <td>문화체육관광위원회, 국회운영위원회, 정보위원회</td>\n",
              "      <td>...</td>\n",
              "      <td>남</td>\n",
              "      <td>02-784-6887</td>\n",
              "      <td>peace@peacehong.net</td>\n",
              "      <td>http://www.peacehong.net</td>\n",
              "      <td>신지희, 허정무</td>\n",
              "      <td>김진욱, 전해정</td>\n",
              "      <td>김옥미, 이원종, 이상현, 김다예, 이아연</td>\n",
              "      <td>FRN1867O</td>\n",
              "      <td>더불어민주당 원내대표(현)\\r\\n더불어민주당 서초구을지역위원장(현)\\r\\n\\r\\n[...</td>\n",
              "      <td>의원회관 839호</td>\n",
              "    </tr>\n",
              "    <tr>\n",
              "      <th>294</th>\n",
              "      <td>홍정민</td>\n",
              "      <td>洪貞敏</td>\n",
              "      <td>HONG JUNGMIN</td>\n",
              "      <td>양</td>\n",
              "      <td>1978-11-24</td>\n",
              "      <td>위원</td>\n",
              "      <td>더불어민주당</td>\n",
              "      <td>경기 고양시병</td>\n",
              "      <td>지역구</td>\n",
              "      <td>산업통상자원중소벤처기업위원회, 첨단전략산업특별위원회</td>\n",
              "      <td>...</td>\n",
              "      <td>여</td>\n",
              "      <td>02-784-8950</td>\n",
              "      <td>waytohong@naver.com</td>\n",
              "      <td>https://blog.naver.com/waytohong</td>\n",
              "      <td>엄소영, 이용남</td>\n",
              "      <td>김윤정, 정주영</td>\n",
              "      <td>김도영, 정윤주, 변민환, 이재환, 서연희</td>\n",
              "      <td>XA42275R</td>\n",
              "      <td>| 학력 | \\r\\n- 서울대학교 경제학부 졸업(2001년)\\r\\n- 서울대학교 경...</td>\n",
              "      <td>의원회관 326호</td>\n",
              "    </tr>\n",
              "    <tr>\n",
              "      <th>295</th>\n",
              "      <td>황보승희</td>\n",
              "      <td>皇甫承希</td>\n",
              "      <td>HWANGBO SEUNGHEE</td>\n",
              "      <td>양</td>\n",
              "      <td>1976-08-05</td>\n",
              "      <td>위원</td>\n",
              "      <td>무소속</td>\n",
              "      <td>부산 중구영도구</td>\n",
              "      <td>지역구</td>\n",
              "      <td>문화체육관광위원회, 인구위기특별위원회</td>\n",
              "      <td>...</td>\n",
              "      <td>여</td>\n",
              "      <td>02-784-6931 / 051-412-0415</td>\n",
              "      <td>0415hbsh@naver.com</td>\n",
              "      <td>NaN</td>\n",
              "      <td>윤경남, 홍영민</td>\n",
              "      <td>고범욱, 김대원</td>\n",
              "      <td>김성윤, 안지홍, 공채원, 김라희, 김보라</td>\n",
              "      <td>J9S37905</td>\n",
              "      <td>이화여자대학교 영어영문학\\r\\n영도여자고등학교\\r\\n\\r\\n(현) 제21대 국회의원...</td>\n",
              "      <td>의원회관 322호</td>\n",
              "    </tr>\n",
              "    <tr>\n",
              "      <th>296</th>\n",
              "      <td>황운하</td>\n",
              "      <td>黃雲夏</td>\n",
              "      <td>HWANG UNHA</td>\n",
              "      <td>양</td>\n",
              "      <td>1962-09-10</td>\n",
              "      <td>위원</td>\n",
              "      <td>더불어민주당</td>\n",
              "      <td>대전 중구</td>\n",
              "      <td>지역구</td>\n",
              "      <td>정무위원회</td>\n",
              "      <td>...</td>\n",
              "      <td>남</td>\n",
              "      <td>02-784-1935</td>\n",
              "      <td>unhah0301@gmail.com</td>\n",
              "      <td>NaN</td>\n",
              "      <td>유승준, 정종훈</td>\n",
              "      <td>심대철, 장진섭</td>\n",
              "      <td>윤여진, 박병찬, 심준석, 나제임</td>\n",
              "      <td>0YT3774N</td>\n",
              "      <td>&lt;학력&gt;\\r\\n대전산성초등학교\\r\\n동산중학교\\r\\n서대전고등학교\\r\\n경찰대학교 ...</td>\n",
              "      <td>의원회관 416호</td>\n",
              "    </tr>\n",
              "    <tr>\n",
              "      <th>297</th>\n",
              "      <td>황희</td>\n",
              "      <td>黃熙</td>\n",
              "      <td>HWANG HEE</td>\n",
              "      <td>양</td>\n",
              "      <td>1967-07-28</td>\n",
              "      <td>위원</td>\n",
              "      <td>더불어민주당</td>\n",
              "      <td>서울 양천구갑</td>\n",
              "      <td>지역구</td>\n",
              "      <td>외교통일위원회</td>\n",
              "      <td>...</td>\n",
              "      <td>남</td>\n",
              "      <td>02-784-8551</td>\n",
              "      <td>hwanghee6728@gmail.com</td>\n",
              "      <td>http://blog.naver.com/hwanghee67</td>\n",
              "      <td>나성채, 조주연</td>\n",
              "      <td>나종호, 배경민</td>\n",
              "      <td>장유리, 김은지, 양지훈, 문경림, 신소라</td>\n",
              "      <td>0VU8517U</td>\n",
              "      <td>2021.02~2022.05 문화체육관광부 장관\\r\\n2020.12~2021.02 ...</td>\n",
              "      <td>의원회관 838호</td>\n",
              "    </tr>\n",
              "  </tbody>\n",
              "</table>\n",
              "<p>298 rows × 23 columns</p>\n",
              "</div>"
            ],
            "text/plain": [
              "    HG_NM HJ_NM            ENG_NM BTH_GBN_NM    BTH_DATE JOB_RES_NM POLY_NM  \\\n",
              "0     강기윤   姜起潤        KANG GIYUN          양  1960-06-04         간사    국민의힘   \n",
              "1     강대식   姜大植       KANG DAESIK          양  1959-11-02         위원    국민의힘   \n",
              "2     강득구   姜得求       KANG DEUKGU          양  1963-05-27         위원  더불어민주당   \n",
              "3     강민국   姜旻局       KANG MINKUK          양  1971-03-03         위원    국민의힘   \n",
              "4     강민정   姜旼姃      KANG MINJUNG          양  1961-04-26         위원  더불어민주당   \n",
              "..    ...   ...               ...        ...         ...        ...     ...   \n",
              "293   홍익표   洪翼杓       HONG IHKPYO          양  1967-11-20        위원장  더불어민주당   \n",
              "294   홍정민   洪貞敏      HONG JUNGMIN          양  1978-11-24         위원  더불어민주당   \n",
              "295  황보승희  皇甫承希  HWANGBO SEUNGHEE          양  1976-08-05         위원     무소속   \n",
              "296   황운하   黃雲夏        HWANG UNHA          양  1962-09-10         위원  더불어민주당   \n",
              "297    황희    黃熙         HWANG HEE          양  1967-07-28         위원  더불어민주당   \n",
              "\n",
              "       ORIG_NM ELECT_GBN_NM                       CMIT_NM  ... SEX_GBN_NM  \\\n",
              "0    경남 창원시성산구          지역구                       보건복지위원회  ...          남   \n",
              "1       대구 동구을          지역구                       국토교통위원회  ...          남   \n",
              "2    경기 안양시만안구          지역구              인구위기특별위원회, 교육위원회  ...          남   \n",
              "3      경남 진주시을          지역구                         정무위원회  ...          남   \n",
              "4         비례대표         비례대표                         교육위원회  ...          여   \n",
              "..         ...          ...                           ...  ...        ...   \n",
              "293  서울 중구성동구갑          지역구     문화체육관광위원회, 국회운영위원회, 정보위원회  ...          남   \n",
              "294    경기 고양시병          지역구  산업통상자원중소벤처기업위원회, 첨단전략산업특별위원회  ...          여   \n",
              "295   부산 중구영도구          지역구          문화체육관광위원회, 인구위기특별위원회  ...          여   \n",
              "296      대전 중구          지역구                         정무위원회  ...          남   \n",
              "297    서울 양천구갑          지역구                       외교통일위원회  ...          남   \n",
              "\n",
              "                         TEL_NO                  E_MAIL  \\\n",
              "0                   02-784-1751        ggotop@naver.com   \n",
              "1                   02-784-5275      kds21341@naver.com   \n",
              "2                 02-784-2747~9    mainsail440@daum.net   \n",
              "3                   02-784-0797  strongwind01@naver.com   \n",
              "4                   02-784-2477    kmj2020edu@gmail.com   \n",
              "..                          ...                     ...   \n",
              "293                 02-784-6887     peace@peacehong.net   \n",
              "294                 02-784-8950     waytohong@naver.com   \n",
              "295  02-784-6931 / 051-412-0415      0415hbsh@naver.com   \n",
              "296                 02-784-1935     unhah0301@gmail.com   \n",
              "297                 02-784-8551  hwanghee6728@gmail.com   \n",
              "\n",
              "                             HOMEPAGE     STAFF SECRETARY  \\\n",
              "0        http://blog.naver.com/ggotop  강현국, 한영애  김샛별, 장원종   \n",
              "1                                 NaN  박홍규, 유진영  김기일, 이기백   \n",
              "2      http://blog.naver.com/dulipapa  김효성, 홍미하  장진수, 최경순   \n",
              "3                                 NaN  강민승, 정경섭  김종민, 남정만   \n",
              "4     https://blog.naver.com/kmgedu21  손성조, 윤호숙  김민혜, 김원석   \n",
              "..                                ...       ...       ...   \n",
              "293          http://www.peacehong.net  신지희, 허정무  김진욱, 전해정   \n",
              "294  https://blog.naver.com/waytohong  엄소영, 이용남  김윤정, 정주영   \n",
              "295                               NaN  윤경남, 홍영민  고범욱, 김대원   \n",
              "296                               NaN  유승준, 정종훈  심대철, 장진섭   \n",
              "297  http://blog.naver.com/hwanghee67  나성채, 조주연  나종호, 배경민   \n",
              "\n",
              "                  SECRETARY2   MONA_CD  \\\n",
              "0    안효상, 빈자영, 이유진, 김지훈, 조옥자  14M56632   \n",
              "1    박순권, 김광연, 김현정, 황인택, 정유미  L2I9861C   \n",
              "2    김창용, 오세령, 배은경, 남소영, 김광택  8P37634C   \n",
              "3    성환종, 이승연, 서경익, 윤정인, 정다정  GX22581L   \n",
              "4    김수안, 김성용, 민지홍, 황연미, 김기만  P2N50879   \n",
              "..                       ...       ...   \n",
              "293  김옥미, 이원종, 이상현, 김다예, 이아연  FRN1867O   \n",
              "294  김도영, 정윤주, 변민환, 이재환, 서연희  XA42275R   \n",
              "295  김성윤, 안지홍, 공채원, 김라희, 김보라  J9S37905   \n",
              "296       윤여진, 박병찬, 심준석, 나제임  0YT3774N   \n",
              "297  장유리, 김은지, 양지훈, 문경림, 신소라  0VU8517U   \n",
              "\n",
              "                                             MEM_TITLE  ASSEM_ADDR  \n",
              "0    [학력]\\r\\n마산공고(26회)\\r\\n창원대학교 행정학과\\r\\n중앙대학교 행정대학원...   의원회관 937호  \n",
              "1    [학력]\\r\\n송정초등학교\\r\\n안심중학교\\r\\n경북대학교 사범대학 부속고등학교\\r...   의원회관 341호  \n",
              "2    2023. 4.  ~ 현재      더불어민주당 정책위원회 상임부의장\\r\\n2023...   의원회관 440호  \n",
              "3    [학력]\\r\\n\\r\\n\\r\\n- 봉곡초등학교 졸업(14회)\\r\\n\\r\\n- 진주중학...  의원회관 1007호  \n",
              "4    현) 국회 교육위원회 위원\\r\\n\\r\\n전) 더불어민주당 원내소통부대표\\r\\n전) ...   의원회관 421호  \n",
              "..                                                 ...         ...  \n",
              "293  더불어민주당 원내대표(현)\\r\\n더불어민주당 서초구을지역위원장(현)\\r\\n\\r\\n[...   의원회관 839호  \n",
              "294  | 학력 | \\r\\n- 서울대학교 경제학부 졸업(2001년)\\r\\n- 서울대학교 경...   의원회관 326호  \n",
              "295  이화여자대학교 영어영문학\\r\\n영도여자고등학교\\r\\n\\r\\n(현) 제21대 국회의원...   의원회관 322호  \n",
              "296  <학력>\\r\\n대전산성초등학교\\r\\n동산중학교\\r\\n서대전고등학교\\r\\n경찰대학교 ...   의원회관 416호  \n",
              "297  2021.02~2022.05 문화체육관광부 장관\\r\\n2020.12~2021.02 ...   의원회관 838호  \n",
              "\n",
              "[298 rows x 23 columns]"
            ]
          },
          "execution_count": 164,
          "metadata": {},
          "output_type": "execute_result"
        }
      ],
      "source": [
        "senators = pd.read_csv(\"senators.csv\")\n",
        "senators"
      ]
    },
    {
      "cell_type": "code",
      "execution_count": 199,
      "metadata": {},
      "outputs": [
        {
          "data": {
            "text/html": [
              "<div>\n",
              "<style scoped>\n",
              "    .dataframe tbody tr th:only-of-type {\n",
              "        vertical-align: middle;\n",
              "    }\n",
              "\n",
              "    .dataframe tbody tr th {\n",
              "        vertical-align: top;\n",
              "    }\n",
              "\n",
              "    .dataframe thead th {\n",
              "        text-align: right;\n",
              "    }\n",
              "</style>\n",
              "<table border=\"1\" class=\"dataframe\">\n",
              "  <thead>\n",
              "    <tr style=\"text-align: right;\">\n",
              "      <th></th>\n",
              "      <th>HG_NM</th>\n",
              "      <th>HJ_NM</th>\n",
              "      <th>ENG_NM</th>\n",
              "      <th>BTH_GBN_NM</th>\n",
              "      <th>BTH_DATE</th>\n",
              "      <th>JOB_RES_NM</th>\n",
              "      <th>POLY_NM</th>\n",
              "      <th>ORIG_NM</th>\n",
              "      <th>ELECT_GBN_NM</th>\n",
              "      <th>CMIT_NM</th>\n",
              "      <th>...</th>\n",
              "      <th>SEX_GBN_NM</th>\n",
              "      <th>TEL_NO</th>\n",
              "      <th>E_MAIL</th>\n",
              "      <th>HOMEPAGE</th>\n",
              "      <th>STAFF</th>\n",
              "      <th>SECRETARY</th>\n",
              "      <th>SECRETARY2</th>\n",
              "      <th>MONA_CD</th>\n",
              "      <th>MEM_TITLE</th>\n",
              "      <th>ASSEM_ADDR</th>\n",
              "    </tr>\n",
              "  </thead>\n",
              "  <tbody>\n",
              "    <tr>\n",
              "      <th>289</th>\n",
              "      <td>홍문표</td>\n",
              "      <td>洪文杓</td>\n",
              "      <td>HONG MOONPYO</td>\n",
              "      <td>양</td>\n",
              "      <td>1947-10-05</td>\n",
              "      <td>위원</td>\n",
              "      <td>국민의힘</td>\n",
              "      <td>충남 홍성군예산군</td>\n",
              "      <td>지역구</td>\n",
              "      <td>농림축산식품해양수산위원회</td>\n",
              "      <td>...</td>\n",
              "      <td>남</td>\n",
              "      <td>02-784-9587</td>\n",
              "      <td>mphonglove@hanmail.net</td>\n",
              "      <td>NaN</td>\n",
              "      <td>구성완, 백택규</td>\n",
              "      <td>신충식</td>\n",
              "      <td>이선호, 김슬기, 구민희, 박기현, 엄상현</td>\n",
              "      <td>GD131760</td>\n",
              "      <td>[학력]\\r\\n\\r\\n건국대 농화학과(학사)\\r\\n한양대 행정대학원 사회사업정책학과...</td>\n",
              "      <td>의원회관 336호</td>\n",
              "    </tr>\n",
              "    <tr>\n",
              "      <th>157</th>\n",
              "      <td>우신구</td>\n",
              "      <td>禹信九</td>\n",
              "      <td>WOO SHINKU</td>\n",
              "      <td>음</td>\n",
              "      <td>1950-10-01</td>\n",
              "      <td>위원</td>\n",
              "      <td>국민의힘</td>\n",
              "      <td>비례대표</td>\n",
              "      <td>비례대표</td>\n",
              "      <td>국방위원회</td>\n",
              "      <td>...</td>\n",
              "      <td>남</td>\n",
              "      <td>02-784-9630</td>\n",
              "      <td>wooshinku@naver.com</td>\n",
              "      <td>NaN</td>\n",
              "      <td>문은선, 이창호</td>\n",
              "      <td>송준섭, 윤혁준</td>\n",
              "      <td>신은경, 김일환, 하호진, 박기인, 김희경</td>\n",
              "      <td>F0I5053J</td>\n",
              "      <td>[학력]\\r\\n고려사이버대학교 사회복지학 학사\\r\\n국민대학교 명예졸업\\r\\n국민대...</td>\n",
              "      <td>의원회관 745호</td>\n",
              "    </tr>\n",
              "    <tr>\n",
              "      <th>269</th>\n",
              "      <td>최영희</td>\n",
              "      <td>崔英姬</td>\n",
              "      <td>CHOI YOUNGHEE</td>\n",
              "      <td>음</td>\n",
              "      <td>1951-06-02</td>\n",
              "      <td>위원</td>\n",
              "      <td>국민의힘</td>\n",
              "      <td>비례대표</td>\n",
              "      <td>비례대표</td>\n",
              "      <td>보건복지위원회</td>\n",
              "      <td>...</td>\n",
              "      <td>여</td>\n",
              "      <td>02-784-8231</td>\n",
              "      <td>hee709ho@gmail.com</td>\n",
              "      <td>https://blog.naver.com/hee709ho</td>\n",
              "      <td>배봉수, 정성한</td>\n",
              "      <td>조광현, 한승룡</td>\n",
              "      <td>최승철, 조하나, 최민정, 최세황, 김태은, 김재희</td>\n",
              "      <td>YTA7297R</td>\n",
              "      <td>[주요 약력]\\r\\n\\r\\n(現) 제21대 국회 보건복지위원회 위원\\r\\n\\r\\n(...</td>\n",
              "      <td>의원회관 709호</td>\n",
              "    </tr>\n",
              "    <tr>\n",
              "      <th>119</th>\n",
              "      <td>서병수</td>\n",
              "      <td>徐秉洙</td>\n",
              "      <td>SUH BYUNGSOO</td>\n",
              "      <td>음</td>\n",
              "      <td>1952-01-09</td>\n",
              "      <td>위원</td>\n",
              "      <td>국민의힘</td>\n",
              "      <td>부산 부산진구갑</td>\n",
              "      <td>지역구</td>\n",
              "      <td>국회 2030 부산세계박람회 유치지원 특별위원회, 교육위원회</td>\n",
              "      <td>...</td>\n",
              "      <td>남</td>\n",
              "      <td>02-784-1885</td>\n",
              "      <td>suhbs8680@naver.com</td>\n",
              "      <td>NaN</td>\n",
              "      <td>김성수, 김홍식</td>\n",
              "      <td>정재관, 최준연</td>\n",
              "      <td>한경섭, 허정선, 최윤재, 유창은, 고영미</td>\n",
              "      <td>CT85313K</td>\n",
              "      <td>2020.05~ 제21대 국회의원(부산 부산진구갑/국민의힘)\\r\\n2014.07~2...</td>\n",
              "      <td>의원회관 552호</td>\n",
              "    </tr>\n",
              "    <tr>\n",
              "      <th>280</th>\n",
              "      <td>한기호</td>\n",
              "      <td>韓起鎬</td>\n",
              "      <td>HAN KIHO</td>\n",
              "      <td>음</td>\n",
              "      <td>1952-08-13</td>\n",
              "      <td>위원장</td>\n",
              "      <td>국민의힘</td>\n",
              "      <td>강원 춘천시철원군화천군양구군을</td>\n",
              "      <td>지역구</td>\n",
              "      <td>국방위원회</td>\n",
              "      <td>...</td>\n",
              "      <td>남</td>\n",
              "      <td>02-784-3860</td>\n",
              "      <td>NaN</td>\n",
              "      <td>https://blog.naver.com/nombo1</td>\n",
              "      <td>김민찬, 조재숙</td>\n",
              "      <td>김지혜, 이재희</td>\n",
              "      <td>정다와, 손정희</td>\n",
              "      <td>JQA21112</td>\n",
              "      <td>제 18ㆍ19ㆍ21대 국회의원\\r\\n\\r\\n현) 국회 국방위원회 위원장\\r\\n현) ...</td>\n",
              "      <td>의원회관 908호</td>\n",
              "    </tr>\n",
              "    <tr>\n",
              "      <th>...</th>\n",
              "      <td>...</td>\n",
              "      <td>...</td>\n",
              "      <td>...</td>\n",
              "      <td>...</td>\n",
              "      <td>...</td>\n",
              "      <td>...</td>\n",
              "      <td>...</td>\n",
              "      <td>...</td>\n",
              "      <td>...</td>\n",
              "      <td>...</td>\n",
              "      <td>...</td>\n",
              "      <td>...</td>\n",
              "      <td>...</td>\n",
              "      <td>...</td>\n",
              "      <td>...</td>\n",
              "      <td>...</td>\n",
              "      <td>...</td>\n",
              "      <td>...</td>\n",
              "      <td>...</td>\n",
              "      <td>...</td>\n",
              "      <td>...</td>\n",
              "    </tr>\n",
              "    <tr>\n",
              "      <th>8</th>\n",
              "      <td>강은미</td>\n",
              "      <td>姜恩美</td>\n",
              "      <td>KANG EUNMI</td>\n",
              "      <td>양</td>\n",
              "      <td>1970-09-06</td>\n",
              "      <td>위원</td>\n",
              "      <td>정의당</td>\n",
              "      <td>비례대표</td>\n",
              "      <td>비례대표</td>\n",
              "      <td>보건복지위원회, 연금개혁특별위원회</td>\n",
              "      <td>...</td>\n",
              "      <td>여</td>\n",
              "      <td>02-784-4162</td>\n",
              "      <td>em7086@gmail.com</td>\n",
              "      <td>blog.naver.com/em7086</td>\n",
              "      <td>이종택, 최철원</td>\n",
              "      <td>박송희, 최예지</td>\n",
              "      <td>장화동, 이신호, 양희도, 문다빈, 유태현</td>\n",
              "      <td>WMG57662</td>\n",
              "      <td>제21대 국회의원 \\r\\n\\r\\n정의당 원내대표\\r\\n정의당 부대표\\r\\n광주광역시...</td>\n",
              "      <td>의원회관 514호</td>\n",
              "    </tr>\n",
              "    <tr>\n",
              "      <th>230</th>\n",
              "      <td>장혜영</td>\n",
              "      <td>張惠英</td>\n",
              "      <td>JANG HYEYEONG</td>\n",
              "      <td>양</td>\n",
              "      <td>1987-04-08</td>\n",
              "      <td>위원</td>\n",
              "      <td>정의당</td>\n",
              "      <td>비례대표</td>\n",
              "      <td>비례대표</td>\n",
              "      <td>기획재정위원회, 기후위기특별위원회, 예산결산특별위원회</td>\n",
              "      <td>...</td>\n",
              "      <td>여</td>\n",
              "      <td>02-784-1845(의원회관516호)</td>\n",
              "      <td>contact@janghyeyeong.com</td>\n",
              "      <td>http://janghyeyeong.com</td>\n",
              "      <td>전진형, 조현수</td>\n",
              "      <td>서정진, 최기원</td>\n",
              "      <td>박진선, 유완선, 김은지, 정윤호, 백영재</td>\n",
              "      <td>GAV6441G</td>\n",
              "      <td>&amp;quot;존엄과 평등의 새로운 미래를 열겠습니다&amp;quot;\\r\\n\\r\\n- 정의당...</td>\n",
              "      <td>의원회관 516호</td>\n",
              "    </tr>\n",
              "    <tr>\n",
              "      <th>82</th>\n",
              "      <td>류호정</td>\n",
              "      <td>柳好貞</td>\n",
              "      <td>RYU HOJEONG</td>\n",
              "      <td>양</td>\n",
              "      <td>1992-08-09</td>\n",
              "      <td>위원</td>\n",
              "      <td>정의당</td>\n",
              "      <td>비례대표</td>\n",
              "      <td>비례대표</td>\n",
              "      <td>문화체육관광위원회, 인구위기특별위원회</td>\n",
              "      <td>...</td>\n",
              "      <td>여</td>\n",
              "      <td>02-784-9740</td>\n",
              "      <td>help@ryuhojeong.com</td>\n",
              "      <td>http://ryuhojeong.com</td>\n",
              "      <td>염종운, 황윤영</td>\n",
              "      <td>윤지영, 이지은</td>\n",
              "      <td>임동준, 손예지, 김유일, 예윤해, 강다은</td>\n",
              "      <td>NCP9875N</td>\n",
              "      <td>1992년 8월 9일 생\\r\\n이화여자대학교 사회학과 졸업\\r\\n\\r\\n[경력]\\r...</td>\n",
              "      <td>의원회관 513호</td>\n",
              "    </tr>\n",
              "    <tr>\n",
              "      <th>7</th>\n",
              "      <td>강성희</td>\n",
              "      <td>姜聖熙</td>\n",
              "      <td>KANG SUNGHEE</td>\n",
              "      <td>양</td>\n",
              "      <td>1972-09-07</td>\n",
              "      <td>위원</td>\n",
              "      <td>진보당</td>\n",
              "      <td>전북 전주시을</td>\n",
              "      <td>지역구</td>\n",
              "      <td>정무위원회</td>\n",
              "      <td>...</td>\n",
              "      <td>남</td>\n",
              "      <td>02-6788-6961</td>\n",
              "      <td>ksh210523@gmail.com</td>\n",
              "      <td>https://blog.naver.com/kangjinbo</td>\n",
              "      <td>김배곤, 김정엽</td>\n",
              "      <td>곽승용, 김금주</td>\n",
              "      <td>송명숙, 최한별, 박유림, 백건하, 박수정</td>\n",
              "      <td>6FS10566</td>\n",
              "      <td>[주요약력]\\r\\n現) 진보당 원내대표\\r\\n    국회 정무위원회 위원\\r\\n  ...</td>\n",
              "      <td>의원회관 523호</td>\n",
              "    </tr>\n",
              "    <tr>\n",
              "      <th>150</th>\n",
              "      <td>양향자</td>\n",
              "      <td>梁香子</td>\n",
              "      <td>YANG HYANGJA</td>\n",
              "      <td>양</td>\n",
              "      <td>1967-04-04</td>\n",
              "      <td>위원</td>\n",
              "      <td>한국의희망</td>\n",
              "      <td>광주 서구을</td>\n",
              "      <td>지역구</td>\n",
              "      <td>산업통상자원중소벤처기업위원회, 예산결산특별위원회, 첨단전략산업특별위원회</td>\n",
              "      <td>...</td>\n",
              "      <td>여</td>\n",
              "      <td>02-784-8971</td>\n",
              "      <td>bestwest1967@gmail.com</td>\n",
              "      <td>http://blog.naver.com/bestwest1967</td>\n",
              "      <td>양성현, 윤미혜</td>\n",
              "      <td>박상주, 이원재</td>\n",
              "      <td>임세훈, 박정현, 김알이, 김세은, 윤훈탁</td>\n",
              "      <td>WHV3448W</td>\n",
              "      <td>현)\\r\\n한국의희망 당대표\\r\\n제21대 국회의원 (한국의희망/광주서구을)\\r\\n...</td>\n",
              "      <td>의원회관 626호</td>\n",
              "    </tr>\n",
              "  </tbody>\n",
              "</table>\n",
              "<p>298 rows × 23 columns</p>\n",
              "</div>"
            ],
            "text/plain": [
              "    HG_NM HJ_NM         ENG_NM BTH_GBN_NM    BTH_DATE JOB_RES_NM POLY_NM  \\\n",
              "289   홍문표   洪文杓   HONG MOONPYO          양  1947-10-05         위원    국민의힘   \n",
              "157   우신구   禹信九     WOO SHINKU          음  1950-10-01         위원    국민의힘   \n",
              "269   최영희   崔英姬  CHOI YOUNGHEE          음  1951-06-02         위원    국민의힘   \n",
              "119   서병수   徐秉洙   SUH BYUNGSOO          음  1952-01-09         위원    국민의힘   \n",
              "280   한기호   韓起鎬       HAN KIHO          음  1952-08-13        위원장    국민의힘   \n",
              "..    ...   ...            ...        ...         ...        ...     ...   \n",
              "8     강은미   姜恩美     KANG EUNMI          양  1970-09-06         위원     정의당   \n",
              "230   장혜영   張惠英  JANG HYEYEONG          양  1987-04-08         위원     정의당   \n",
              "82    류호정   柳好貞    RYU HOJEONG          양  1992-08-09         위원     정의당   \n",
              "7     강성희   姜聖熙   KANG SUNGHEE          양  1972-09-07         위원     진보당   \n",
              "150   양향자   梁香子   YANG HYANGJA          양  1967-04-04         위원   한국의희망   \n",
              "\n",
              "              ORIG_NM ELECT_GBN_NM                                  CMIT_NM  \\\n",
              "289         충남 홍성군예산군          지역구                            농림축산식품해양수산위원회   \n",
              "157              비례대표         비례대표                                    국방위원회   \n",
              "269              비례대표         비례대표                                  보건복지위원회   \n",
              "119          부산 부산진구갑          지역구        국회 2030 부산세계박람회 유치지원 특별위원회, 교육위원회   \n",
              "280  강원 춘천시철원군화천군양구군을          지역구                                    국방위원회   \n",
              "..                ...          ...                                      ...   \n",
              "8                비례대표         비례대표                       보건복지위원회, 연금개혁특별위원회   \n",
              "230              비례대표         비례대표            기획재정위원회, 기후위기특별위원회, 예산결산특별위원회   \n",
              "82               비례대표         비례대표                     문화체육관광위원회, 인구위기특별위원회   \n",
              "7             전북 전주시을          지역구                                    정무위원회   \n",
              "150            광주 서구을          지역구  산업통상자원중소벤처기업위원회, 예산결산특별위원회, 첨단전략산업특별위원회   \n",
              "\n",
              "     ... SEX_GBN_NM                 TEL_NO                    E_MAIL  \\\n",
              "289  ...          남            02-784-9587    mphonglove@hanmail.net   \n",
              "157  ...          남            02-784-9630       wooshinku@naver.com   \n",
              "269  ...          여            02-784-8231        hee709ho@gmail.com   \n",
              "119  ...          남            02-784-1885       suhbs8680@naver.com   \n",
              "280  ...          남            02-784-3860                       NaN   \n",
              "..   ...        ...                    ...                       ...   \n",
              "8    ...          여            02-784-4162          em7086@gmail.com   \n",
              "230  ...          여  02-784-1845(의원회관516호)  contact@janghyeyeong.com   \n",
              "82   ...          여            02-784-9740       help@ryuhojeong.com   \n",
              "7    ...          남           02-6788-6961       ksh210523@gmail.com   \n",
              "150  ...          여            02-784-8971    bestwest1967@gmail.com   \n",
              "\n",
              "                               HOMEPAGE     STAFF SECRETARY  \\\n",
              "289                                 NaN  구성완, 백택규       신충식   \n",
              "157                                 NaN  문은선, 이창호  송준섭, 윤혁준   \n",
              "269     https://blog.naver.com/hee709ho  배봉수, 정성한  조광현, 한승룡   \n",
              "119                                 NaN  김성수, 김홍식  정재관, 최준연   \n",
              "280       https://blog.naver.com/nombo1  김민찬, 조재숙  김지혜, 이재희   \n",
              "..                                  ...       ...       ...   \n",
              "8                 blog.naver.com/em7086  이종택, 최철원  박송희, 최예지   \n",
              "230             http://janghyeyeong.com  전진형, 조현수  서정진, 최기원   \n",
              "82                http://ryuhojeong.com  염종운, 황윤영  윤지영, 이지은   \n",
              "7      https://blog.naver.com/kangjinbo  김배곤, 김정엽  곽승용, 김금주   \n",
              "150  http://blog.naver.com/bestwest1967  양성현, 윤미혜  박상주, 이원재   \n",
              "\n",
              "                       SECRETARY2   MONA_CD  \\\n",
              "289       이선호, 김슬기, 구민희, 박기현, 엄상현  GD131760   \n",
              "157       신은경, 김일환, 하호진, 박기인, 김희경  F0I5053J   \n",
              "269  최승철, 조하나, 최민정, 최세황, 김태은, 김재희  YTA7297R   \n",
              "119       한경섭, 허정선, 최윤재, 유창은, 고영미  CT85313K   \n",
              "280                      정다와, 손정희  JQA21112   \n",
              "..                            ...       ...   \n",
              "8         장화동, 이신호, 양희도, 문다빈, 유태현  WMG57662   \n",
              "230       박진선, 유완선, 김은지, 정윤호, 백영재  GAV6441G   \n",
              "82        임동준, 손예지, 김유일, 예윤해, 강다은  NCP9875N   \n",
              "7         송명숙, 최한별, 박유림, 백건하, 박수정  6FS10566   \n",
              "150       임세훈, 박정현, 김알이, 김세은, 윤훈탁  WHV3448W   \n",
              "\n",
              "                                             MEM_TITLE ASSEM_ADDR  \n",
              "289  [학력]\\r\\n\\r\\n건국대 농화학과(학사)\\r\\n한양대 행정대학원 사회사업정책학과...  의원회관 336호  \n",
              "157  [학력]\\r\\n고려사이버대학교 사회복지학 학사\\r\\n국민대학교 명예졸업\\r\\n국민대...  의원회관 745호  \n",
              "269  [주요 약력]\\r\\n\\r\\n(現) 제21대 국회 보건복지위원회 위원\\r\\n\\r\\n(...  의원회관 709호  \n",
              "119  2020.05~ 제21대 국회의원(부산 부산진구갑/국민의힘)\\r\\n2014.07~2...  의원회관 552호  \n",
              "280  제 18ㆍ19ㆍ21대 국회의원\\r\\n\\r\\n현) 국회 국방위원회 위원장\\r\\n현) ...  의원회관 908호  \n",
              "..                                                 ...        ...  \n",
              "8    제21대 국회의원 \\r\\n\\r\\n정의당 원내대표\\r\\n정의당 부대표\\r\\n광주광역시...  의원회관 514호  \n",
              "230  &quot;존엄과 평등의 새로운 미래를 열겠습니다&quot;\\r\\n\\r\\n- 정의당...  의원회관 516호  \n",
              "82   1992년 8월 9일 생\\r\\n이화여자대학교 사회학과 졸업\\r\\n\\r\\n[경력]\\r...  의원회관 513호  \n",
              "7    [주요약력]\\r\\n現) 진보당 원내대표\\r\\n    국회 정무위원회 위원\\r\\n  ...  의원회관 523호  \n",
              "150  현)\\r\\n한국의희망 당대표\\r\\n제21대 국회의원 (한국의희망/광주서구을)\\r\\n...  의원회관 626호  \n",
              "\n",
              "[298 rows x 23 columns]"
            ]
          },
          "execution_count": 199,
          "metadata": {},
          "output_type": "execute_result"
        }
      ],
      "source": [
        "senators.sort_values(by=['POLY_NM', 'BTH_DATE'])"
      ]
    },
    {
      "cell_type": "code",
      "execution_count": 179,
      "metadata": {},
      "outputs": [
        {
          "data": {
            "text/html": [
              "<div>\n",
              "<style scoped>\n",
              "    .dataframe tbody tr th:only-of-type {\n",
              "        vertical-align: middle;\n",
              "    }\n",
              "\n",
              "    .dataframe tbody tr th {\n",
              "        vertical-align: top;\n",
              "    }\n",
              "\n",
              "    .dataframe thead th {\n",
              "        text-align: right;\n",
              "    }\n",
              "</style>\n",
              "<table border=\"1\" class=\"dataframe\">\n",
              "  <thead>\n",
              "    <tr style=\"text-align: right;\">\n",
              "      <th></th>\n",
              "      <th>b</th>\n",
              "      <th>d</th>\n",
              "      <th>e</th>\n",
              "    </tr>\n",
              "  </thead>\n",
              "  <tbody>\n",
              "    <tr>\n",
              "      <th>Utah</th>\n",
              "      <td>0.762471</td>\n",
              "      <td>-0.252740</td>\n",
              "      <td>-0.156983</td>\n",
              "    </tr>\n",
              "    <tr>\n",
              "      <th>Ohio</th>\n",
              "      <td>0.119554</td>\n",
              "      <td>0.414961</td>\n",
              "      <td>0.265160</td>\n",
              "    </tr>\n",
              "    <tr>\n",
              "      <th>Texas</th>\n",
              "      <td>1.102615</td>\n",
              "      <td>1.466950</td>\n",
              "      <td>-0.207622</td>\n",
              "    </tr>\n",
              "    <tr>\n",
              "      <th>Oregon</th>\n",
              "      <td>2.661171</td>\n",
              "      <td>-2.702339</td>\n",
              "      <td>-0.212661</td>\n",
              "    </tr>\n",
              "  </tbody>\n",
              "</table>\n",
              "</div>"
            ],
            "text/plain": [
              "               b         d         e\n",
              "Utah    0.762471 -0.252740 -0.156983\n",
              "Ohio    0.119554  0.414961  0.265160\n",
              "Texas   1.102615  1.466950 -0.207622\n",
              "Oregon  2.661171 -2.702339 -0.212661"
            ]
          },
          "execution_count": 179,
          "metadata": {},
          "output_type": "execute_result"
        }
      ],
      "source": [
        "frame = pd.DataFrame(np.random.randn(4, 3), columns=list('bde'),\n",
        "                     index=['Utah', 'Ohio', 'Texas', 'Oregon'])\n",
        "frame"
      ]
    },
    {
      "cell_type": "code",
      "execution_count": 182,
      "metadata": {
        "colab": {
          "base_uri": "https://localhost:8080/"
        },
        "id": "--bIqJZlI12E",
        "outputId": "9d2fd683-674f-4b53-9015-2f7c52ecc2b7"
      },
      "outputs": [
        {
          "data": {
            "text/plain": [
              "b    2.541617\n",
              "d    4.169289\n",
              "e    0.477821\n",
              "dtype: float64"
            ]
          },
          "execution_count": 182,
          "metadata": {},
          "output_type": "execute_result"
        }
      ],
      "source": [
        "# 드디어 나왔다. apply. \n",
        "# axis를 지정해주지 않으면 index를 기준으로 판단한다. \n",
        "# column이 같으면서 index가 다른 것들의 max, min 값. 즉, 열방향\n",
        "frame.apply(lambda x: x.max() - x.min())"
      ]
    },
    {
      "cell_type": "code",
      "execution_count": 185,
      "metadata": {
        "colab": {
          "base_uri": "https://localhost:8080/"
        },
        "id": "9LX0lGOpI12E",
        "outputId": "4b0f523f-440d-4480-b3f6-2b7677b5afde"
      },
      "outputs": [
        {
          "name": "stdout",
          "output_type": "stream",
          "text": [
            "b    0.762471\n",
            "d   -0.252740\n",
            "e   -0.156983\n",
            "Name: Utah, dtype: float64\n",
            "b    0.119554\n",
            "d    0.414961\n",
            "e    0.265160\n",
            "Name: Ohio, dtype: float64\n",
            "b    1.102615\n",
            "d    1.466950\n",
            "e   -0.207622\n",
            "Name: Texas, dtype: float64\n",
            "b    2.661171\n",
            "d   -2.702339\n",
            "e   -0.212661\n",
            "Name: Oregon, dtype: float64\n"
          ]
        },
        {
          "data": {
            "text/plain": [
              "Utah      1.015212\n",
              "Ohio      0.295407\n",
              "Texas     1.674572\n",
              "Oregon    5.363510\n",
              "dtype: float64"
            ]
          },
          "execution_count": 185,
          "metadata": {},
          "output_type": "execute_result"
        }
      ],
      "source": [
        "# index가 같으면서 column이 다른 것들의 max, min 값. 즉, 행방향\n",
        "# 가로로 뜯어서 들어오는 경우가 더 많다.\n",
        "def f(x):\n",
        "    print(x)\n",
        "    return x.max() - x.min()\n",
        "frame.apply(f, axis=1)"
      ]
    },
    {
      "cell_type": "code",
      "execution_count": 186,
      "metadata": {
        "colab": {
          "base_uri": "https://localhost:8080/",
          "height": 112
        },
        "id": "5JzbUgaKI12E",
        "outputId": "ff95df5a-758b-4dbd-ecd2-69118dbce880"
      },
      "outputs": [
        {
          "data": {
            "text/html": [
              "<div>\n",
              "<style scoped>\n",
              "    .dataframe tbody tr th:only-of-type {\n",
              "        vertical-align: middle;\n",
              "    }\n",
              "\n",
              "    .dataframe tbody tr th {\n",
              "        vertical-align: top;\n",
              "    }\n",
              "\n",
              "    .dataframe thead th {\n",
              "        text-align: right;\n",
              "    }\n",
              "</style>\n",
              "<table border=\"1\" class=\"dataframe\">\n",
              "  <thead>\n",
              "    <tr style=\"text-align: right;\">\n",
              "      <th></th>\n",
              "      <th>b</th>\n",
              "      <th>d</th>\n",
              "      <th>e</th>\n",
              "    </tr>\n",
              "  </thead>\n",
              "  <tbody>\n",
              "    <tr>\n",
              "      <th>min</th>\n",
              "      <td>0.119554</td>\n",
              "      <td>-2.702339</td>\n",
              "      <td>-0.212661</td>\n",
              "    </tr>\n",
              "    <tr>\n",
              "      <th>max</th>\n",
              "      <td>2.661171</td>\n",
              "      <td>1.466950</td>\n",
              "      <td>0.265160</td>\n",
              "    </tr>\n",
              "  </tbody>\n",
              "</table>\n",
              "</div>"
            ],
            "text/plain": [
              "            b         d         e\n",
              "min  0.119554 -2.702339 -0.212661\n",
              "max  2.661171  1.466950  0.265160"
            ]
          },
          "execution_count": 186,
          "metadata": {},
          "output_type": "execute_result"
        }
      ],
      "source": [
        "def f(x):\n",
        "    return pd.Series([x.min(), x.max()], index=['min', 'max'])\n",
        "frame.apply(f)"
      ]
    },
    {
      "cell_type": "markdown",
      "metadata": {
        "id": "Sj8dIJaCI12E"
      },
      "source": [
        "#### 정렬과 랭킹 매기기"
      ]
    },
    {
      "cell_type": "code",
      "execution_count": 187,
      "metadata": {
        "colab": {
          "base_uri": "https://localhost:8080/"
        },
        "id": "cILc7SXWI12F",
        "outputId": "dce3c4ac-10f3-4a42-d0d3-e040b9aa1ee7"
      },
      "outputs": [
        {
          "data": {
            "text/plain": [
              "a    1\n",
              "b    2\n",
              "c    3\n",
              "d    0\n",
              "dtype: int64"
            ]
          },
          "execution_count": 187,
          "metadata": {},
          "output_type": "execute_result"
        }
      ],
      "source": [
        "obj = pd.Series(range(4), index=['d', 'a', 'b', 'c'])\n",
        "obj.sort_index()"
      ]
    },
    {
      "cell_type": "code",
      "execution_count": 190,
      "metadata": {},
      "outputs": [
        {
          "data": {
            "text/plain": [
              "d    0\n",
              "a    1\n",
              "b    2\n",
              "c    3\n",
              "dtype: int64"
            ]
          },
          "execution_count": 190,
          "metadata": {},
          "output_type": "execute_result"
        }
      ],
      "source": [
        "obj.sort_values()"
      ]
    },
    {
      "cell_type": "code",
      "execution_count": 195,
      "metadata": {
        "colab": {
          "base_uri": "https://localhost:8080/",
          "height": 112
        },
        "id": "I8b6Sdo0I12F",
        "outputId": "16b282d9-41d4-46cb-bb68-e42f2839f26b"
      },
      "outputs": [
        {
          "data": {
            "text/html": [
              "<div>\n",
              "<style scoped>\n",
              "    .dataframe tbody tr th:only-of-type {\n",
              "        vertical-align: middle;\n",
              "    }\n",
              "\n",
              "    .dataframe tbody tr th {\n",
              "        vertical-align: top;\n",
              "    }\n",
              "\n",
              "    .dataframe thead th {\n",
              "        text-align: right;\n",
              "    }\n",
              "</style>\n",
              "<table border=\"1\" class=\"dataframe\">\n",
              "  <thead>\n",
              "    <tr style=\"text-align: right;\">\n",
              "      <th></th>\n",
              "      <th>d</th>\n",
              "      <th>a</th>\n",
              "      <th>b</th>\n",
              "      <th>c</th>\n",
              "    </tr>\n",
              "  </thead>\n",
              "  <tbody>\n",
              "    <tr>\n",
              "      <th>three</th>\n",
              "      <td>0</td>\n",
              "      <td>1</td>\n",
              "      <td>2</td>\n",
              "      <td>3</td>\n",
              "    </tr>\n",
              "    <tr>\n",
              "      <th>one</th>\n",
              "      <td>4</td>\n",
              "      <td>5</td>\n",
              "      <td>6</td>\n",
              "      <td>7</td>\n",
              "    </tr>\n",
              "  </tbody>\n",
              "</table>\n",
              "</div>"
            ],
            "text/plain": [
              "       d  a  b  c\n",
              "three  0  1  2  3\n",
              "one    4  5  6  7"
            ]
          },
          "execution_count": 195,
          "metadata": {},
          "output_type": "execute_result"
        }
      ],
      "source": [
        "frame = pd.DataFrame(np.arange(8).reshape((2, 4)),\n",
        "                     index=['three', 'one'],\n",
        "                     columns=['d', 'a', 'b', 'c'])\n",
        "frame.sort_values(by = ['b','a'])\n",
        "# frame.sort_index(axis=1)"
      ]
    },
    {
      "cell_type": "code",
      "execution_count": null,
      "metadata": {
        "colab": {
          "base_uri": "https://localhost:8080/",
          "height": 112
        },
        "id": "4WKq7_6SI12F",
        "outputId": "e975ee78-4442-4d88-ae23-eeffc05bb2b3"
      },
      "outputs": [],
      "source": [
        "frame.sort_index(axis=1, ascending=False)"
      ]
    },
    {
      "cell_type": "code",
      "execution_count": null,
      "metadata": {
        "colab": {
          "base_uri": "https://localhost:8080/",
          "height": 175
        },
        "id": "J7PWxo4MI12F",
        "outputId": "7c2d74ac-953f-4ac1-e085-f53dac220ffb"
      },
      "outputs": [],
      "source": [
        "frame = pd.DataFrame({'b': [4, 7, -3, 2], 'a': [0, 1, 0, 1]})\n",
        "frame\n"
      ]
    },
    {
      "cell_type": "code",
      "execution_count": null,
      "metadata": {
        "colab": {
          "base_uri": "https://localhost:8080/",
          "height": 175
        },
        "id": "ND7mC6qKI12F",
        "outputId": "4ec96dfe-4540-4b6a-9ef2-258f3fd6005c"
      },
      "outputs": [],
      "source": [
        "# 2개도 된다.\n",
        "frame.sort_values(by=['a', 'b'])"
      ]
    },
    {
      "cell_type": "markdown",
      "metadata": {
        "id": "mfdUzKhQI12F"
      },
      "source": [
        "#### 유니크, 빈도 세기"
      ]
    },
    {
      "cell_type": "code",
      "execution_count": 223,
      "metadata": {},
      "outputs": [
        {
          "data": {
            "text/plain": [
              "Index(['HG_NM', 'HJ_NM', 'ENG_NM', 'BTH_GBN_NM', 'BTH_DATE', 'JOB_RES_NM',\n",
              "       'POLY_NM', 'ORIG_NM', 'ELECT_GBN_NM', 'CMIT_NM', 'CMITS',\n",
              "       'REELE_GBN_NM', 'UNITS', 'SEX_GBN_NM', 'TEL_NO', 'E_MAIL', 'HOMEPAGE',\n",
              "       'STAFF', 'SECRETARY', 'SECRETARY2', 'MONA_CD', 'MEM_TITLE',\n",
              "       'ASSEM_ADDR'],\n",
              "      dtype='object')"
            ]
          },
          "execution_count": 223,
          "metadata": {},
          "output_type": "execute_result"
        }
      ],
      "source": [
        "senators.columns"
      ]
    },
    {
      "cell_type": "code",
      "execution_count": 222,
      "metadata": {},
      "outputs": [
        {
          "data": {
            "text/plain": [
              "<Axes: xlabel='BTH_DATE'>"
            ]
          },
          "execution_count": 222,
          "metadata": {},
          "output_type": "execute_result"
        },
        {
          "data": {
            "image/png": "[encoded data removed]",
            "text/plain": [
              "<Figure size 640x480 with 1 Axes>"
            ]
          },
          "metadata": {},
          "output_type": "display_data"
        }
      ],
      "source": [
        "import datetime\n",
        "senators['BTH_DATE'].apply(lambda x: x.split(\"-\")[0]).value_counts().sort_index().plot(kind='bar')"
      ]
    },
    {
      "cell_type": "code",
      "execution_count": null,
      "metadata": {
        "colab": {
          "base_uri": "https://localhost:8080/"
        },
        "id": "c6cuu_AYI12F",
        "outputId": "3c6201ee-075c-494a-b6db-a48b066bbcd9"
      },
      "outputs": [],
      "source": [
        "uniques = obj.unique()\n",
        "uniques"
      ]
    },
    {
      "cell_type": "code",
      "execution_count": 242,
      "metadata": {
        "colab": {
          "base_uri": "https://localhost:8080/"
        },
        "id": "O0foWYeKI12F",
        "outputId": "4e87355b-6198-49dd-b7be-e9d1a2b2c82a"
      },
      "outputs": [
        {
          "data": {
            "text/plain": [
              "Index(['HG_NM', 'HJ_NM', 'ENG_NM', 'BTH_GBN_NM', 'BTH_DATE', 'JOB_RES_NM',\n",
              "       'POLY_NM', 'ORIG_NM', 'ELECT_GBN_NM', 'CMIT_NM', 'CMITS',\n",
              "       'REELE_GBN_NM', 'UNITS', 'SEX_GBN_NM', 'TEL_NO', 'E_MAIL', 'HOMEPAGE',\n",
              "       'STAFF', 'SECRETARY', 'SECRETARY2', 'MONA_CD', 'MEM_TITLE',\n",
              "       'ASSEM_ADDR'],\n",
              "      dtype='object')"
            ]
          },
          "execution_count": 242,
          "metadata": {},
          "output_type": "execute_result"
        }
      ],
      "source": [
        "senators.columns"
      ]
    },
    {
      "cell_type": "code",
      "execution_count": 258,
      "metadata": {
        "colab": {
          "base_uri": "https://localhost:8080/"
        },
        "id": "ywVVaIdOI12F",
        "outputId": "a346bad0-a34a-4551-f232-3a6b3d32b988"
      },
      "outputs": [
        {
          "data": {
            "text/plain": [
              "POLY_NM\n",
              "국민의힘      1962.946903\n",
              "기본소득당     1990.000000\n",
              "더불어민주당    1964.981707\n",
              "무소속       1963.750000\n",
              "정의당       1974.166667\n",
              "진보당       1972.000000\n",
              "한국의희망     1967.000000\n",
              "Name: BTH_YEAR, dtype: float64"
            ]
          },
          "execution_count": 258,
          "metadata": {},
          "output_type": "execute_result"
        }
      ],
      "source": [
        "# senators['BTH_YEAR'] = senators['BTH_DATE'].apply(lambda x: int(x.split('-')[0]))\n",
        "senators.groupby(['POLY_NM'])['BTH_YEAR'].apply(lambda x: np.mean(x))"
      ]
    },
    {
      "cell_type": "code",
      "execution_count": null,
      "metadata": {},
      "outputs": [],
      "source": []
    }
  ],
  "metadata": {
    "colab": {
      "provenance": []
    },
    "kernelspec": {
      "display_name": "Python 3 (ipykernel)",
      "language": "python",
      "name": "python3"
    },
    "language_info": {
      "codemirror_mode": {
        "name": "ipython",
        "version": 3
      },
      "file_extension": ".py",
      "mimetype": "text/x-python",
      "name": "python",
      "nbconvert_exporter": "python",
      "pygments_lexer": "ipython3",
      "version": "3.11.5"
    }
  },
  "nbformat": 4,
  "nbformat_minor": 0
}
