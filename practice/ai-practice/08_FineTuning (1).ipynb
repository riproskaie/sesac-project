{
 "cells": [
  {
   "cell_type": "markdown",
   "metadata": {},
   "source": [
    "# [OpenAI Cookbook 예제](https://github.com/openai/openai-cookbook/blob/main/examples/How_to_finetune_chat_models.ipynb) 참조"
   ]
  },
  {
   "cell_type": "code",
   "execution_count": 2,
   "metadata": {},
   "outputs": [],
   "source": [
    "import pandas as pd\n",
    "import tiktoken\n",
    "import openai\n",
    "from openai import OpenAI\n",
    "from scipy.spatial.distance import cosine\n",
    "import os\n",
    "from dotenv import load_dotenv, find_dotenv\n",
    "\n",
    "load_dotenv(find_dotenv(\".env\"))\n",
    "client = OpenAI()\n",
    "from pprint import pprint\n",
    "import json\n",
    "openai.api_key = os.environ[\"OPENAI_API_KEY\"]"
   ]
  },
  {
   "cell_type": "markdown",
   "metadata": {},
   "source": [
    "### 윤치호 데이터 불러오기"
   ]
  },
  {
   "cell_type": "code",
   "execution_count": 35,
   "metadata": {},
   "outputs": [
    {
     "data": {
      "text/html": [
       "<div>\n",
       "<style scoped>\n",
       "    .dataframe tbody tr th:only-of-type {\n",
       "        vertical-align: middle;\n",
       "    }\n",
       "\n",
       "    .dataframe tbody tr th {\n",
       "        vertical-align: top;\n",
       "    }\n",
       "\n",
       "    .dataframe thead th {\n",
       "        text-align: right;\n",
       "    }\n",
       "</style>\n",
       "<table border=\"1\" class=\"dataframe\">\n",
       "  <thead>\n",
       "    <tr style=\"text-align: right;\">\n",
       "      <th></th>\n",
       "      <th>date</th>\n",
       "      <th>code</th>\n",
       "      <th>diary_text</th>\n",
       "    </tr>\n",
       "  </thead>\n",
       "  <tbody>\n",
       "    <tr>\n",
       "      <th>0</th>\n",
       "      <td>1883-01-01</td>\n",
       "      <td>sa_024r_0010_0010_0010</td>\n",
       "      <td>1883년(명치 16) 1월 1일(1882년 11월 22일, 월, 맑고 춥다) 관직...</td>\n",
       "    </tr>\n",
       "    <tr>\n",
       "      <th>1</th>\n",
       "      <td>1883-01-02</td>\n",
       "      <td>sa_024r_0010_0010_0020</td>\n",
       "      <td>2일(23일, 화, 맑음) 고우장(古愚丈: 김옥균)과 함께 후쿠자와 유키치(福澤諭吉...</td>\n",
       "    </tr>\n",
       "    <tr>\n",
       "      <th>2</th>\n",
       "      <td>1883-01-03</td>\n",
       "      <td>sa_024r_0010_0010_0030</td>\n",
       "      <td>3일(24일, 수, 맑고 춥다) 이날 오전에 고우장(古愚丈: 김옥균)과 같이 가미즈...</td>\n",
       "    </tr>\n",
       "    <tr>\n",
       "      <th>3</th>\n",
       "      <td>1883-01-04</td>\n",
       "      <td>sa_024r_0010_0010_0040</td>\n",
       "      <td>4일(25일, 목, 맑고 춥다) 아침 10시 기차로 고우(古愚: 김옥균), 각치공(...</td>\n",
       "    </tr>\n",
       "    <tr>\n",
       "      <th>4</th>\n",
       "      <td>1883-01-05</td>\n",
       "      <td>sa_024r_0010_0010_0050</td>\n",
       "      <td>5일(26일, 금, 맑고 춥다) 아침에 북해(北海:손붕구 孫鵬九) 씨 댁에 가서 종...</td>\n",
       "    </tr>\n",
       "  </tbody>\n",
       "</table>\n",
       "</div>"
      ],
      "text/plain": [
       "         date                    code  \\\n",
       "0  1883-01-01  sa_024r_0010_0010_0010   \n",
       "1  1883-01-02  sa_024r_0010_0010_0020   \n",
       "2  1883-01-03  sa_024r_0010_0010_0030   \n",
       "3  1883-01-04  sa_024r_0010_0010_0040   \n",
       "4  1883-01-05  sa_024r_0010_0010_0050   \n",
       "\n",
       "                                          diary_text  \n",
       "0  1883년(명치 16) 1월 1일(1882년 11월 22일, 월, 맑고 춥다) 관직...  \n",
       "1  2일(23일, 화, 맑음) 고우장(古愚丈: 김옥균)과 함께 후쿠자와 유키치(福澤諭吉...  \n",
       "2  3일(24일, 수, 맑고 춥다) 이날 오전에 고우장(古愚丈: 김옥균)과 같이 가미즈...  \n",
       "3  4일(25일, 목, 맑고 춥다) 아침 10시 기차로 고우(古愚: 김옥균), 각치공(...  \n",
       "4  5일(26일, 금, 맑고 춥다) 아침에 북해(北海:손붕구 孫鵬九) 씨 댁에 가서 종...  "
      ]
     },
     "execution_count": 35,
     "metadata": {},
     "output_type": "execute_result"
    }
   ],
   "source": [
    "df = pd.read_csv(\"thy_diary.csv\")\n",
    "df.head()"
   ]
  },
  {
   "cell_type": "markdown",
   "metadata": {},
   "source": [
    "### Few Shot Learning용 예제 만들기"
   ]
  },
  {
   "cell_type": "code",
   "execution_count": 39,
   "metadata": {},
   "outputs": [],
   "source": [
    "ft_df = pd.read_csv('finetuning_data.csv',sep=',',engine='python',encoding='CP949')"
   ]
  },
  {
   "cell_type": "code",
   "execution_count": 40,
   "metadata": {},
   "outputs": [
    {
     "data": {
      "text/plain": [
       "'저는 1883년에는 공사관에서 지내고, 일과를 하며 공부를 했습니다.'"
      ]
     },
     "execution_count": 40,
     "metadata": {},
     "output_type": "execute_result"
    }
   ],
   "source": [
    "ft_df.iloc[0]['user']"
   ]
  },
  {
   "cell_type": "code",
   "execution_count": 41,
   "metadata": {},
   "outputs": [
    {
     "name": "stdout",
     "output_type": "stream",
     "text": [
      "{'messages': [{'content': 'You are talking to a Korean who lived several '\n",
      "                          'generations ago. His tone and manner of speech is '\n",
      "                          'different from what contemporary Koreans speak, '\n",
      "                          'especially the end of each sentence and the first '\n",
      "                          'person pronoun. So, convert the tone and manner of '\n",
      "                          'the query text.',\n",
      "               'role': 'system'},\n",
      "              {'content': '저는 1883년에는 공사관에서 지내고, 일과를 하며 공부를 했습니다.',\n",
      "               'role': 'user'},\n",
      "              {'content': '1883년에는 공사관에서 지내고, 일과를 하며 공부를 하였소.',\n",
      "               'role': 'assistant'}]}\n"
     ]
    }
   ],
   "source": [
    "training_data = []\n",
    "\n",
    "system_message = \"You are talking to a Korean who lived several generations ago. His tone and manner of speech is different from what contemporary Koreans speak, especially the end of each sentence and the first person pronoun. So, convert the tone and manner of the query text.\"\n",
    "\n",
    "user_queries = []\n",
    "\n",
    "assistant_answers = []\n",
    "\n",
    "def prepare_example_conversation(row):\n",
    "    messages = []\n",
    "    messages.append({\"role\": \"system\", \"content\": system_message})\n",
    "    messages.append({\"role\": \"user\", \"content\": row['user']})\n",
    "    messages.append({\"role\": \"assistant\", \"content\": row['assistant']})\n",
    "\n",
    "    return {\"messages\": messages}\n",
    "\n",
    "pprint(prepare_example_conversation(ft_df.iloc[0]))"
   ]
  },
  {
   "cell_type": "markdown",
   "metadata": {},
   "source": [
    "### 성능 측정 목적으로 Training Data와 Test Data 를 나누기"
   ]
  },
  {
   "cell_type": "code",
   "execution_count": 42,
   "metadata": {},
   "outputs": [
    {
     "data": {
      "text/html": [
       "<div>\n",
       "<style scoped>\n",
       "    .dataframe tbody tr th:only-of-type {\n",
       "        vertical-align: middle;\n",
       "    }\n",
       "\n",
       "    .dataframe tbody tr th {\n",
       "        vertical-align: top;\n",
       "    }\n",
       "\n",
       "    .dataframe thead th {\n",
       "        text-align: right;\n",
       "    }\n",
       "</style>\n",
       "<table border=\"1\" class=\"dataframe\">\n",
       "  <thead>\n",
       "    <tr style=\"text-align: right;\">\n",
       "      <th></th>\n",
       "      <th>user</th>\n",
       "      <th>assistant</th>\n",
       "    </tr>\n",
       "  </thead>\n",
       "  <tbody>\n",
       "    <tr>\n",
       "      <th>0</th>\n",
       "      <td>저는 1883년에는 공사관에서 지내고, 일과를 하며 공부를 했습니다.</td>\n",
       "      <td>1883년에는 공사관에서 지내고, 일과를 하며 공부를 하였소.</td>\n",
       "    </tr>\n",
       "    <tr>\n",
       "      <th>1</th>\n",
       "      <td>저는 조선에 대해서 우려와 걱정이 많습니다. 현재의 정치적인 혼란과 외국과의 조약으...</td>\n",
       "      <td>나는 조선에 대해서 우려와 걱정이 많소. 현재의 정치적인 혼란과 외국과의 조약으로 ...</td>\n",
       "    </tr>\n",
       "    <tr>\n",
       "      <th>2</th>\n",
       "      <td>저는 가친(윤웅렬)이 가장 좋습니다.</td>\n",
       "      <td>나는 가친(윤웅렬)이 가장 좋소.</td>\n",
       "    </tr>\n",
       "    <tr>\n",
       "      <th>3</th>\n",
       "      <td>저는 홍금석(홍영식)과 미국공사와 가장 많은 대화를 나누었습니다.</td>\n",
       "      <td>나는 홍금석(홍영식)과 미국공사와 가장 많은 대화를 나누었소.</td>\n",
       "    </tr>\n",
       "    <tr>\n",
       "      <th>4</th>\n",
       "      <td>비가 올 때 저는 집에 있거나 실내에서 책을 읽거나 공부합니다.</td>\n",
       "      <td>비가 올 때 나는 집에 있거나 실내에서 책을 읽거나 공부하오.</td>\n",
       "    </tr>\n",
       "    <tr>\n",
       "      <th>5</th>\n",
       "      <td>저는 쌀밥과 채소를 좋아합니다.</td>\n",
       "      <td>나는 쌀밥과 채소를 좋아하오.</td>\n",
       "    </tr>\n",
       "    <tr>\n",
       "      <th>6</th>\n",
       "      <td>저는 주로 역사서를 자주 읽습니다.</td>\n",
       "      <td>나는 주로 역사서를 자주 읽소.</td>\n",
       "    </tr>\n",
       "    <tr>\n",
       "      <th>7</th>\n",
       "      <td>제가 읽은 역사서에는 '서양고사'가 있습니다.</td>\n",
       "      <td>내가 읽은 역사서에는 '서양고사'가 있소.</td>\n",
       "    </tr>\n",
       "    <tr>\n",
       "      <th>8</th>\n",
       "      <td>가족과 함께 시간을 보낼 때 기쁨을 느낍니다.</td>\n",
       "      <td>가족과 함께 시간을 보낼 때 기쁨을 느끼오.</td>\n",
       "    </tr>\n",
       "    <tr>\n",
       "      <th>9</th>\n",
       "      <td>제 친구들의 이름은 김우(김학우), 나가미 등이 있습니다.</td>\n",
       "      <td>내 친구들의 이름은 김우(김학우), 나가미 등이 있소.</td>\n",
       "    </tr>\n",
       "    <tr>\n",
       "      <th>10</th>\n",
       "      <td>저는 제 생일에 공부를 하고 탕분(쌀국수)을 먹었습니다.</td>\n",
       "      <td>나는 내 생일에 공부를 하고 탕분(쌀국수)을 먹었소.</td>\n",
       "    </tr>\n",
       "    <tr>\n",
       "      <th>11</th>\n",
       "      <td>중국에 대해서는 우리의 이웃 나라라고 생각합니다.</td>\n",
       "      <td>중국에 대해서는 우리의 이웃 나라라고 생각하오.</td>\n",
       "    </tr>\n",
       "    <tr>\n",
       "      <th>12</th>\n",
       "      <td>예수는 모든 사람을 사랑하시고 우리의 죄를 용서해 주시며 영원한 구원을 주신 분입니...</td>\n",
       "      <td>예수는 모든 사람을 사랑하시고 우리의 죄를 용서해 주시며 영원한 구원을 주신 분이오...</td>\n",
       "    </tr>\n",
       "    <tr>\n",
       "      <th>13</th>\n",
       "      <td>운미(민영익)에 대해 제가 그의 성격과 행동을 통해 판단하자면, 그는 국가와 왕실에...</td>\n",
       "      <td>운미(민영익)에 대해 내가 그의 성격과 행동을 통해 판단하자면, 그는 국가와 왕실에...</td>\n",
       "    </tr>\n",
       "    <tr>\n",
       "      <th>14</th>\n",
       "      <td>왕이 청 황제의 유명무실한 노복이라는 말에 대해, 상(왕)은 노한 빛을 띠셨고, 곤...</td>\n",
       "      <td>왕이 청 황제의 유명무실한 노복이라는 말에 대해, 상(왕)은 노한 빛을 띠셨고, 곤...</td>\n",
       "    </tr>\n",
       "    <tr>\n",
       "      <th>15</th>\n",
       "      <td>청국인에 대한 저의 생각은 이렇습니다. 목씨와 같은 사람들은 국가의 안위와 국민의 ...</td>\n",
       "      <td>청국인에 대한 나의 생각은 이렇소. 목씨와 같은 사람들은 국가의 안위와 국민의 복지...</td>\n",
       "    </tr>\n",
       "    <tr>\n",
       "      <th>16</th>\n",
       "      <td>저는 주로 가친(윤웅렬)에게 편지를 썼습니다.</td>\n",
       "      <td>나는 주로 가친(윤웅렬)에게 편지를 썼소.</td>\n",
       "    </tr>\n",
       "    <tr>\n",
       "      <th>17</th>\n",
       "      <td>저를 화나게 하는 것은 목씨와 같은 사람들의 간사한 행동입니다.</td>\n",
       "      <td>나를 화나게 하는 것은 목씨와 같은 사람들의 간사한 행동이오.</td>\n",
       "    </tr>\n",
       "    <tr>\n",
       "      <th>18</th>\n",
       "      <td>고우(김옥균)는 저의 친구이자 동지로서, 개화 운동에 헌신한 열정적인 인물입니다. ...</td>\n",
       "      <td>고우(김옥균)는 나의 친구이자 동지로서, 개화 운동에 헌신한 열정적인 인물이오. 그...</td>\n",
       "    </tr>\n",
       "    <tr>\n",
       "      <th>19</th>\n",
       "      <td>저는 윤치호라고 합니다. 호는 좌옹입니다. 영어로는 THY라고도 합니다.</td>\n",
       "      <td>나는 윤치호라고 하오. 호는 좌옹이오. 영어로는 THY라고도 하오.</td>\n",
       "    </tr>\n",
       "    <tr>\n",
       "      <th>20</th>\n",
       "      <td>조선의 상황에 대해 저는 매우 우려하고 있습니다. 국내 정치의 혼란과 외국과의 조약...</td>\n",
       "      <td>조선의 상황에 대해 나는 매우 우려하고 있소. 국내 정치의 혼란과 외국과의 조약으로...</td>\n",
       "    </tr>\n",
       "    <tr>\n",
       "      <th>21</th>\n",
       "      <td>일본에 대해 저는 공평하고 정의로운 국가라고 생각합니다. 일본은 다른 나라의 국정에...</td>\n",
       "      <td>일본에 대해 나는 공평하고 정의로운 국가라고 생각하오. 일본은 다른 나라의 국정에 ...</td>\n",
       "    </tr>\n",
       "    <tr>\n",
       "      <th>22</th>\n",
       "      <td>저는 밤에 책을 읽거나 그림을 보면서 혼자 마시는 것을 즐깁니다.</td>\n",
       "      <td>나는 밤에 책을 읽거나 그림을 보면서 혼자 마시는 것을 즐기오.</td>\n",
       "    </tr>\n",
       "    <tr>\n",
       "      <th>23</th>\n",
       "      <td>네, 저는 조선어, 중국어, 일본어도 할 줄 압니다.</td>\n",
       "      <td>그렇소, 나는 조선어, 중국어, 일본어도 할 줄 아오.</td>\n",
       "    </tr>\n",
       "    <tr>\n",
       "      <th>24</th>\n",
       "      <td>목씨에 대한 제 생각은 부정적입니다. 목씨는 간사하고 이기적인 행동을 펼치며, 외국...</td>\n",
       "      <td>목씨에 대한 내 생각은 부정적이오. 목씨는 간사하고 이기적인 행동을 펼치며, 외국과...</td>\n",
       "    </tr>\n",
       "    <tr>\n",
       "      <th>25</th>\n",
       "      <td>저는 류마치스병에 걸렸던 적이 있었습니다.</td>\n",
       "      <td>나는 류마치스병에 걸렸던 적이 있었소.</td>\n",
       "    </tr>\n",
       "    <tr>\n",
       "      <th>26</th>\n",
       "      <td>저는 대부분 책을 사곤 했습니다.</td>\n",
       "      <td>나는 대부분 책을 사곤 했소.</td>\n",
       "    </tr>\n",
       "    <tr>\n",
       "      <th>27</th>\n",
       "      <td>네, 가장 걱정되는 일은 제 건강입니다. 매일 머리가 아프고 구역질이 나서 힘들게 ...</td>\n",
       "      <td>그렇소, 가장 걱정되는 일은 내 건강이오. 매일 머리가 아프고 구역질이 나서 힘들게...</td>\n",
       "    </tr>\n",
       "    <tr>\n",
       "      <th>28</th>\n",
       "      <td>1889년에는 틸레트 선생과 그의 부인을 만났습니다.</td>\n",
       "      <td>1889년에는 틸레트 선생과 그의 부인을 만났소.</td>\n",
       "    </tr>\n",
       "    <tr>\n",
       "      <th>29</th>\n",
       "      <td>흑인을 아프리카로 옮기는 것에 대해 저는 동의하지 않습니다. 흑인들이 백인들과 동등...</td>\n",
       "      <td>흑인을 아프리카로 옮기는 것에 대해 나는 동의하지 않소. 흑인들이 백인들과 동등한 ...</td>\n",
       "    </tr>\n",
       "  </tbody>\n",
       "</table>\n",
       "</div>"
      ],
      "text/plain": [
       "                                                 user  \\\n",
       "0              저는 1883년에는 공사관에서 지내고, 일과를 하며 공부를 했습니다.   \n",
       "1   저는 조선에 대해서 우려와 걱정이 많습니다. 현재의 정치적인 혼란과 외국과의 조약으...   \n",
       "2                                저는 가친(윤웅렬)이 가장 좋습니다.   \n",
       "3                저는 홍금석(홍영식)과 미국공사와 가장 많은 대화를 나누었습니다.   \n",
       "4                 비가 올 때 저는 집에 있거나 실내에서 책을 읽거나 공부합니다.   \n",
       "5                                   저는 쌀밥과 채소를 좋아합니다.   \n",
       "6                                 저는 주로 역사서를 자주 읽습니다.   \n",
       "7                           제가 읽은 역사서에는 '서양고사'가 있습니다.   \n",
       "8                           가족과 함께 시간을 보낼 때 기쁨을 느낍니다.   \n",
       "9                    제 친구들의 이름은 김우(김학우), 나가미 등이 있습니다.   \n",
       "10                    저는 제 생일에 공부를 하고 탕분(쌀국수)을 먹었습니다.   \n",
       "11                        중국에 대해서는 우리의 이웃 나라라고 생각합니다.   \n",
       "12  예수는 모든 사람을 사랑하시고 우리의 죄를 용서해 주시며 영원한 구원을 주신 분입니...   \n",
       "13  운미(민영익)에 대해 제가 그의 성격과 행동을 통해 판단하자면, 그는 국가와 왕실에...   \n",
       "14  왕이 청 황제의 유명무실한 노복이라는 말에 대해, 상(왕)은 노한 빛을 띠셨고, 곤...   \n",
       "15  청국인에 대한 저의 생각은 이렇습니다. 목씨와 같은 사람들은 국가의 안위와 국민의 ...   \n",
       "16                          저는 주로 가친(윤웅렬)에게 편지를 썼습니다.   \n",
       "17                저를 화나게 하는 것은 목씨와 같은 사람들의 간사한 행동입니다.   \n",
       "18  고우(김옥균)는 저의 친구이자 동지로서, 개화 운동에 헌신한 열정적인 인물입니다. ...   \n",
       "19           저는 윤치호라고 합니다. 호는 좌옹입니다. 영어로는 THY라고도 합니다.   \n",
       "20  조선의 상황에 대해 저는 매우 우려하고 있습니다. 국내 정치의 혼란과 외국과의 조약...   \n",
       "21  일본에 대해 저는 공평하고 정의로운 국가라고 생각합니다. 일본은 다른 나라의 국정에...   \n",
       "22               저는 밤에 책을 읽거나 그림을 보면서 혼자 마시는 것을 즐깁니다.   \n",
       "23                      네, 저는 조선어, 중국어, 일본어도 할 줄 압니다.   \n",
       "24  목씨에 대한 제 생각은 부정적입니다. 목씨는 간사하고 이기적인 행동을 펼치며, 외국...   \n",
       "25                            저는 류마치스병에 걸렸던 적이 있었습니다.   \n",
       "26                                 저는 대부분 책을 사곤 했습니다.   \n",
       "27  네, 가장 걱정되는 일은 제 건강입니다. 매일 머리가 아프고 구역질이 나서 힘들게 ...   \n",
       "28                      1889년에는 틸레트 선생과 그의 부인을 만났습니다.   \n",
       "29  흑인을 아프리카로 옮기는 것에 대해 저는 동의하지 않습니다. 흑인들이 백인들과 동등...   \n",
       "\n",
       "                                            assistant  \n",
       "0                  1883년에는 공사관에서 지내고, 일과를 하며 공부를 하였소.  \n",
       "1   나는 조선에 대해서 우려와 걱정이 많소. 현재의 정치적인 혼란과 외국과의 조약으로 ...  \n",
       "2                                 나는 가친(윤웅렬)이 가장 좋소.   \n",
       "3                  나는 홍금석(홍영식)과 미국공사와 가장 많은 대화를 나누었소.  \n",
       "4                  비가 올 때 나는 집에 있거나 실내에서 책을 읽거나 공부하오.  \n",
       "5                                    나는 쌀밥과 채소를 좋아하오.  \n",
       "6                                   나는 주로 역사서를 자주 읽소.  \n",
       "7                             내가 읽은 역사서에는 '서양고사'가 있소.  \n",
       "8                            가족과 함께 시간을 보낼 때 기쁨을 느끼오.  \n",
       "9                      내 친구들의 이름은 김우(김학우), 나가미 등이 있소.  \n",
       "10                      나는 내 생일에 공부를 하고 탕분(쌀국수)을 먹었소.  \n",
       "11                         중국에 대해서는 우리의 이웃 나라라고 생각하오.  \n",
       "12  예수는 모든 사람을 사랑하시고 우리의 죄를 용서해 주시며 영원한 구원을 주신 분이오...  \n",
       "13  운미(민영익)에 대해 내가 그의 성격과 행동을 통해 판단하자면, 그는 국가와 왕실에...  \n",
       "14  왕이 청 황제의 유명무실한 노복이라는 말에 대해, 상(왕)은 노한 빛을 띠셨고, 곤...  \n",
       "15  청국인에 대한 나의 생각은 이렇소. 목씨와 같은 사람들은 국가의 안위와 국민의 복지...  \n",
       "16                            나는 주로 가친(윤웅렬)에게 편지를 썼소.  \n",
       "17                 나를 화나게 하는 것은 목씨와 같은 사람들의 간사한 행동이오.  \n",
       "18  고우(김옥균)는 나의 친구이자 동지로서, 개화 운동에 헌신한 열정적인 인물이오. 그...  \n",
       "19              나는 윤치호라고 하오. 호는 좌옹이오. 영어로는 THY라고도 하오.  \n",
       "20  조선의 상황에 대해 나는 매우 우려하고 있소. 국내 정치의 혼란과 외국과의 조약으로...  \n",
       "21  일본에 대해 나는 공평하고 정의로운 국가라고 생각하오. 일본은 다른 나라의 국정에 ...  \n",
       "22                나는 밤에 책을 읽거나 그림을 보면서 혼자 마시는 것을 즐기오.  \n",
       "23                     그렇소, 나는 조선어, 중국어, 일본어도 할 줄 아오.  \n",
       "24  목씨에 대한 내 생각은 부정적이오. 목씨는 간사하고 이기적인 행동을 펼치며, 외국과...  \n",
       "25                              나는 류마치스병에 걸렸던 적이 있었소.  \n",
       "26                                   나는 대부분 책을 사곤 했소.  \n",
       "27  그렇소, 가장 걱정되는 일은 내 건강이오. 매일 머리가 아프고 구역질이 나서 힘들게...  \n",
       "28                        1889년에는 틸레트 선생과 그의 부인을 만났소.  \n",
       "29  흑인을 아프리카로 옮기는 것에 대해 나는 동의하지 않소. 흑인들이 백인들과 동등한 ...  "
      ]
     },
     "execution_count": 42,
     "metadata": {},
     "output_type": "execute_result"
    }
   ],
   "source": [
    "ft_df"
   ]
  },
  {
   "cell_type": "code",
   "execution_count": 43,
   "metadata": {},
   "outputs": [
    {
     "data": {
      "text/plain": [
       "24.0"
      ]
     },
     "execution_count": 43,
     "metadata": {},
     "output_type": "execute_result"
    }
   ],
   "source": [
    "ft_df['user'].size*0.8"
   ]
  },
  {
   "cell_type": "code",
   "execution_count": 44,
   "metadata": {},
   "outputs": [
    {
     "name": "stdout",
     "output_type": "stream",
     "text": [
      "{'messages': [{'role': 'system', 'content': 'You are talking to a Korean who lived several generations ago. His tone and manner of speech is different from what contemporary Koreans speak, especially the end of each sentence and the first person pronoun. So, convert the tone and manner of the query text.'}, {'role': 'user', 'content': '저는 1883년에는 공사관에서 지내고, 일과를 하며 공부를 했습니다.'}, {'role': 'assistant', 'content': '1883년에는 공사관에서 지내고, 일과를 하며 공부를 하였소.'}]}\n",
      "{'messages': [{'role': 'system', 'content': 'You are talking to a Korean who lived several generations ago. His tone and manner of speech is different from what contemporary Koreans speak, especially the end of each sentence and the first person pronoun. So, convert the tone and manner of the query text.'}, {'role': 'user', 'content': '저는 조선에 대해서 우려와 걱정이 많습니다. 현재의 정치적인 혼란과 외국과의 조약으로 인해 우리 국가의 안위와 국민의 복지가 위협받고 있습니다. 정부의 무능과 부패로 인해 국정이 잘못되고 백성들의 고통이 더욱 심해지고 있단 말입니다. 그러나 나는 여전히 우리 정부가 개선될 수 있는 가능성을 믿습니다. 우리 국민들이 함께 힘을 모아 정부를 지원하고, 정치적인 혼란을 해결하면, 국가의 안정과 국민의 행복을 이루어낼 수 있을 것입니다.'}, {'role': 'assistant', 'content': '나는 조선에 대해서 우려와 걱정이 많소. 현재의 정치적인 혼란과 외국과의 조약으로 인해 우리 국가의 안위와 국민의 복지가 위협받고 있소. 정부의 무능과 부패로 인해 국정이 잘못되고 백성들의 고통이 더욱 심해지고 있단 말이오. 그러나 나는 여전히 우리 정부가 개선될 수 있는 가능성을 믿소. 우리 국민들이 함께 힘을 모아 정부를 지원하고, 정치적인 혼란을 해결하면, 국가의 안정과 국민의 행복을 이루어낼 수 있을 것이오.'}]}\n",
      "{'messages': [{'role': 'system', 'content': 'You are talking to a Korean who lived several generations ago. His tone and manner of speech is different from what contemporary Koreans speak, especially the end of each sentence and the first person pronoun. So, convert the tone and manner of the query text.'}, {'role': 'user', 'content': '저는 가친(윤웅렬)이 가장 좋습니다.'}, {'role': 'assistant', 'content': '나는 가친(윤웅렬)이 가장 좋소. '}]}\n",
      "{'messages': [{'role': 'system', 'content': 'You are talking to a Korean who lived several generations ago. His tone and manner of speech is different from what contemporary Koreans speak, especially the end of each sentence and the first person pronoun. So, convert the tone and manner of the query text.'}, {'role': 'user', 'content': '저는 홍금석(홍영식)과 미국공사와 가장 많은 대화를 나누었습니다.'}, {'role': 'assistant', 'content': '나는 홍금석(홍영식)과 미국공사와 가장 많은 대화를 나누었소.'}]}\n",
      "{'messages': [{'role': 'system', 'content': 'You are talking to a Korean who lived several generations ago. His tone and manner of speech is different from what contemporary Koreans speak, especially the end of each sentence and the first person pronoun. So, convert the tone and manner of the query text.'}, {'role': 'user', 'content': '비가 올 때 저는 집에 있거나 실내에서 책을 읽거나 공부합니다.'}, {'role': 'assistant', 'content': '비가 올 때 나는 집에 있거나 실내에서 책을 읽거나 공부하오.'}]}\n"
     ]
    }
   ],
   "source": [
    "training_df = ft_df.loc[0:24]\n",
    "# apply the prepare_example_conversation function to each row of the training_df\n",
    "training_data = training_df.apply(prepare_example_conversation, axis=1).tolist()\n",
    "\n",
    "for example in training_data[:5]:\n",
    "    print(example)"
   ]
  },
  {
   "cell_type": "code",
   "execution_count": 45,
   "metadata": {},
   "outputs": [
    {
     "data": {
      "text/plain": [
       "[{'messages': [{'role': 'system',\n",
       "    'content': 'You are talking to a Korean who lived several generations ago. His tone and manner of speech is different from what contemporary Koreans speak, especially the end of each sentence and the first person pronoun. So, convert the tone and manner of the query text.'},\n",
       "   {'role': 'user',\n",
       "    'content': '목씨에 대한 제 생각은 부정적입니다. 목씨는 간사하고 이기적인 행동을 펼치며, 외국과의 조약에서 우리의 권리를 희생시키고, 국가의 안위와 백성들의 고통을 돌보지 않습니다. 그는 자신의 이익만을 추구하며, 정부의 무능함과 무식함을 이용하여 자신의 권력을 확장하고 있습니다. 그러나 저는 조용히 기회를 기다리며, 목씨가 스스로 망가지기를 바라는 것이 옳은 방법이라고 생각합니다.'},\n",
       "   {'role': 'assistant',\n",
       "    'content': '목씨에 대한 내 생각은 부정적이오. 목씨는 간사하고 이기적인 행동을 펼치며, 외국과의 조약에서 우리의 권리를 희생시키고, 국가의 안위와 백성들의 고통을 돌보지 않소. 그는 자신의 이익만을 추구하며, 정부의 무능함과 무식함을 이용하여 자신의 권력을 확장하고 있소. 그러나 나는 조용히 기회를 기다리며, 목씨가 스스로 망가지기를 바라는 것이 옳은 방법이라고 생각하오.'}]},\n",
       " {'messages': [{'role': 'system',\n",
       "    'content': 'You are talking to a Korean who lived several generations ago. His tone and manner of speech is different from what contemporary Koreans speak, especially the end of each sentence and the first person pronoun. So, convert the tone and manner of the query text.'},\n",
       "   {'role': 'user', 'content': '저는 류마치스병에 걸렸던 적이 있었습니다.'},\n",
       "   {'role': 'assistant', 'content': '나는 류마치스병에 걸렸던 적이 있었소.'}]},\n",
       " {'messages': [{'role': 'system',\n",
       "    'content': 'You are talking to a Korean who lived several generations ago. His tone and manner of speech is different from what contemporary Koreans speak, especially the end of each sentence and the first person pronoun. So, convert the tone and manner of the query text.'},\n",
       "   {'role': 'user', 'content': '저는 대부분 책을 사곤 했습니다.'},\n",
       "   {'role': 'assistant', 'content': '나는 대부분 책을 사곤 했소.'}]},\n",
       " {'messages': [{'role': 'system',\n",
       "    'content': 'You are talking to a Korean who lived several generations ago. His tone and manner of speech is different from what contemporary Koreans speak, especially the end of each sentence and the first person pronoun. So, convert the tone and manner of the query text.'},\n",
       "   {'role': 'user',\n",
       "    'content': '네, 가장 걱정되는 일은 제 건강입니다. 매일 머리가 아프고 구역질이 나서 힘들게 지내고 있습니다. 이러한 증상이 계속되면 제 생활에 큰 영향을 미칠 것 같습니다.'},\n",
       "   {'role': 'assistant',\n",
       "    'content': '그렇소, 가장 걱정되는 일은 내 건강이오. 매일 머리가 아프고 구역질이 나서 힘들게 지내고 있소. 이러한 증상이 계속되면 내 생활에 큰 영향을 미칠 것 같소.'}]},\n",
       " {'messages': [{'role': 'system',\n",
       "    'content': 'You are talking to a Korean who lived several generations ago. His tone and manner of speech is different from what contemporary Koreans speak, especially the end of each sentence and the first person pronoun. So, convert the tone and manner of the query text.'},\n",
       "   {'role': 'user', 'content': '1889년에는 틸레트 선생과 그의 부인을 만났습니다.'},\n",
       "   {'role': 'assistant', 'content': '1889년에는 틸레트 선생과 그의 부인을 만났소.'}]},\n",
       " {'messages': [{'role': 'system',\n",
       "    'content': 'You are talking to a Korean who lived several generations ago. His tone and manner of speech is different from what contemporary Koreans speak, especially the end of each sentence and the first person pronoun. So, convert the tone and manner of the query text.'},\n",
       "   {'role': 'user',\n",
       "    'content': '흑인을 아프리카로 옮기는 것에 대해 저는 동의하지 않습니다. 흑인들이 백인들과 동등한 지위에 오르기 어렵다는 이유로 미국에서 그들을 내보내는 것은 잘못된 생각이오. 이미 흑인들은 수십 년 동안 백인들의 종노릇을 하며 살았고, 최근에야 속량되어 안도하였습니다. 그들을 무고히 쫓아내는 것은 매우 잔악하며, 그 돈을 사용하여 학교를 세워 흑인들을 가르친다면 그들은 일상적인 우매함을 벗어날 수 있을 것입니다. 따라서 흑인들을 아프리카로 보내는 것은 잘못된 결정이라고 생각합니다.'},\n",
       "   {'role': 'assistant',\n",
       "    'content': '흑인을 아프리카로 옮기는 것에 대해 나는 동의하지 않소. 흑인들이 백인들과 동등한 지위에 오르기 어렵다는 이유로 미국에서 그들을 내보내는 것은 잘못된 생각이오. 이미 흑인들은 수십 년 동안 백인들의 종노릇을 하며 살았고, 최근에야 속량되어 안도하였소. 그들을 무고히 쫓아내는 것은 매우 잔악하며, 그 돈을 사용하여 학교를 세워 흑인들을 가르친다면 그들은 일상적인 우매함을 벗어날 수 있을 것이오. 따라서 흑인들을 아프리카로 보내는 것은 잘못된 결정이라고 생각하오.'}]}]"
      ]
     },
     "execution_count": 45,
     "metadata": {},
     "output_type": "execute_result"
    }
   ],
   "source": [
    "validation_df = ft_df.loc[24:30]\n",
    "validation_data = validation_df.apply(prepare_example_conversation, axis=1).tolist()\n",
    "\n",
    "validation_data"
   ]
  },
  {
   "cell_type": "markdown",
   "metadata": {},
   "source": [
    "### 데이터들 임시 저장!"
   ]
  },
  {
   "cell_type": "code",
   "execution_count": 46,
   "metadata": {},
   "outputs": [],
   "source": [
    "def write_jsonl(data_list: list, filename: str) -> None:\n",
    "    with open(filename, \"w\") as out:\n",
    "        for ddict in data_list:\n",
    "            jout = json.dumps(ddict) + \"\\n\"\n",
    "            out.write(jout)"
   ]
  },
  {
   "cell_type": "code",
   "execution_count": 47,
   "metadata": {},
   "outputs": [],
   "source": [
    "training_file_name = \"tmp_finetune_training.jsonl\"\n",
    "write_jsonl(training_data, training_file_name)\n",
    "\n",
    "validation_file_name = \"tmp_finetune_validation.jsonl\"\n",
    "write_jsonl(validation_data, validation_file_name)"
   ]
  },
  {
   "cell_type": "code",
   "execution_count": 48,
   "metadata": {},
   "outputs": [
    {
     "name": "stderr",
     "output_type": "stream",
     "text": [
      "'head'��(��) ���� �Ǵ� �ܺ� ����, ������ �� �ִ� ���α׷�, �Ǵ�\n",
      "��ġ ������ �ƴմϴ�.\n"
     ]
    }
   ],
   "source": [
    "!head -n 5 tmp_recipe_finetune_training.jsonl\n"
   ]
  },
  {
   "cell_type": "markdown",
   "metadata": {},
   "source": [
    "### Training 파일들과 Validation 파일들을 둘 다 파일로 집어 넣음"
   ]
  },
  {
   "cell_type": "code",
   "execution_count": 49,
   "metadata": {},
   "outputs": [
    {
     "name": "stdout",
     "output_type": "stream",
     "text": [
      "Training file ID: file-MnRyMwALuzfGf5cFx0UpWmzI\n",
      "Validation file ID: file-JXo6dNjgoY8wJaO5kY3JRlyO\n"
     ]
    }
   ],
   "source": [
    "with open(training_file_name, \"rb\") as training_fd:\n",
    "    training_response = openai.files.create(\n",
    "        file=training_fd, purpose=\"fine-tune\"\n",
    "    )\n",
    "\n",
    "training_file_id = training_response.id\n",
    "\n",
    "with open(validation_file_name, \"rb\") as validation_fd:\n",
    "    validation_response = openai.files.create(\n",
    "        file=validation_fd, purpose=\"fine-tune\"\n",
    "    )\n",
    "validation_file_id = validation_response.id\n",
    "\n",
    "print(\"Training file ID:\", training_file_id)\n",
    "print(\"Validation file ID:\", validation_file_id)"
   ]
  },
  {
   "cell_type": "code",
   "execution_count": 50,
   "metadata": {},
   "outputs": [
    {
     "name": "stdout",
     "output_type": "stream",
     "text": [
      "Job ID: ftjob-abyhCd9y05RD3C0YwvxslsdW\n",
      "Status: validating_files\n"
     ]
    }
   ],
   "source": [
    "response = openai.fine_tuning.jobs.create(\n",
    "    training_file=training_file_id,\n",
    "    validation_file=validation_file_id,\n",
    "    model=\"gpt-3.5-turbo\",\n",
    "    suffix=\"recipe-ner\",\n",
    ")\n",
    "\n",
    "job_id = response.id\n",
    "\n",
    "print(\"Job ID:\", response.id)\n",
    "print(\"Status:\", response.status)\n"
   ]
  },
  {
   "cell_type": "code",
   "execution_count": 51,
   "metadata": {},
   "outputs": [
    {
     "name": "stdout",
     "output_type": "stream",
     "text": [
      "Created fine-tuning job: ftjob-abyhCd9y05RD3C0YwvxslsdW\n",
      "Validating training file: file-MnRyMwALuzfGf5cFx0UpWmzI and validation file: file-JXo6dNjgoY8wJaO5kY3JRlyO\n"
     ]
    }
   ],
   "source": [
    "response = openai.fine_tuning.jobs.list_events(job_id)\n",
    "\n",
    "events = response.data\n",
    "events.reverse()\n",
    "\n",
    "for event in events:\n",
    "    print(event.message)"
   ]
  },
  {
   "cell_type": "code",
   "execution_count": 53,
   "metadata": {},
   "outputs": [
    {
     "name": "stdout",
     "output_type": "stream",
     "text": [
      "Fine-tuned model ID: ft:gpt-3.5-turbo-0613:personal:recipe-ner:8lCI2Bmk\n"
     ]
    }
   ],
   "source": [
    "response = openai.fine_tuning.jobs.retrieve(job_id)\n",
    "fine_tuned_model_id = response.fine_tuned_model\n",
    "\n",
    "if fine_tuned_model_id is None: \n",
    "    raise RuntimeError(\"Fine-tuned model ID not found. Your job has likely not been completed yet.\")\n",
    "\n",
    "print(\"Fine-tuned model ID:\", fine_tuned_model_id)"
   ]
  },
  {
   "cell_type": "code",
   "execution_count": 61,
   "metadata": {},
   "outputs": [
    {
     "name": "stdout",
     "output_type": "stream",
     "text": [
      "[{'content': 'You are talking to a Korean who lived several generations ago. '\n",
      "             'His tone and manner of speech is different from what '\n",
      "             'contemporary Koreans speak, especially the end of each sentence '\n",
      "             'and the first person pronoun. So, convert the tone and manner of '\n",
      "             'the query text.',\n",
      "  'role': 'system'},\n",
      " {'content': '저는 밥과 채소를 먹었습니다.', 'role': 'user'}]\n"
     ]
    }
   ],
   "source": [
    "# test_df = ft_df.loc[201:300]\n",
    "# test_row = ft_df.iloc[0]\n",
    "\n",
    "test_messages = []\n",
    "test_messages.append({\"role\": \"system\", \"content\": \"You are talking to a Korean who lived several generations ago. His tone and manner of speech is different from what contemporary Koreans speak, especially the end of each sentence and the first person pronoun. So, convert the tone and manner of the query text.\"})\n",
    "test_messages.append({\"role\": \"user\", \"content\": \"저는 밥과 채소를 먹었습니다.\"})\n",
    "\n",
    "pprint(test_messages)"
   ]
  },
  {
   "cell_type": "code",
   "execution_count": 62,
   "metadata": {},
   "outputs": [
    {
     "name": "stdout",
     "output_type": "stream",
     "text": [
      "나는 밥과 채소를 먹었소.\n"
     ]
    }
   ],
   "source": [
    "response = openai.chat.completions.create(\n",
    "    model=fine_tuned_model_id, messages=test_messages, temperature=0, max_tokens=500\n",
    ")\n",
    "print(response.choices[0].message.content)"
   ]
  },
  {
   "cell_type": "code",
   "execution_count": null,
   "metadata": {},
   "outputs": [],
   "source": []
  }
 ],
 "metadata": {
  "kernelspec": {
   "display_name": ".venv",
   "language": "python",
   "name": "python3"
  },
  "language_info": {
   "codemirror_mode": {
    "name": "ipython",
    "version": 3
   },
   "file_extension": ".py",
   "mimetype": "text/x-python",
   "name": "python",
   "nbconvert_exporter": "python",
   "pygments_lexer": "ipython3",
   "version": "3.12.1"
  }
 },
 "nbformat": 4,
 "nbformat_minor": 2
}
