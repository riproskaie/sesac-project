{
 "cells": [
  {
   "cell_type": "markdown",
   "metadata": {},
   "source": [
    "### 실습: 왓챠 영화 목록 데이터 프레임으로 가져오기"
   ]
  },
  {
   "cell_type": "code",
   "execution_count": 1,
   "metadata": {},
   "outputs": [],
   "source": [
    "# 필요한 라이브러리 임포트\n",
    "import pandas as pd\n",
    "import requests"
   ]
  },
  {
   "cell_type": "markdown",
   "metadata": {},
   "source": [
    " - Watcha에서 자체 제작한 영화 콜렉션인 Watcha 최고 인기작 컬렉션을 크롤링해 csv 파일로 저장해 봅시다.\n",
    " - 아래 링크를 클릭해 보세요.\n",
    "    - https://pedia.watcha.com/ko-KR/staffmades/278"
   ]
  },
  {
   "cell_type": "markdown",
   "metadata": {},
   "source": [
    "#### 문제1: 링크된 페이지에서 크롬 개발자 도구를 이용해 로딩할 때 데이터를 어떻게 가져오는지 확인해 보고, Request를 모방해서 딕셔너리로 이루어진 리스트를 `top_movies` 리스트에 저장하세요."
   ]
  },
  {
   "cell_type": "code",
   "execution_count": null,
   "metadata": {},
   "outputs": [],
   "source": [
    "top_movies = []\n",
    "# YOUR CODE HERE"
   ]
  },
  {
   "cell_type": "markdown",
   "metadata": {},
   "source": [
    "#### 문제 2: 수집한 `top_movies` 리스트 안에 있는 딕셔너리에서 `code`, `title`, `year`, `ratings_avg`, `nations`, `genres`만 남기고 나머지는 필요 없으니 없애버리세요."
   ]
  },
  {
   "cell_type": "code",
   "execution_count": null,
   "metadata": {},
   "outputs": [],
   "source": [
    "cleaned_top_movies = []\n",
    "# YOUR CODE HERE"
   ]
  },
  {
   "cell_type": "markdown",
   "metadata": {},
   "source": [
    "#### 문제3: `cleaned_top_movies`를 데이터 프레임으로 만들고, `watcha_top_movies.csv` 파일로 저장하세요."
   ]
  },
  {
   "cell_type": "code",
   "execution_count": null,
   "metadata": {},
   "outputs": [],
   "source": [
    "top_movies_df = pd.DataFrame(cleaned_top_movies)\n",
    "# YOUR CODE HERE"
   ]
  },
  {
   "cell_type": "markdown",
   "metadata": {},
   "source": [
    "#### 문제4: `top_movies_df`에서 `code` 칼럼은 영화의 상세 페이지라는 것을 확인했습니다. 이 사실을 이용해서 영화의 줄거리 소개 정보를 포함하는 `plot` 칼럼을 추가로 만들고 크롤링한 줄거리를 여기에 저장하는 코드를 만들어 보세요."
   ]
  },
  {
   "cell_type": "code",
   "execution_count": null,
   "metadata": {},
   "outputs": [],
   "source": [
    "top_movies_df['plot'] = ''\n",
    "# YOUR CODE HERE"
   ]
  },
  {
   "cell_type": "markdown",
   "metadata": {},
   "source": [
    "### 과제: Watcha의 평가하기 기능(로그인 필요)은 랜덤으로 영화를 가져와서 목록을 만들어 보여주고 있습니다. 이 사실을 잘 활용해서 가능한한 많은 영화 데이터를 크롤링해 보세요."
   ]
  }
 ],
 "metadata": {
  "kernelspec": {
   "display_name": ".venv",
   "language": "python",
   "name": "python3"
  },
  "language_info": {
   "codemirror_mode": {
    "name": "ipython",
    "version": 3
   },
   "file_extension": ".py",
   "mimetype": "text/x-python",
   "name": "python",
   "nbconvert_exporter": "python",
   "pygments_lexer": "ipython3",
   "version": "3.11.5"
  }
 },
 "nbformat": 4,
 "nbformat_minor": 2
}
