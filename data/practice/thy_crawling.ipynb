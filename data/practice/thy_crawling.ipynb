{
 "cells": [
  {
   "cell_type": "code",
   "execution_count": 1,
   "metadata": {},
   "outputs": [],
   "source": [
    "# 필요한 라이브러리 임포트\n",
    "import requests\n",
    "from lxml import html\n",
    "from IPython.display import Image, display"
   ]
  },
  {
   "cell_type": "code",
   "execution_count": 2,
   "metadata": {},
   "outputs": [],
   "source": [
    "import urllib3\n",
    "\n",
    "urllib3.disable_warnings(urllib3.exceptions.InsecureRequestWarning)"
   ]
  },
  {
   "cell_type": "code",
   "execution_count": 8,
   "metadata": {},
   "outputs": [],
   "source": [
    "cookies = {\n",
    "    'activexime_enable': 'false',\n",
    "    'PCID': '17056246878505931577813',\n",
    "    'RC_RESOLUTION': '1536*864',\n",
    "    'RC_COLOR': '24',\n",
    "    'activexime_enable': 'false',\n",
    "    'JSESSIONID': 'D67983200082058E074FA74054AD0BC5',\n",
    "}\n",
    "\n",
    "headers = {\n",
    "    'Accept': 'text/html,application/xhtml+xml,application/xml;q=0.9,image/avif,image/webp,image/apng,*/*;q=0.8,application/signed-exchange;v=b3;q=0.7',\n",
    "    'Accept-Language': 'ko-KR,ko;q=0.9,en-US;q=0.8,en;q=0.7',\n",
    "    'Connection': 'keep-alive',\n",
    "    # 'Cookie': 'activexime_enable=false; PCID=17056246878505931577813; RC_RESOLUTION=1536*864; RC_COLOR=24; activexime_enable=false; JSESSIONID=D67983200082058E074FA74054AD0BC5',\n",
    "    'Referer': 'https://db.history.go.kr/item/compareViewer.do?levelId=sa_024_0010_0010_0040',\n",
    "    'Sec-Fetch-Dest': 'document',\n",
    "    'Sec-Fetch-Mode': 'navigate',\n",
    "    'Sec-Fetch-Site': 'same-origin',\n",
    "    'Sec-Fetch-User': '?1',\n",
    "    'Upgrade-Insecure-Requests': '1',\n",
    "    'User-Agent': 'Mozilla/5.0 (Windows NT 10.0; Win64; x64) AppleWebKit/537.36 (KHTML, like Gecko) Chrome/120.0.0.0 Safari/537.36',\n",
    "    'sec-ch-ua': '\"Not_A Brand\";v=\"8\", \"Chromium\";v=\"120\", \"Google Chrome\";v=\"120\"',\n",
    "    'sec-ch-ua-mobile': '?0',\n",
    "    'sec-ch-ua-platform': '\"Windows\"',\n",
    "}\n",
    "\n",
    "params = {\n",
    "    'levelId': 'sa_024_0010_0010_0040',\n",
    "}\n",
    "\n",
    "response = requests.get('https://db.history.go.kr/item/compareViewer.do', params=params, cookies=cookies, headers=headers, verify=False)"
   ]
  },
  {
   "cell_type": "code",
   "execution_count": 5,
   "metadata": {},
   "outputs": [
    {
     "data": {
      "text/plain": [
       "b'<!DOCTYPE html PUBLIC \"-//W3C//DTD XHTML 1.0 Transitional//EN\" \"http://www.w3.org/TR/xhtml1/DTD/xhtml1-transitional.dtd\">\\r\\n<html xmlns=\"http://www.w3.org/1999/xhtml\">\\r\\n<head>\\r\\n<meta http-equiv=\"content-type\" content=\"text/html;charset=utf-8\" />\\r\\n<title>\\r\\n\\t\\xed\\x95\\x9c\\xea\\xb5\\xad\\xec\\x82\\xac\\xeb\\x8d\\xb0\\xec\\x9d\\xb4\\xed\\x84\\xb0\\xeb\\xb2\\xa0\\xec\\x9d\\xb4\\xec\\x8a\\xa4 \\xeb\\xb9\\x84\\xea\\xb5\\x90\\xeb\\xb3\\xb4\\xea\\xb8\\xb0 &gt; \\xe4\\xba\\x8c\\xe5\\x8d\\x81\\xe4\\xb8\\x89\\xe6\\x97\\xa5</title>\\r\\n\\r\\n<link rel=\"stylesheet\" type=\"text/css\" href=\"/css/compare/popup_cv.css?ver=1.1\" />\\r\\n<link rel=\"stylesheet\" type=\"text/css\" href=\"/css/compare/jquery-ui.css?ver=1.0\" />\\r\\n<link rel=\"stylesheet\" type=\"text/css\" href=\"/js/jquery-cluetip-master/jquery.cluetip.css\" />\\r\\n\\r\\n<style type=\"text/css\">\\r\\n@media print {\\r\\n\\t.noprint {display: none;}\\r\\n}\\r\\n\\r\\n/* \\xea\\xb3\\xa0\\xec\\x96\\xb4 \\xec\\xb6\\x9c\\xeb\\xa0\\xa5 */\\r\\n.oldHan {font-family: \"\\xed\\x95\\x9c\\xec\\xbb\\xb4\\xeb\\xb0\\x94\\xed\\x83\\x95\", \"\\xed\\x95\\xa8\\xec\\xb4\\x88\\xeb\\xa1\\xac\\xeb\\xb0\\x94\\xed\\x83\\x95\";}\\r\\n</style>\\r\\n\\r\\n<script type=\"text/javascript\" src=\"/jQuery/jquery-1.8.3.js\"></script>\\r\\n<script type=\"text/javascript\" src=\"/js/compare/jquery-ui.js?ver=1.0\"></script>\\r\\n<script type=\"text/javascript\" src=\"/js/jquery-cluetip-master/lib/jquery.hoverIntent.js\"></script>\\r\\n<script type=\"text/javascript\" src=\"/js/jquery-cluetip-master/jquery.cluetip.js\"></script>\\r\\n<script type=\"text/javascript\" src=\"/js/jquery.oldHan.js\"></script>\\r\\n<script type=\"text/javascript\" src=\"/js/nikhhdb.js\"></script>\\r\\n\\r\\n</head>\\r\\n<body>\\r\\n\\t<div class=\"wrap\">\\r\\n\\r\\n\\t\\t<!--\\xed\\x97\\xa4\\xeb\\x8d\\x94 -->\\r\\n\\t\\t<div id=\"header\" class=\"headerWrap noprint\">\\r\\n\\t\\t\\t<h1>\\xed\\x95\\x9c\\xea\\xb5\\xad\\xec\\x82\\xac\\xeb\\x8d\\xb0\\xec\\x9d\\xb4\\xed\\x84\\xb0\\xeb\\xb2\\xa0\\xec\\x9d\\xb4\\xec\\x8a\\xa4</h1>\\r\\n\\t\\t\\t<a href=\"http://www.history.go.kr\" target=\"_blank\">\\xea\\xb5\\xad\\xec\\x82\\xac\\xed\\x8e\\xb8\\xec\\xb0\\xac\\xec\\x9c\\x84\\xec\\x9b\\x90\\xed\\x9a\\x8c</a>\\r\\n\\t\\t</div>\\r\\n\\t\\t<!--//\\xed\\x97\\xa4\\xeb\\x8d\\x94 -->\\r\\n\\r\\n\\t\\t<!--\\xed\\x83\\x80\\xec\\x9d\\xb4\\xed\\x8b\\x80 \\xec\\x98\\x81\\xec\\x97\\xad -->\\r\\n\\t\\t<div class=\"functionWrap\">\\r\\n\\t\\t\\t<div class=\"functionIn\">\\r\\n\\t\\t\\t\\t<div class=\"titleWrap\">\\r\\n\\t\\t\\t\\t\\t<h3>\\r\\n\\t\\t\\t\\t\\t\\t\\xe4\\xba\\x8c\\xe5\\x8d\\x81\\xe4\\xb8\\x89\\xe6\\x97\\xa5</h3>\\r\\n\\t\\t\\t\\t\\t<p class=\"location\">\\r\\n\\t\\t\\t\\t\\t\\t\\xed\\x95\\x9c\\xea\\xb5\\xad\\xec\\x82\\xac\\xeb\\xa3\\x8c\\xec\\xb4\\x9d\\xec\\x84\\x9c&nbsp;&gt;\\r\\n\\t\\t\\t\\t\\t\\t\\xe5\\xb0\\xb9\\xe8\\x87\\xb4\\xe6\\x98\\x8a\\xe6\\x97\\xa5\\xe8\\xa8\\x98 \\xe4\\xb8\\x80&nbsp;&gt;&nbsp;1883\\xe5\\xb9\\xb4 (\\xe9\\xab\\x98\\xe5\\xae\\x9720\\xe5\\xb9\\xb4 \\xe7\\x99\\xb8\\xe6\\x9c\\xaa)&nbsp;&gt;&nbsp;\\xe5\\xa3\\xac\\xe5\\x8d\\x88\\xe6\\x97\\xa5\\xe8\\xa8\\x98 1882\\xe5\\xb9\\xb4 11\\xe6\\x9c\\x88(\\xe9\\x99\\xbd\\xe6\\x9b\\x86 1883\\xe5\\xb9\\xb4 1\\xe6\\x9c\\x88 1\\xe6\\x97\\xa5~8\\xe6\\x97\\xa5)&nbsp;&gt;&nbsp;\\xe4\\xba\\x8c\\xe5\\x8d\\x81\\xe4\\xb8\\x89\\xe6\\x97\\xa5</p>\\r\\n\\t\\t\\t\\t</div>\\r\\n\\t\\t\\t\\t<div class=\"view_scroll noprint\">\\r\\n\\t\\t\\t\\t\\t<em><a href=\"#self\" onclick=\"fnMoveSlider(\\'o\\'); return false;\">\\xec\\x9b\\x90\\xeb\\xac\\xb8</a></em>\\r\\n\\t\\t\\t\\t\\t<div class=\"slider_sort\"></div>\\r\\n\\t\\t\\t\\t\\t<em class=\"rt\"><a href=\"#self\" onclick=\"fnMoveSlider(\\'t\\'); return false;\">\\xea\\xb5\\xad\\xec\\x97\\xad</a></em>\\r\\n\\t\\t\\t\\t</div>\\r\\n\\t\\t\\t\\t<div class=\"btn\">\\r\\n\\t\\t\\t\\t\\t<a class=\"b01\" href=\"#\" onclick=\"fnChangeFontSize(\\'.cont_view\\', +1); return false;\">\\xea\\xb8\\x80\\xec\\x9e\\x90 \\xed\\x81\\xac\\xea\\xb2\\x8c</a><a\\r\\n\\t\\t\\t\\t\\t class=\"b02\" href=\"#\" onclick=\"fnChangeFontSize(\\'.cont_view\\', -1); return false;\">\\xea\\xb8\\x80\\xec\\x9e\\x90 \\xec\\x9e\\x91\\xea\\xb2\\x8c</a><a\\r\\n\\t\\t\\t\\t\\t class=\"b04\" href=\"/item/compareViewer.do?levelId=sa_024_0010_0010_0010\">\\xec\\x9d\\xb4\\xec\\xa0\\x84 \\xea\\xb8\\xb0\\xec\\x82\\xac</a><a\\r\\n\\t\\t\\t\\t\\t class=\"b05\" href=\"/item/compareViewer.do?levelId=sa_024_0010_0010_0030\">\\xeb\\x8b\\xa4\\xec\\x9d\\x8c \\xea\\xb8\\xb0\\xec\\x82\\xac</a><a\\r\\n\\t\\t\\t\\t\\t class=\"b03\" href=\"#\" onclick=\"bodyPrint(); return false;\">\\xec\\xb6\\x9c\\xeb\\xa0\\xa5</a>\\r\\n\\t\\t\\t\\t\\t<!-- <a class=\"b01\" href=\"#\" onclick=\"fnChangeFontSize(\\'.cont_view\\', +1); return false;\">\\xea\\xb8\\x80\\xec\\x9e\\x90 \\xed\\x81\\xac\\xea\\xb2\\x8c</a><a class=\"b02\" href=\"#\" onclick=\"fnChangeFontSize(\\'.cont_view\\', -1); return false;\">\\xea\\xb8\\x80\\xec\\x9e\\x90 \\xec\\x9e\\x91\\xea\\xb2\\x8c</a><a class=\"b03\" href=\"#\" onclick=\"bodyPrint(); return false;\">\\xec\\xb6\\x9c\\xeb\\xa0\\xa5</a> -->\\r\\n\\t\\t\\t\\t</div>\\r\\n\\t\\t\\t</div>\\r\\n\\t\\t</div>\\r\\n\\t\\t<!--//\\xed\\x83\\x80\\xec\\x9d\\xb4\\xed\\x8b\\x80 \\xec\\x98\\x81\\xec\\x97\\xad -->\\r\\n\\r\\n\\t\\t<!--\\xec\\xbd\\x98\\xed\\x85\\x90\\xec\\xb8\\xa0 \\xec\\x98\\x81\\xec\\x97\\xad -->\\r\\n\\t\\t<div class=\"contentsWrap\">\\r\\n\\r\\n\\t\\t\\t<!--\\xec\\xa2\\x8c\\xec\\xb8\\xa1 \\xec\\xbd\\x98\\xed\\x85\\x90\\xec\\xb8\\xa0 -->\\r\\n\\t\\t\\t<div id=\"conLeft\" class=\"conLeft w50_w50\">\\r\\n\\t\\t\\t\\t<div class=\"contents lt\">\\r\\n\\r\\n\\t\\t\\t\\t\\t<div class=\"btn lt noprint\">\\r\\n\\t\\t\\t\\t\\t\\t<a class=\"b01\" href=\"#\" onclick=\"fnChangeFontSize(\\'#leftContent .cont_view\\', +1); return false;\">\\xea\\xb8\\x80\\xec\\x9e\\x90 \\xed\\x81\\xac\\xea\\xb2\\x8c</a><a class=\"b02\" href=\"#\" onclick=\"fnChangeFontSize(\\'#leftContent .cont_view\\', -1); return false;\">\\xea\\xb8\\x80\\xec\\x9e\\x90 \\xec\\x9e\\x91\\xea\\xb2\\x8c</a>\\r\\n\\t\\t\\t\\t\\t</div>\\r\\n\\r\\n\\t\\t\\t\\t\\t<div id=\"leftContent\"><!-- class=\"org\" -->\\r\\n\\t\\t\\t\\t\\t\\t<table style=\"width: 100%\">\\r\\n\\t\\t\\t\\t\\t\\t<tr>\\r\\n\\t\\t\\t\\t\\t\\t\\t<td>\\r\\n\\t\\t\\t\\t\\t\\t\\t\\t<div class=\"cont_view\"><div style=\"margin-left:20px;\" id=\"cont_view\"><div style=\"text-align:justify;word-break:break-all;\">\\xe4\\xba\\x8c\\xe5\\x8d\\x81\\xe4\\xb8\\x89\\xe6\\x97\\xa5</div><br/><span style=\"padding:15px 15px\"><font color=\"#4863a0\"><small><span title=\"\\xec\\x9d\\xb4\\xeb\\xa6\\x84\">\\xe9\\x87\\x91\\xe7\\x8e\\x89\\xe5\\x9d\\x87</span></small></font>\\n\\t\\t\\t\\t\\t\\t\\xc2\\xa0\\xc2\\xa0\\n\\t\\t\\t\\t\\t<font color=\"#4863a0\"><small><span title=\"\\xec\\x9d\\xb4\\xeb\\xa6\\x84\">\\xe7\\xa6\\x8f\\xe6\\xbe\\xa4\\xe8\\xab\\xad\\xe5\\x90\\x89</span></small></font>\\n\\t\\t\\t\\t\\t\\t\\xc2\\xa0\\xc2\\xa0\\n\\t\\t\\t\\t\\t<font color=\"#4863a0\"><small><span title=\"\\xec\\xa7\\x80\\xeb\\xaa\\x85\">\\xe4\\xba\\xac\\xe5\\x9f\\x8e</span>\\xec\\x9d\\x98 \\xe6\\xb7\\xb8\\xe6\\x97\\xa5\\xe5\\x85\\xb5</small></font>\\n\\t\\t\\t\\t\\t\\t\\xc2\\xa0\\xc2\\xa0\\n\\t\\t\\t\\t\\t</span><br/><br/><div style=\"text-align:justify;word-break:break-all;padding-left:0px\">, , </div><div style=\"text-align:justify;word-break:break-all;padding-left:0px\">(\\xe6\\x99\\xb4, \\xe4\\xba\\x8c\\xe6\\x97\\xa5, \\xe7\\x81\\xab)\\xe5\\x81\\x95\\xe5\\x8f\\xa4\\xe4\\xb8\\x88<font color=\"tomato\"><small>(<span title=\"\\xec\\x9d\\xb4\\xeb\\xa6\\x84\" style=\"color:#336666\">\\xe9\\x87\\x91\\xe7\\x8e\\x89\\xe5\\x9d\\x87</span>) \\xed\\x8e\\xb8\\xec\\x9e\\x90\\xec\\xa3\\xbc </small></font>\\xe8\\xa8\\xaa\\xe7\\xa6\\x8f\\xe6\\xbe\\xa4, \\xe9\\x80\\xa2\\xe4\\xbb\\x8a\\xe5\\x8e\\x9f\\xe8\\x80\\x85, \\xe8\\x87\\xaa\\xe6\\x88\\x91\\xe5\\x9c\\x8b\\xe6\\xad\\xb8\\xe8\\x80\\x85\\xe4\\xb9\\x9f, \\xe5\\x95\\x8f\\xe6\\x9c\\xac\\xe5\\x9c\\x8b\\xe7\\x8f\\xbe\\xe7\\x8b\\x80\\xe5\\xbd\\xbc\\xe6\\x9b\\xb0, \\xe4\\xbb\\x8a\\xe6\\x94\\xaf\\xe9\\x82\\xa3\\xe5\\x85\\xb5\\xe4\\xb9\\x8b\\xe7\\x95\\x99\\xe4\\xba\\xac\\xe8\\x80\\x85\\xe5\\x90\\x88\\xe4\\xb8\\x89\\xe7\\x87\\x9f\\xe4\\xb8\\x80\\xe5\\x8d\\x83\\xe4\\xba\\x94\\xe7\\x99\\xbe\\xe4\\xba\\xba\\xe4\\xba\\x91, \\xe6\\x81\\x90\\xe6\\x98\\xaf\\xe9\\x81\\x8e\\xe7\\xa8\\xb1, \\xe5\\x92\\x8c\\xe5\\x85\\xb5\\xe4\\xb9\\x8b\\xe7\\x95\\x99\\xe4\\xba\\xac\\xe8\\x80\\x85\\xe5\\x9b\\x9b\\xe7\\x99\\xbe\\xe4\\xba\\xba\\xe4\\xba\\x91, \\xe5\\x8f\\x88\\xe6\\x9b\\xb0, \\xe8\\xb2\\xb4\\xe5\\x9c\\x8b<span title=\"\\xec\\xa7\\x80\\xeb\\xaa\\x85\" style=\"color:#336666\">\\xe6\\x9c\\x9d\\xe9\\xae\\xae</span>\\xe6\\x94\\xbf\\xe5\\xba\\x9c, \\xe7\\x9a\\x86\\xe5\\xa5\\x89<span title=\"\\xec\\xa7\\x80\\xeb\\xaa\\x85\" style=\"color:#336666\">\\xe6\\x94\\xaf\\xe9\\x82\\xa3</span> \\xe6\\x8c\\x87\\xe6\\x8f\\xae\\xe4\\xba\\x91, \\xe5\\x8f\\x88\\xe6\\x9b\\xb0, \\xe6\\x94\\xaf\\xe9\\x82\\xa3\\xe4\\xba\\xba\\xe5\\x89\\x87\\xe8\\xa9\\xa6\\xe7\\xa0\\xb2\\xe6\\xa9\\xab\\xe8\\xa1\\x8c, \\xe5\\x82\\x8d\\xe8\\x8b\\xa5\\xe7\\x84\\xa1\\xe4\\xba\\xba, \\xe8\\x87\\xb3\\xe6\\x96\\xbc\\xe6\\x97\\xa5\\xe6\\x9c\\xac\\xe4\\xba\\xba\\xe5\\x89\\x87\\xe4\\xb8\\x8d\\xe7\\x85\\xa7\\xe6\\x9c\\x83, \\xe5\\x89\\x87\\xe4\\xb8\\x8d\\xe5\\xbe\\x97\\xe6\\x94\\xbe\\xe7\\xa0\\xb2\\xe4\\xba\\x91, \\xe5\\x97\\x9a\\xe5\\x91\\xbc\\xe5\\x93\\x80\\xe5\\x93\\x89<br/><div align=\"center\"><small>\\n\\t\\t\\t\\t\\t&lt;1\\xea\\xb6\\x8c 0001&gt;\\n\\t\\t\\t\\t</small></div><br/><span title=\"\\xec\\xa7\\x80\\xeb\\xaa\\x85\" style=\"color:#336666\">\\xe6\\x9c\\x9d\\xe9\\xae\\xae</span>\\xe4\\xb9\\x8b\\xe7\\x8b\\x80\\xe4\\xb9\\x9f, \\xe4\\xbd\\x95\\xe4\\xbb\\xa5\\xe7\\x94\\x9a\\xe6\\x96\\xbc\\xe7\\x88\\xb2\\xe4\\xba\\xba\\xe5\\xa5\\xb4\\xe8\\x80\\x8c\\xe4\\xb8\\x8d\\xe6\\xac\\xb2\\xe6\\x8c\\xaf\\xe4\\xbd\\x9c\\xe8\\x80\\xb6\\xe3\\x80\\x82 </div><br/></div></div><span class=\"dscArea\"> </span></td>\\r\\n\\t\\t\\t\\t\\t\\t</tr>\\r\\n\\t\\t\\t\\t\\t\\t</table>\\r\\n\\t\\t\\t\\t\\t\\t</div>\\r\\n\\r\\n\\t\\t\\t\\t</div>\\r\\n\\t\\t\\t</div>\\r\\n\\t\\t\\t<!--//\\xec\\xa2\\x8c\\xec\\xb8\\xa1 \\xec\\xbd\\x98\\xed\\x85\\x90\\xec\\xb8\\xa0 -->\\r\\n\\r\\n\\t\\t\\t<!--\\xec\\x9a\\xb0\\xec\\xb8\\xa1 \\xec\\xbd\\x98\\xed\\x85\\x90\\xec\\xb8\\xa0 -->\\r\\n\\t\\t\\t<div id=\"conRight\" class=\"conRight w50_w50\">\\r\\n\\t\\t\\t\\t<div class=\"contents rt\">\\r\\n\\r\\n\\t\\t\\t\\t\\t<div class=\"btn rt noprint\">\\r\\n\\t\\t\\t\\t\\t\\t<a class=\"b01\" href=\"#\" onclick=\"fnChangeFontSize(\\'#rightContent .cont_view\\', +1); return false;\">\\xea\\xb8\\x80\\xec\\x9e\\x90 \\xed\\x81\\xac\\xea\\xb2\\x8c</a><a class=\"b02\" href=\"#\" onclick=\"fnChangeFontSize(\\'#rightContent .cont_view\\', -1); return false;\">\\xea\\xb8\\x80\\xec\\x9e\\x90 \\xec\\x9e\\x91\\xea\\xb2\\x8c</a>\\r\\n\\t\\t\\t\\t\\t</div>\\r\\n\\r\\n\\t\\t\\t\\t\\t<div id=\"rightContent\"><table style=\"width: 100%\">\\r\\n\\t\\t\\t\\t\\t\\t<tr>\\r\\n\\t\\t\\t\\t\\t\\t\\t<td>\\r\\n\\t\\t\\t\\t\\t\\t\\t\\t<div class=\"cont_view\"><div style=\"margin-left:20px;\" id=\"cont_view\"><div style=\"text-align:justify;word-break:break-all;\">2\\xec\\x9d\\xbc(23\\xec\\x9d\\xbc, \\xed\\x99\\x94, \\xeb\\xa7\\x91\\xec\\x9d\\x8c)</div><div style=\"text-align:justify;word-break:break-all;\">  \\xea\\xb3\\xa0\\xec\\x9a\\xb0\\xec\\x9e\\xa5(\\xe5\\x8f\\xa4\\xe6\\x84\\x9a\\xe4\\xb8\\x88:<a class=\"annotation_comment\" rel=\"#_comment\" name=\"_\" href=\"#_comment\"><sup class=\"cpint\">\\n\\t\\t\\t\\t\\xe8\\xa8\\xbb <span class=\"engf\"/></sup></a><span id=\"_comment\" class=\"lyrPopup\"><strong> </strong><span class=\"lyrpop_cont\">\\xea\\xb9\\x80\\xec\\x98\\xa5\\xea\\xb7\\xa0</span><span class=\"lyrpop_close\">\\xeb\\x8b\\xab\\xea\\xb8\\xb0</span></span>)\\xea\\xb3\\xbc \\xed\\x95\\xa8\\xea\\xbb\\x98 \\xed\\x9b\\x84\\xec\\xbf\\xa0\\xec\\x9e\\x90\\xec\\x99\\x80 \\xec\\x9c\\xa0\\xed\\x82\\xa4\\xec\\xb9\\x98(\\xe7\\xa6\\x8f\\xe6\\xbe\\xa4\\xe8\\xab\\xad\\xe5\\x90\\x89)\\xeb\\xa5\\xbc \\xeb\\xb0\\xa9\\xeb\\xac\\xb8\\xed\\x96\\x88\\xeb\\x8b\\xa4\\xea\\xb0\\x80 \\xec\\x9d\\xb4\\xeb\\xa7\\x88\\xed\\x95\\x98\\xeb\\x9d\\xbc(\\xe4\\xbb\\x8a\\xe5\\x8e\\x9f)\\xeb\\x9d\\xbc\\xeb\\x8a\\x94 \\xec\\x82\\xac\\xeb\\x9e\\x8c\\xec\\x9d\\x84 \\xeb\\xa7\\x8c\\xeb\\x82\\xac\\xeb\\x8b\\xa4. \\xec\\x9a\\xb0\\xeb\\xa6\\xac\\xeb\\x82\\x98\\xeb\\x9d\\xbc\\xec\\x97\\x90\\xec\\x84\\x9c \\xeb\\x8f\\x8c\\xec\\x95\\x84\\xec\\x98\\xa8 \\xec\\x82\\xac\\xeb\\x9e\\x8c\\xec\\x9d\\xb4\\xeb\\x8b\\xa4. \\xea\\xb7\\xb8\\xec\\x97\\x90\\xea\\xb2\\x8c \\xec\\x9a\\xb0\\xeb\\xa6\\xac\\xeb\\x82\\x98\\xeb\\x9d\\xbc\\xec\\x9d\\x98 \\xec\\x82\\xac\\xec\\xa0\\x95\\xec\\x9d\\x84 \\xeb\\xac\\xbc\\xec\\x97\\x88\\xeb\\x8b\\xa4.</div><div style=\"text-align:justify;word-break:break-all;\">  \\xea\\xb7\\xb8\\xea\\xb0\\x80 \\xeb\\xa7\\x90\\xed\\x95\\x98\\xea\\xb8\\xb0\\xeb\\xa5\\xbc, \\xe2\\x80\\x9c\\xec\\xa7\\x80\\xea\\xb8\\x88 \\xea\\xb2\\xbd\\xec\\x84\\xb1\\xec\\x97\\x90 \\xec\\x9e\\x88\\xeb\\x8a\\x94 \\xec\\xa7\\x80\\xeb\\x82\\x98(\\xe6\\x94\\xaf\\xe9\\x82\\xa3) \\xea\\xb5\\xb0\\xec\\x82\\xac\\xeb\\x8a\\x94 \\xeb\\xaa\\xa8\\xeb\\x91\\x90 \\xed\\x95\\xa9\\xec\\xb3\\x90 3\\xec\\x98\\x81(\\xe4\\xb8\\x89\\xe7\\x87\\x9f)<font color=\"tomato\"><small>500\\xeb\\xaa\\x85 \\xec\\x9b\\x90\\xec\\xa0\\x80\\xec\\x9e\\x90\\xec\\xa3\\xbc</small></font>\\xec\\x9d\\xb4\\xeb\\x9d\\xbc\\xea\\xb3\\xa0 \\xed\\x95\\x98\\xeb\\x82\\x98 \\xec\\x95\\x84\\xeb\\xa7\\x88\\xeb\\x8f\\x84 \\xec\\x9d\\xb4\\xeb\\x8a\\x94 \\xec\\xa7\\x80\\xeb\\x82\\x98\\xec\\xb9\\x9c \\xeb\\xa7\\x90\\xec\\x9d\\xb8 \\xeb\\x93\\xaf\\xed\\x95\\x98\\xea\\xb3\\xa0, \\xea\\xb2\\xbd\\xec\\x84\\xb1\\xec\\x97\\x90 \\xec\\x9e\\x88\\xeb\\x8a\\x94 \\xec\\x9d\\xbc\\xeb\\xb3\\xb8 \\xea\\xb5\\xb0\\xec\\x82\\xac\\xeb\\x8a\\x94 4\\xeb\\xb0\\xb1 \\xeb\\xaa\\x85\\xec\\x9d\\xb4\\xeb\\x8b\\xa4\\xe2\\x80\\x9d\\xeb\\x9d\\xbc\\xea\\xb3\\xa0 \\xed\\x95\\x98\\xec\\x98\\x80\\xeb\\x8b\\xa4. \\xeb\\x98\\x90 \\xeb\\xa7\\x90\\xed\\x95\\x98\\xea\\xb8\\xb0\\xeb\\xa5\\xbc, \\xe2\\x80\\x9c\\xea\\xb7\\x80\\xea\\xb5\\xad \\xec\\xa1\\xb0\\xec\\x84\\xa0\\xec\\xa0\\x95\\xeb\\xb6\\x80\\xeb\\x8a\\x94 \\xeb\\xaa\\xa8\\xeb\\x91\\x90 \\xec\\xa7\\x80\\xeb\\x82\\x98\\xec\\x9d\\x98 \\xec\\xa7\\x80\\xed\\x9c\\x98\\xeb\\xa5\\xbc \\xeb\\xb0\\x9b\\xeb\\x8a\\x94\\xeb\\x8b\\xa4\\xe2\\x80\\x9d \\xed\\x95\\x98\\xea\\xb3\\xa0, \\xec\\x9d\\xb4\\xec\\x96\\xb4 \\xe2\\x80\\x9c\\xec\\xa4\\x91\\xea\\xb5\\xad\\xec\\x9d\\xb8\\xec\\x9d\\x80 \\xec\\xb4\\x9d\\xec\\x9d\\x84 \\xec\\x8f\\x98\\xeb\\xa9\\xb4\\xec\\x84\\x9c \\xeb\\xb0\\xa9\\xec\\x95\\xbd\\xeb\\xac\\xb4\\xec\\x9d\\xb8\\xed\\x95\\x98\\xea\\xb2\\x8c \\xec\\xa0\\x9c\\xeb\\xa9\\x8b\\xeb\\x8c\\x80\\xeb\\xa1\\x9c \\xed\\x96\\x89\\xeb\\x8f\\x99\\xed\\x95\\x98\\xeb\\x82\\x98 \\xec\\x9d\\xbc\\xeb\\xb3\\xb8\\xec\\x9d\\xb8\\xec\\x9d\\x80 \\xec\\xa1\\xb0\\xed\\x9a\\x8c(\\xe7\\x85\\xa7\\xe6\\x9c\\x83)\\xed\\x95\\x98\\xec\\xa7\\x80 \\xec\\x95\\x8a\\xec\\x9c\\xbc\\xeb\\xa9\\xb4 \\xec\\xb4\\x9d\\xec\\x9d\\x84 \\xec\\x8f\\x98\\xec\\xa7\\x80 \\xeb\\xaa\\xbb\\xed\\x95\\x9c\\xeb\\x8b\\xa4\\xe2\\x80\\x9d\\xea\\xb3\\xa0 \\xed\\x95\\x98\\xec\\x98\\x80\\xeb\\x8b\\xa4.</div><div style=\"text-align:justify;word-break:break-all;\">  \\xec\\x95\\x84\\xec\\x95\\x84 \\xec\\x8a\\xac\\xed\\x94\\x84\\xeb\\x8b\\xa4. \\xec\\xa1\\xb0\\xec\\x84\\xa0\\xec\\x9d\\x98 \\xed\\x98\\x84\\xec\\x83\\x81\\xec\\x9d\\xb4\\xec\\x97\\xac. \\xeb\\x82\\xa8\\xec\\x9d\\x98 \\xeb\\x85\\xb8\\xec\\x98\\x88 \\xeb\\x85\\xb8\\xeb\\xa6\\x87\\xed\\x95\\x98\\xeb\\x8a\\x94 \\xea\\xb2\\x83\\xeb\\xb3\\xb4\\xeb\\x8b\\xa4 \\xeb\\x8d\\x94 \\xec\\x8b\\xac\\xed\\x95\\x9c \\xec\\xb2\\x98\\xec\\xa7\\x80\\xec\\x97\\x90 \\xec\\x9e\\x88\\xec\\x9c\\xbc\\xeb\\xa9\\xb4\\xec\\x84\\x9c\\xeb\\x8f\\x84 \\xec\\x96\\xb4\\xec\\xb0\\x8c \\xeb\\x96\\xa8\\xec\\xb3\\x90 \\xec\\x9d\\xbc\\xec\\x96\\xb4\\xeb\\x82\\x98\\xeb\\xa0\\xa4 \\xed\\x95\\x98\\xec\\xa7\\x80 \\xec\\x95\\x8a\\xeb\\x8a\\x94\\xea\\xb0\\x80.</div><br/></div></div><span class=\"dscArea\"> </span></td>\\r\\n\\t\\t\\t\\t\\t\\t</tr>\\r\\n\\t\\t\\t\\t\\t\\t</table>\\r\\n\\t\\t\\t\\t\\t\\t</div>\\r\\n\\r\\n\\t\\t\\t\\t</div>\\r\\n\\t\\t\\t</div>\\r\\n\\t\\t\\t<!--//\\xec\\x9a\\xb0\\xec\\xb8\\xa1 \\xec\\xbd\\x98\\xed\\x85\\x90\\xec\\xb8\\xa0 -->\\r\\n\\t\\t</div>\\r\\n\\t\\t<!--//\\xec\\xbd\\x98\\xed\\x85\\x90\\xec\\xb8\\xa0 \\xec\\x98\\x81\\xec\\x97\\xad -->\\r\\n\\r\\n\\t\\t<!--\\xed\\x95\\x98\\xeb\\x8b\\xa8 \\xeb\\xb9\\x88\\xea\\xb3\\xb5\\xea\\xb0\\x84 -->\\r\\n\\t\\t<div class=\"footer noprint\"></div>\\r\\n\\t\\t<!--//\\xed\\x95\\x98\\xeb\\x8b\\xa8 \\xeb\\xb9\\x88\\xea\\xb3\\xb5\\xea\\xb0\\x84 -->\\r\\n\\t</div>\\r\\n\\r\\n<script type=\"text/javascript\">\\r\\n//<![CDATA[\\r\\n\\t\\r\\n\\t// \\xea\\xb8\\x80\\xec\\x94\\xa8 \\xed\\x81\\xac\\xea\\xb2\\x8c/\\xec\\x9e\\x91\\xea\\xb2\\x8c\\r\\n\\tfunction fnChangeFontSize(targets, inc) {\\r\\n\\t\\t$(targets).each(function() {\\r\\n\\t\\t\\tvar currentFontSize = $(this).css(\"font-size\");\\r\\n\\t\\t\\tvar num = parseFloat(currentFontSize, 10);\\r\\n\\t\\t\\tvar unit = currentFontSize.slice(-2);\\r\\n\\t\\t\\t//console.log(\"currentFontSize=\" + currentFontSize + \";num=\" + num + \";unit=\" + unit);\\r\\n\\t\\t\\t\\r\\n\\t\\t\\tvar newNum = num + 3 * inc;\\r\\n\\t\\t\\tif (newNum >= 10 && newNum <= 36) {\\r\\n\\t\\t\\t\\t//console.log(num + \"-->\" + newNum);\\r\\n\\t\\t\\t\\t$(this).css({\"font-size\": newNum + unit});\\r\\n\\t\\t\\t}\\r\\n\\t\\t});\\r\\n\\t}\\r\\n\\t\\r\\n\\t// \\xeb\\xb3\\xb8\\xeb\\xac\\xb8 \\xec\\xb6\\x9c\\xeb\\xa0\\xa5\\r\\n\\tfunction bodyPrint() {\\r\\n\\t\\tif (!$(\"#conLeft\").hasClass(\"w0_w100\")) {\\r\\n\\t\\t\\t$(\"#conLeft\").css({\"overflow\": \"visible\"});\\t\\r\\n\\t\\t}\\r\\n\\t\\tif (!$(\"#conRight\").hasClass(\"w100_w0\")) {\\r\\n\\t\\t\\t$(\"#conRight\").css({\"overflow\": \"visible\"});\\r\\n\\t\\t}\\r\\n\\t\\t\\r\\n\\t\\t$(\"#footer\").hide();\\r\\n\\t\\t$(\"#header\").hide();\\r\\n\\t\\t\\r\\n\\t\\twindow.print();\\r\\n\\t\\t\\r\\n\\t\\tvar recoverView = window.setInterval(function() {\\r\\n\\t\\t\\tif ($(\"#header\").is(\":hidden\")) {\\r\\n\\t\\t\\t\\tif (!$(\"#conLeft\").hasClass(\"w0_w100\")) {\\r\\n\\t\\t\\t\\t\\t$(\"#conLeft\").css({\"overflow\": \"auto\"});\\t\\r\\n\\t\\t\\t\\t}\\r\\n\\t\\t\\t\\tif (!$(\"#conRight\").hasClass(\"w100_w0\")) {\\r\\n\\t\\t\\t\\t\\t$(\"#conRight\").css({\"overflow\": \"auto\"});\\t\\r\\n\\t\\t\\t\\t}\\r\\n\\t\\t\\t\\t\\r\\n\\t\\t\\t\\t$(\"#footer\").show();\\r\\n\\t\\t\\t\\t$(\"#header\").show();\\r\\n\\t\\t\\t} else {\\r\\n\\t\\t\\t\\tclearInterval(recoverView);\\r\\n\\t\\t\\t}\\r\\n\\t\\t}, 100);\\r\\n\\t}\\r\\n\\t\\r\\n\\t// \\xec\\x8a\\xac\\xeb\\x9d\\xbc\\xec\\x9d\\xb4\\xeb\\x93\\x9c \\xeb\\xb0\\x94 \\xec\\x9d\\xb4\\xeb\\x8f\\x99 \\xec\\x8b\\x9c \\xeb\\xb7\\xb0 \\xec\\x98\\x81\\xec\\x97\\xad \\xeb\\xb3\\x80\\xea\\xb2\\xbd\\r\\n\\tfunction fnResizeDiv(value) {\\r\\n\\t\\t$(\"#conLeft\").removeClass(\\'w0_w100\\').removeClass(\\'w25_w75\\').removeClass(\\'w50_w50\\').removeClass(\\'w75_w25\\').removeClass(\\'w100_w0\\');\\r\\n\\t\\t$(\"#conRight\").removeClass(\\'w0_w100\\').removeClass(\\'w25_w75\\').removeClass(\\'w50_w50\\').removeClass(\\'w75_w25\\').removeClass(\\'w100_w0\\');\\r\\n\\t\\t\\r\\n\\t\\tif (value == 0) {\\r\\n\\t\\t\\t$(\"#conLeft\").addClass(\"w0_w100\");\\r\\n\\t\\t\\t$(\"#conRight\").addClass(\"w0_w100\");\\r\\n\\t\\t} else if (value == 25) {\\r\\n\\t\\t\\t$(\"#conLeft\").addClass(\"w25_w75\");\\r\\n\\t\\t\\t$(\"#conRight\").addClass(\"w25_w75\");\\r\\n\\t\\t} else if (value == 50) {\\r\\n\\t\\t\\t$(\"#conLeft\").addClass(\"w50_w50\");\\r\\n\\t\\t\\t$(\"#conRight\").addClass(\"w50_w50\");\\r\\n\\t\\t} else if (value == 75) {\\r\\n\\t\\t\\t$(\"#conLeft\").addClass(\"w75_w25\");\\r\\n\\t\\t\\t$(\"#conRight\").addClass(\"w75_w25\");\\r\\n\\t\\t} else if (value == 100 ) {\\r\\n\\t\\t\\t$(\"#conLeft\").addClass(\"w100_w0\");\\r\\n\\t\\t\\t$(\"#conRight\").addClass(\"w100_w0\");\\r\\n\\t\\t}\\r\\n\\t}\\r\\n\\t\\r\\n\\t// \\xec\\x9b\\x90\\xeb\\xac\\xb8, \\xea\\xb5\\xad\\xec\\x97\\xad \\xed\\x81\\xb4\\xeb\\xa6\\xad \\xec\\x8b\\x9c \\xec\\x8a\\xac\\xeb\\x9d\\xbc\\xec\\x9d\\xb4\\xeb\\x93\\x9c \\xeb\\xb0\\x94 \\xec\\x9d\\xb4\\xeb\\x8f\\x99\\r\\n\\tfunction fnMoveSlider(flag) {\\r\\n\\t\\tif (flag == \"o\") {\\r\\n\\t\\t\\t$(\\'.slider_sort\\').slider(\\'value\\', 100);\\r\\n\\t\\t\\tfnResizeDiv(100);\\r\\n\\t\\t} else if (flag == \"t\") {\\r\\n\\t\\t\\t$(\\'.slider_sort\\').slider(\\'value\\', 0);\\r\\n\\t\\t\\tfnResizeDiv(0);\\r\\n\\t\\t}\\r\\n\\t}\\r\\n\\r\\n\\t$(document).ready(function(){\\r\\n\\t\\t$(\"body\").replaceOldHan();\\r\\n\\t\\t\\r\\n\\t\\t// \\xec\\x8a\\xac\\xeb\\x9d\\xbc\\xec\\x9d\\xb4\\xeb\\x93\\x9c \\xeb\\xb0\\x94\\r\\n\\t\\t$(\\'.slider_sort\\').slider({\\r\\n\\t\\t\\trange: \\'min\\',\\r\\n\\t\\t\\tvalue: 50,\\r\\n\\t\\t\\tmin: 0,\\r\\n\\t\\t\\tmax: 100,\\r\\n\\t\\t\\tstep: 25,\\r\\n\\t\\t\\tslide: function(event, ui) {\\r\\n\\t\\t\\t\\tfnResizeDiv(ui.value);\\r\\n\\t\\t\\t}\\r\\n\\t\\t});\\r\\n\\t\\t\\r\\n\\t\\t// \\xec\\xa3\\xbc\\xec\\x84\\x9d \\xed\\x8c\\x9d\\xec\\x97\\x85\\r\\n\\t\\t$(\\'a.annotation_comment\\').cluetip({\\r\\n\\t\\t\\tcluetipClass: \\'rounded\\',\\r\\n\\t\\t\\tarrows: false,\\r\\n\\t\\t\\twidth: 440,\\r\\n\\t\\t\\tdropShadow: false,\\r\\n\\t\\t\\tcursor: \\'hand\\',\\r\\n\\t\\t\\tcluetipClass: \\'none\\',\\r\\n\\t\\t\\tpositionBy: \\'auto\\',\\r\\n\\t\\t\\tleftOffset: -10,\\r\\n\\t\\t\\tlocal: true,\\r\\n\\t\\t\\tsticky: true,\\r\\n\\t\\t\\tshowTitle: false,\\r\\n\\t\\t\\tmouseOutClose: true,\\r\\n\\t\\t\\tclosePosition: \\'title\\',\\r\\n\\t\\t\\tcloseText: \\'<img src=\"/js/jquery-cluetip-master/demo/cross.png\" title=\"\\xeb\\x8b\\xab\\xea\\xb8\\xb0\" />\\'\\r\\n\\t\\t});\\r\\n\\t\\t\\r\\n\\t\\t$(\".lyrpop_close\").click(function(){\\r\\n\\t\\t\\t$(this).parent().hide();\\r\\n\\t\\t});\\r\\n\\t});\\r\\n\\t\\r\\n//]]>\\r\\n</script>\\r\\n\\r\\n</body>\\r\\n</html>\\r\\n'"
      ]
     },
     "execution_count": 5,
     "metadata": {},
     "output_type": "execute_result"
    }
   ],
   "source": [
    "response.content"
   ]
  },
  {
   "cell_type": "code",
   "execution_count": 5,
   "metadata": {},
   "outputs": [
    {
     "data": {
      "text/plain": [
       "'<!DOCTYPE html PUBLIC \"-//W3C//DTD XHTML 1.0 Transitional//EN\" \"http://www.w3.org/TR/xhtml1/DTD/xhtml1-transitional.dtd\">\\r\\n<html xmlns=\"http://www.w3.org/1999/xhtml\">\\r\\n<head>\\r\\n<meta http-equiv=\"content-type\" content=\"text/html;charset=utf-8\" />\\r\\n<title>\\r\\n\\t한국사데이터베이스 비교보기 &gt; 二十三日</title>\\r\\n\\r\\n<link rel=\"stylesheet\" type=\"text/css\" href=\"/css/compare/popup_cv.css?ver=1.1\" />\\r\\n<link rel=\"stylesheet\" type=\"text/css\" href=\"/css/compare/jquery-ui.css?ver=1.0\" />\\r\\n<link rel=\"stylesheet\" type=\"text/css\" href=\"/js/jquery-cluetip-master/jquery.cluetip.css\" />\\r\\n\\r\\n<style type=\"text/css\">\\r\\n@media print {\\r\\n\\t.noprint {display: none;}\\r\\n}\\r\\n\\r\\n/* 고어 출력 */\\r\\n.oldHan {font-family: \"한컴바탕\", \"함초롬바탕\";}\\r\\n</style>\\r\\n\\r\\n<script type=\"text/javascript\" src=\"/jQuery/jquery-1.8.3.js\"></script>\\r\\n<script type=\"text/javascript\" src=\"/js/compare/jquery-ui.js?ver=1.0\"></script>\\r\\n<script type=\"text/javascript\" src=\"/js/jquery-cluetip-master/lib/jquery.hoverIntent.js\"></script>\\r\\n<script type=\"text/javascript\" src=\"/js/jquery-cluetip-master/jquery.cluetip.js\"></script>\\r\\n<script type=\"text/javascript\" src=\"/js/jquery.oldHan.js\"></script>\\r\\n<script type=\"text/javascript\" src=\"/js/nikhhdb.js\"></script>\\r\\n\\r\\n</head>\\r\\n<body>\\r\\n\\t<div class=\"wrap\">\\r\\n\\r\\n\\t\\t<!--헤더 -->\\r\\n\\t\\t<div id=\"header\" class=\"headerWrap noprint\">\\r\\n\\t\\t\\t<h1>한국사데이터베이스</h1>\\r\\n\\t\\t\\t<a href=\"http://www.history.go.kr\" target=\"_blank\">국사편찬위원회</a>\\r\\n\\t\\t</div>\\r\\n\\t\\t<!--//헤더 -->\\r\\n\\r\\n\\t\\t<!--타이틀 영역 -->\\r\\n\\t\\t<div class=\"functionWrap\">\\r\\n\\t\\t\\t<div class=\"functionIn\">\\r\\n\\t\\t\\t\\t<div class=\"titleWrap\">\\r\\n\\t\\t\\t\\t\\t<h3>\\r\\n\\t\\t\\t\\t\\t\\t二十三日</h3>\\r\\n\\t\\t\\t\\t\\t<p class=\"location\">\\r\\n\\t\\t\\t\\t\\t\\t한국사료총서&nbsp;&gt;\\r\\n\\t\\t\\t\\t\\t\\t尹致昊日記 一&nbsp;&gt;&nbsp;1883年 (高宗20年 癸未)&nbsp;&gt;&nbsp;壬午日記 1882年 11月(陽曆 1883年 1月 1日~8日)&nbsp;&gt;&nbsp;二十三日</p>\\r\\n\\t\\t\\t\\t</div>\\r\\n\\t\\t\\t\\t<div class=\"view_scroll noprint\">\\r\\n\\t\\t\\t\\t\\t<em><a href=\"#self\" onclick=\"fnMoveSlider(\\'o\\'); return false;\">원문</a></em>\\r\\n\\t\\t\\t\\t\\t<div class=\"slider_sort\"></div>\\r\\n\\t\\t\\t\\t\\t<em class=\"rt\"><a href=\"#self\" onclick=\"fnMoveSlider(\\'t\\'); return false;\">국역</a></em>\\r\\n\\t\\t\\t\\t</div>\\r\\n\\t\\t\\t\\t<div class=\"btn\">\\r\\n\\t\\t\\t\\t\\t<a class=\"b01\" href=\"#\" onclick=\"fnChangeFontSize(\\'.cont_view\\', +1); return false;\">글자 크게</a><a\\r\\n\\t\\t\\t\\t\\t class=\"b02\" href=\"#\" onclick=\"fnChangeFontSize(\\'.cont_view\\', -1); return false;\">글자 작게</a><a\\r\\n\\t\\t\\t\\t\\t class=\"b04\" href=\"/item/compareViewer.do?levelId=sa_024_0010_0010_0010\">이전 기사</a><a\\r\\n\\t\\t\\t\\t\\t class=\"b05\" href=\"/item/compareViewer.do?levelId=sa_024_0010_0010_0030\">다음 기사</a><a\\r\\n\\t\\t\\t\\t\\t class=\"b03\" href=\"#\" onclick=\"bodyPrint(); return false;\">출력</a>\\r\\n\\t\\t\\t\\t\\t<!-- <a class=\"b01\" href=\"#\" onclick=\"fnChangeFontSize(\\'.cont_view\\', +1); return false;\">글자 크게</a><a class=\"b02\" href=\"#\" onclick=\"fnChangeFontSize(\\'.cont_view\\', -1); return false;\">글자 작게</a><a class=\"b03\" href=\"#\" onclick=\"bodyPrint(); return false;\">출력</a> -->\\r\\n\\t\\t\\t\\t</div>\\r\\n\\t\\t\\t</div>\\r\\n\\t\\t</div>\\r\\n\\t\\t<!--//타이틀 영역 -->\\r\\n\\r\\n\\t\\t<!--콘텐츠 영역 -->\\r\\n\\t\\t<div class=\"contentsWrap\">\\r\\n\\r\\n\\t\\t\\t<!--좌측 콘텐츠 -->\\r\\n\\t\\t\\t<div id=\"conLeft\" class=\"conLeft w50_w50\">\\r\\n\\t\\t\\t\\t<div class=\"contents lt\">\\r\\n\\r\\n\\t\\t\\t\\t\\t<div class=\"btn lt noprint\">\\r\\n\\t\\t\\t\\t\\t\\t<a class=\"b01\" href=\"#\" onclick=\"fnChangeFontSize(\\'#leftContent .cont_view\\', +1); return false;\">글자 크게</a><a class=\"b02\" href=\"#\" onclick=\"fnChangeFontSize(\\'#leftContent .cont_view\\', -1); return false;\">글자 작게</a>\\r\\n\\t\\t\\t\\t\\t</div>\\r\\n\\r\\n\\t\\t\\t\\t\\t<div id=\"leftContent\"><!-- class=\"org\" -->\\r\\n\\t\\t\\t\\t\\t\\t<table style=\"width: 100%\">\\r\\n\\t\\t\\t\\t\\t\\t<tr>\\r\\n\\t\\t\\t\\t\\t\\t\\t<td>\\r\\n\\t\\t\\t\\t\\t\\t\\t\\t<div class=\"cont_view\"><div style=\"margin-left:20px;\" id=\"cont_view\"><div style=\"text-align:justify;word-break:break-all;\">二十三日</div><br/><span style=\"padding:15px 15px\"><font color=\"#4863a0\"><small><span title=\"이름\">金玉均</span></small></font>\\n\\t\\t\\t\\t\\t\\t\\xa0\\xa0\\n\\t\\t\\t\\t\\t<font color=\"#4863a0\"><small><span title=\"이름\">福澤諭吉</span></small></font>\\n\\t\\t\\t\\t\\t\\t\\xa0\\xa0\\n\\t\\t\\t\\t\\t<font color=\"#4863a0\"><small><span title=\"지명\">京城</span>의 淸日兵</small></font>\\n\\t\\t\\t\\t\\t\\t\\xa0\\xa0\\n\\t\\t\\t\\t\\t</span><br/><br/><div style=\"text-align:justify;word-break:break-all;padding-left:0px\">, , </div><div style=\"text-align:justify;word-break:break-all;padding-left:0px\">(晴, 二日, 火)偕古丈<font color=\"tomato\"><small>(<span title=\"이름\" style=\"color:#336666\">金玉均</span>) 편자주 </small></font>訪福澤, 逢今原者, 自我國歸者也, 問本國現狀彼曰, 今支那兵之留京者合三營一千五百人云, 恐是過稱, 和兵之留京者四百人云, 又曰, 貴國<span title=\"지명\" style=\"color:#336666\">朝鮮</span>政府, 皆奉<span title=\"지명\" style=\"color:#336666\">支那</span> 指揮云, 又曰, 支那人則試砲橫行, 傍若無人, 至於日本人則不照會, 則不得放砲云, 嗚呼哀哉<br/><div align=\"center\"><small>\\n\\t\\t\\t\\t\\t&lt;1권 0001&gt;\\n\\t\\t\\t\\t</small></div><br/><span title=\"지명\" style=\"color:#336666\">朝鮮</span>之狀也, 何以甚於爲人奴而不欲振作耶。 </div><br/></div></div><span class=\"dscArea\"> </span></td>\\r\\n\\t\\t\\t\\t\\t\\t</tr>\\r\\n\\t\\t\\t\\t\\t\\t</table>\\r\\n\\t\\t\\t\\t\\t\\t</div>\\r\\n\\r\\n\\t\\t\\t\\t</div>\\r\\n\\t\\t\\t</div>\\r\\n\\t\\t\\t<!--//좌측 콘텐츠 -->\\r\\n\\r\\n\\t\\t\\t<!--우측 콘텐츠 -->\\r\\n\\t\\t\\t<div id=\"conRight\" class=\"conRight w50_w50\">\\r\\n\\t\\t\\t\\t<div class=\"contents rt\">\\r\\n\\r\\n\\t\\t\\t\\t\\t<div class=\"btn rt noprint\">\\r\\n\\t\\t\\t\\t\\t\\t<a class=\"b01\" href=\"#\" onclick=\"fnChangeFontSize(\\'#rightContent .cont_view\\', +1); return false;\">글자 크게</a><a class=\"b02\" href=\"#\" onclick=\"fnChangeFontSize(\\'#rightContent .cont_view\\', -1); return false;\">글자 작게</a>\\r\\n\\t\\t\\t\\t\\t</div>\\r\\n\\r\\n\\t\\t\\t\\t\\t<div id=\"rightContent\"><table style=\"width: 100%\">\\r\\n\\t\\t\\t\\t\\t\\t<tr>\\r\\n\\t\\t\\t\\t\\t\\t\\t<td>\\r\\n\\t\\t\\t\\t\\t\\t\\t\\t<div class=\"cont_view\"><div style=\"margin-left:20px;\" id=\"cont_view\"><div style=\"text-align:justify;word-break:break-all;\">2일(23일, 화, 맑음)</div><div style=\"text-align:justify;word-break:break-all;\">  고우장(古愚丈:<a class=\"annotation_comment\" rel=\"#_comment\" name=\"_\" href=\"#_comment\"><sup class=\"cpint\">\\n\\t\\t\\t\\t註 <span class=\"engf\"/></sup></a><span id=\"_comment\" class=\"lyrPopup\"><strong> </strong><span class=\"lyrpop_cont\">김옥균</span><span class=\"lyrpop_close\">닫기</span></span>)과 함께 후쿠자와 유키치(福澤諭吉)를 방문했다가 이마하라(今原)라는 사람을 만났다. 우리나라에서 돌아온 사람이다. 그에게 우리나라의 사정을 물었다.</div><div style=\"text-align:justify;word-break:break-all;\">  그가 말하기를, “지금 경성에 있는 지나(支那) 군사는 모두 합쳐 3영(三營)<font color=\"tomato\"><small>500명 원저자주</small></font>이라고 하나 아마도 이는 지나친 말인 듯하고, 경성에 있는 일본 군사는 4백 명이다”라고 하였다. 또 말하기를, “귀국 조선정부는 모두 지나의 지휘를 받는다” 하고, 이어 “중국인은 총을 쏘면서 방약무인하게 제멋대로 행동하나 일본인은 조회(照會)하지 않으면 총을 쏘지 못한다”고 하였다.</div><div style=\"text-align:justify;word-break:break-all;\">  아아 슬프다. 조선의 현상이여. 남의 노예 노릇하는 것보다 더 심한 처지에 있으면서도 어찌 떨쳐 일어나려 하지 않는가.</div><br/></div></div><span class=\"dscArea\"> </span></td>\\r\\n\\t\\t\\t\\t\\t\\t</tr>\\r\\n\\t\\t\\t\\t\\t\\t</table>\\r\\n\\t\\t\\t\\t\\t\\t</div>\\r\\n\\r\\n\\t\\t\\t\\t</div>\\r\\n\\t\\t\\t</div>\\r\\n\\t\\t\\t<!--//우측 콘텐츠 -->\\r\\n\\t\\t</div>\\r\\n\\t\\t<!--//콘텐츠 영역 -->\\r\\n\\r\\n\\t\\t<!--하단 빈공간 -->\\r\\n\\t\\t<div class=\"footer noprint\"></div>\\r\\n\\t\\t<!--//하단 빈공간 -->\\r\\n\\t</div>\\r\\n\\r\\n<script type=\"text/javascript\">\\r\\n//<![CDATA[\\r\\n\\t\\r\\n\\t// 글씨 크게/작게\\r\\n\\tfunction fnChangeFontSize(targets, inc) {\\r\\n\\t\\t$(targets).each(function() {\\r\\n\\t\\t\\tvar currentFontSize = $(this).css(\"font-size\");\\r\\n\\t\\t\\tvar num = parseFloat(currentFontSize, 10);\\r\\n\\t\\t\\tvar unit = currentFontSize.slice(-2);\\r\\n\\t\\t\\t//console.log(\"currentFontSize=\" + currentFontSize + \";num=\" + num + \";unit=\" + unit);\\r\\n\\t\\t\\t\\r\\n\\t\\t\\tvar newNum = num + 3 * inc;\\r\\n\\t\\t\\tif (newNum >= 10 && newNum <= 36) {\\r\\n\\t\\t\\t\\t//console.log(num + \"-->\" + newNum);\\r\\n\\t\\t\\t\\t$(this).css({\"font-size\": newNum + unit});\\r\\n\\t\\t\\t}\\r\\n\\t\\t});\\r\\n\\t}\\r\\n\\t\\r\\n\\t// 본문 출력\\r\\n\\tfunction bodyPrint() {\\r\\n\\t\\tif (!$(\"#conLeft\").hasClass(\"w0_w100\")) {\\r\\n\\t\\t\\t$(\"#conLeft\").css({\"overflow\": \"visible\"});\\t\\r\\n\\t\\t}\\r\\n\\t\\tif (!$(\"#conRight\").hasClass(\"w100_w0\")) {\\r\\n\\t\\t\\t$(\"#conRight\").css({\"overflow\": \"visible\"});\\r\\n\\t\\t}\\r\\n\\t\\t\\r\\n\\t\\t$(\"#footer\").hide();\\r\\n\\t\\t$(\"#header\").hide();\\r\\n\\t\\t\\r\\n\\t\\twindow.print();\\r\\n\\t\\t\\r\\n\\t\\tvar recoverView = window.setInterval(function() {\\r\\n\\t\\t\\tif ($(\"#header\").is(\":hidden\")) {\\r\\n\\t\\t\\t\\tif (!$(\"#conLeft\").hasClass(\"w0_w100\")) {\\r\\n\\t\\t\\t\\t\\t$(\"#conLeft\").css({\"overflow\": \"auto\"});\\t\\r\\n\\t\\t\\t\\t}\\r\\n\\t\\t\\t\\tif (!$(\"#conRight\").hasClass(\"w100_w0\")) {\\r\\n\\t\\t\\t\\t\\t$(\"#conRight\").css({\"overflow\": \"auto\"});\\t\\r\\n\\t\\t\\t\\t}\\r\\n\\t\\t\\t\\t\\r\\n\\t\\t\\t\\t$(\"#footer\").show();\\r\\n\\t\\t\\t\\t$(\"#header\").show();\\r\\n\\t\\t\\t} else {\\r\\n\\t\\t\\t\\tclearInterval(recoverView);\\r\\n\\t\\t\\t}\\r\\n\\t\\t}, 100);\\r\\n\\t}\\r\\n\\t\\r\\n\\t// 슬라이드 바 이동 시 뷰 영역 변경\\r\\n\\tfunction fnResizeDiv(value) {\\r\\n\\t\\t$(\"#conLeft\").removeClass(\\'w0_w100\\').removeClass(\\'w25_w75\\').removeClass(\\'w50_w50\\').removeClass(\\'w75_w25\\').removeClass(\\'w100_w0\\');\\r\\n\\t\\t$(\"#conRight\").removeClass(\\'w0_w100\\').removeClass(\\'w25_w75\\').removeClass(\\'w50_w50\\').removeClass(\\'w75_w25\\').removeClass(\\'w100_w0\\');\\r\\n\\t\\t\\r\\n\\t\\tif (value == 0) {\\r\\n\\t\\t\\t$(\"#conLeft\").addClass(\"w0_w100\");\\r\\n\\t\\t\\t$(\"#conRight\").addClass(\"w0_w100\");\\r\\n\\t\\t} else if (value == 25) {\\r\\n\\t\\t\\t$(\"#conLeft\").addClass(\"w25_w75\");\\r\\n\\t\\t\\t$(\"#conRight\").addClass(\"w25_w75\");\\r\\n\\t\\t} else if (value == 50) {\\r\\n\\t\\t\\t$(\"#conLeft\").addClass(\"w50_w50\");\\r\\n\\t\\t\\t$(\"#conRight\").addClass(\"w50_w50\");\\r\\n\\t\\t} else if (value == 75) {\\r\\n\\t\\t\\t$(\"#conLeft\").addClass(\"w75_w25\");\\r\\n\\t\\t\\t$(\"#conRight\").addClass(\"w75_w25\");\\r\\n\\t\\t} else if (value == 100 ) {\\r\\n\\t\\t\\t$(\"#conLeft\").addClass(\"w100_w0\");\\r\\n\\t\\t\\t$(\"#conRight\").addClass(\"w100_w0\");\\r\\n\\t\\t}\\r\\n\\t}\\r\\n\\t\\r\\n\\t// 원문, 국역 클릭 시 슬라이드 바 이동\\r\\n\\tfunction fnMoveSlider(flag) {\\r\\n\\t\\tif (flag == \"o\") {\\r\\n\\t\\t\\t$(\\'.slider_sort\\').slider(\\'value\\', 100);\\r\\n\\t\\t\\tfnResizeDiv(100);\\r\\n\\t\\t} else if (flag == \"t\") {\\r\\n\\t\\t\\t$(\\'.slider_sort\\').slider(\\'value\\', 0);\\r\\n\\t\\t\\tfnResizeDiv(0);\\r\\n\\t\\t}\\r\\n\\t}\\r\\n\\r\\n\\t$(document).ready(function(){\\r\\n\\t\\t$(\"body\").replaceOldHan();\\r\\n\\t\\t\\r\\n\\t\\t// 슬라이드 바\\r\\n\\t\\t$(\\'.slider_sort\\').slider({\\r\\n\\t\\t\\trange: \\'min\\',\\r\\n\\t\\t\\tvalue: 50,\\r\\n\\t\\t\\tmin: 0,\\r\\n\\t\\t\\tmax: 100,\\r\\n\\t\\t\\tstep: 25,\\r\\n\\t\\t\\tslide: function(event, ui) {\\r\\n\\t\\t\\t\\tfnResizeDiv(ui.value);\\r\\n\\t\\t\\t}\\r\\n\\t\\t});\\r\\n\\t\\t\\r\\n\\t\\t// 주석 팝업\\r\\n\\t\\t$(\\'a.annotation_comment\\').cluetip({\\r\\n\\t\\t\\tcluetipClass: \\'rounded\\',\\r\\n\\t\\t\\tarrows: false,\\r\\n\\t\\t\\twidth: 440,\\r\\n\\t\\t\\tdropShadow: false,\\r\\n\\t\\t\\tcursor: \\'hand\\',\\r\\n\\t\\t\\tcluetipClass: \\'none\\',\\r\\n\\t\\t\\tpositionBy: \\'auto\\',\\r\\n\\t\\t\\tleftOffset: -10,\\r\\n\\t\\t\\tlocal: true,\\r\\n\\t\\t\\tsticky: true,\\r\\n\\t\\t\\tshowTitle: false,\\r\\n\\t\\t\\tmouseOutClose: true,\\r\\n\\t\\t\\tclosePosition: \\'title\\',\\r\\n\\t\\t\\tcloseText: \\'<img src=\"/js/jquery-cluetip-master/demo/cross.png\" title=\"닫기\" />\\'\\r\\n\\t\\t});\\r\\n\\t\\t\\r\\n\\t\\t$(\".lyrpop_close\").click(function(){\\r\\n\\t\\t\\t$(this).parent().hide();\\r\\n\\t\\t});\\r\\n\\t});\\r\\n\\t\\r\\n//]]>\\r\\n</script>\\r\\n\\r\\n</body>\\r\\n</html>\\r\\n'"
      ]
     },
     "execution_count": 5,
     "metadata": {},
     "output_type": "execute_result"
    }
   ],
   "source": [
    "response.text"
   ]
  },
  {
   "cell_type": "code",
   "execution_count": 27,
   "metadata": {},
   "outputs": [
    {
     "data": {
      "text/plain": [
       "['\\r\\n\\t\\t\\t\\t\\t\\t한국사료총서\\xa0>\\r\\n\\t\\t\\t\\t\\t\\t尹致昊日記 一\\xa0>\\xa01883年 (高宗20年 癸未)\\xa0>\\xa0壬午日記 1882年 11月(陽曆 1883年 1月 1日~8日)\\xa0>\\xa0二十五日']"
      ]
     },
     "execution_count": 27,
     "metadata": {},
     "output_type": "execute_result"
    }
   ],
   "source": [
    "# 한국어 제목정보 (원문과 중복 가능성 있음) - 날짜정보는 다른 식으로 접근하는 게 좋겠다\n",
    "html.fromstring(response.content).xpath('/html/body/div[1]/div[2]/div/div[1]/p/text()')"
   ]
  },
  {
   "cell_type": "code",
   "execution_count": 11,
   "metadata": {},
   "outputs": [],
   "source": [
    "# 일기 번역본 정보\n",
    "temp = html.fromstring(response.content).xpath('//*[@id=\"rightContent\"]//div//text()')"
   ]
  },
  {
   "cell_type": "code",
   "execution_count": 19,
   "metadata": {},
   "outputs": [
    {
     "data": {
      "text/plain": [
       "'4일(25일, 목, 맑고 춥다) 아침 10시 기차로 고우(古愚: 김옥균 ), 각치공(覺治公: 탁정식,卓挺植 )을 모시고 요코하마(橫濱)로 네덜란드(和蘭) 서기를 방문했으나 만나지 못하였고, 벨기에(比耳時) 공사를 방문했으나 만나지 못하였다. 2시에 기차편으로 시나가와(品川)로 돌아와 고우장과 함께 후쿠자와(福澤)를 방문하다. 후쿠자와는 고우장에게 무익한데 돈을 낭비하지 말도록 권하였다. 6시경까지 담화를 나누다가 숙소로 돌아오다. 7시 반경에 나는 고구스가(家)의 저녁 모임에 참석하였다. 영국과 독일인 남녀들이 모여 있었다. 일본인은 남녀 15명인데 그 중 여자는 3인, 모두 영어에 능통하여 부러웠다. 2시경에 돌아와 자다. 이날 박의병(朴義秉)이 동경에 오다. 일본옷을 입고 있었다.'"
      ]
     },
     "execution_count": 19,
     "metadata": {},
     "output_type": "execute_result"
    }
   ],
   "source": [
    "tokens = [i.strip() for i in temp if '\\n' not in i and i != ' ' and i != '닫기']\n",
    "' '.join(tokens)"
   ]
  },
  {
   "cell_type": "code",
   "execution_count": 68,
   "metadata": {},
   "outputs": [],
   "source": [
    "OR_txt = []\n",
    "TL_txt = []"
   ]
  },
  {
   "cell_type": "code",
   "execution_count": null,
   "metadata": {},
   "outputs": [],
   "source": [
    "CH_diaries = []\n",
    "# KR_diaries = []\n",
    "EN_diaries = [n for n in range(24, 35)] # 책 번호: 24~35r"
   ]
  }
 ],
 "metadata": {
  "kernelspec": {
   "display_name": ".venv",
   "language": "python",
   "name": "python3"
  },
  "language_info": {
   "codemirror_mode": {
    "name": "ipython",
    "version": 3
   },
   "file_extension": ".py",
   "mimetype": "text/x-python",
   "name": "python",
   "nbconvert_exporter": "python",
   "pygments_lexer": "ipython3",
   "version": "3.12.1"
  }
 },
 "nbformat": 4,
 "nbformat_minor": 2
}
