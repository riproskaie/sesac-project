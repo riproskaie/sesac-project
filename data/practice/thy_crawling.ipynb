{
 "cells": [
  {
   "cell_type": "code",
   "execution_count": 101,
   "metadata": {},
   "outputs": [],
   "source": [
    "# 필요한 라이브러리 임포트\n",
    "import requests\n",
    "import re\n",
    "import time, random\n",
    "import pandas as pd\n",
    "from lxml import html\n",
    "from IPython.display import Image, display"
   ]
  },
  {
   "cell_type": "code",
   "execution_count": 90,
   "metadata": {},
   "outputs": [],
   "source": [
    "import urllib3\n",
    "\n",
    "urllib3.disable_warnings(urllib3.exceptions.InsecureRequestWarning)"
   ]
  },
  {
   "cell_type": "code",
   "execution_count": 92,
   "metadata": {},
   "outputs": [
    {
     "data": {
      "text/html": [
       "<div>\n",
       "<style scoped>\n",
       "    .dataframe tbody tr th:only-of-type {\n",
       "        vertical-align: middle;\n",
       "    }\n",
       "\n",
       "    .dataframe tbody tr th {\n",
       "        vertical-align: top;\n",
       "    }\n",
       "\n",
       "    .dataframe thead th {\n",
       "        text-align: right;\n",
       "    }\n",
       "</style>\n",
       "<table border=\"1\" class=\"dataframe\">\n",
       "  <thead>\n",
       "    <tr style=\"text-align: right;\">\n",
       "      <th></th>\n",
       "      <th>date</th>\n",
       "      <th>code</th>\n",
       "    </tr>\n",
       "  </thead>\n",
       "  <tbody>\n",
       "    <tr>\n",
       "      <th>0</th>\n",
       "      <td>1883-01-01</td>\n",
       "      <td>sa_024r_0010_0010_0010</td>\n",
       "    </tr>\n",
       "    <tr>\n",
       "      <th>1</th>\n",
       "      <td>1883-01-02</td>\n",
       "      <td>sa_024r_0010_0010_0020</td>\n",
       "    </tr>\n",
       "    <tr>\n",
       "      <th>2</th>\n",
       "      <td>1883-01-03</td>\n",
       "      <td>sa_024r_0010_0010_0030</td>\n",
       "    </tr>\n",
       "    <tr>\n",
       "      <th>3</th>\n",
       "      <td>1883-01-04</td>\n",
       "      <td>sa_024r_0010_0010_0040</td>\n",
       "    </tr>\n",
       "    <tr>\n",
       "      <th>4</th>\n",
       "      <td>1883-01-05</td>\n",
       "      <td>sa_024r_0010_0010_0050</td>\n",
       "    </tr>\n",
       "  </tbody>\n",
       "</table>\n",
       "</div>"
      ],
      "text/plain": [
       "         date                    code\n",
       "0  1883-01-01  sa_024r_0010_0010_0010\n",
       "1  1883-01-02  sa_024r_0010_0010_0020\n",
       "2  1883-01-03  sa_024r_0010_0010_0030\n",
       "3  1883-01-04  sa_024r_0010_0010_0040\n",
       "4  1883-01-05  sa_024r_0010_0010_0050"
      ]
     },
     "execution_count": 92,
     "metadata": {},
     "output_type": "execute_result"
    }
   ],
   "source": [
    "# csv로 파일 목록 읽어와 데이터프레임화하기\n",
    "df = pd.read_csv('thy_index.csv')\n",
    "df.head()"
   ]
  },
  {
   "cell_type": "code",
   "execution_count": 97,
   "metadata": {},
   "outputs": [
    {
     "data": {
      "text/plain": [
       "2283"
      ]
     },
     "execution_count": 97,
     "metadata": {},
     "output_type": "execute_result"
    }
   ],
   "source": [
    "df.code.size"
   ]
  },
  {
   "cell_type": "code",
   "execution_count": 100,
   "metadata": {},
   "outputs": [],
   "source": [
    "# 크롤링 성공한 요청 예시\n",
    "cookies = {\n",
    "    'activexime_enable': 'false',\n",
    "    'PCID': '17056246878505931577813',\n",
    "    'RC_RESOLUTION': '1536*864',\n",
    "    'RC_COLOR': '24',\n",
    "    'activexime_enable': 'false',\n",
    "    'JSESSIONID': 'D67983200082058E074FA74054AD0BC5',\n",
    "}\n",
    "\n",
    "headers = {\n",
    "    'Accept': 'text/html,application/xhtml+xml,application/xml;q=0.9,image/avif,image/webp,image/apng,*/*;q=0.8,application/signed-exchange;v=b3;q=0.7',\n",
    "    'Accept-Language': 'ko-KR,ko;q=0.9,en-US;q=0.8,en;q=0.7',\n",
    "    'Connection': 'keep-alive',\n",
    "    # 'Cookie': 'activexime_enable=false; PCID=17056246878505931577813; RC_RESOLUTION=1536*864; RC_COLOR=24; activexime_enable=false; JSESSIONID=D67983200082058E074FA74054AD0BC5',\n",
    "    # 'Referer': f'https://db.history.go.kr/item/compareViewer.do?levelId={df.code[0]}',\n",
    "    'Sec-Fetch-Dest': 'document',\n",
    "    'Sec-Fetch-Mode': 'navigate',\n",
    "    'Sec-Fetch-Site': 'same-origin',\n",
    "    'Sec-Fetch-User': '?1',\n",
    "    'Upgrade-Insecure-Requests': '1',\n",
    "    'User-Agent': 'Mozilla/5.0 (Windows NT 10.0; Win64; x64) AppleWebKit/537.36 (KHTML, like Gecko) Chrome/120.0.0.0 Safari/537.36',\n",
    "    'sec-ch-ua': '\"Not_A Brand\";v=\"8\", \"Chromium\";v=\"120\", \"Google Chrome\";v=\"120\"',\n",
    "    'sec-ch-ua-mobile': '?0',\n",
    "    'sec-ch-ua-platform': '\"Windows\"',\n",
    "}\n",
    "\n",
    "params = {\n",
    "    # 'levelId': df.code[0],\n",
    "}\n"
   ]
  },
  {
   "cell_type": "code",
   "execution_count": 104,
   "metadata": {},
   "outputs": [
    {
     "name": "stdout",
     "output_type": "stream",
     "text": [
      "크롤링 완료\n"
     ]
    },
    {
     "data": {
      "text/html": [
       "<div>\n",
       "<style scoped>\n",
       "    .dataframe tbody tr th:only-of-type {\n",
       "        vertical-align: middle;\n",
       "    }\n",
       "\n",
       "    .dataframe tbody tr th {\n",
       "        vertical-align: top;\n",
       "    }\n",
       "\n",
       "    .dataframe thead th {\n",
       "        text-align: right;\n",
       "    }\n",
       "</style>\n",
       "<table border=\"1\" class=\"dataframe\">\n",
       "  <thead>\n",
       "    <tr style=\"text-align: right;\">\n",
       "      <th></th>\n",
       "      <th>date</th>\n",
       "      <th>code</th>\n",
       "      <th>diary_text</th>\n",
       "    </tr>\n",
       "  </thead>\n",
       "  <tbody>\n",
       "    <tr>\n",
       "      <th>0</th>\n",
       "      <td>1883-01-01</td>\n",
       "      <td>sa_024r_0010_0010_0010</td>\n",
       "      <td>1883년(명치 16) 1월 1일(1882년 11월 22일, 월, 맑고 춥다) 관직...</td>\n",
       "    </tr>\n",
       "    <tr>\n",
       "      <th>1</th>\n",
       "      <td>1883-01-02</td>\n",
       "      <td>sa_024r_0010_0010_0020</td>\n",
       "      <td>2일(23일, 화, 맑음) 고우장(古愚丈: 김옥균)과 함께 후쿠자와 유키치(福澤諭吉...</td>\n",
       "    </tr>\n",
       "    <tr>\n",
       "      <th>2</th>\n",
       "      <td>1883-01-03</td>\n",
       "      <td>sa_024r_0010_0010_0030</td>\n",
       "      <td>3일(24일, 수, 맑고 춥다) 이날 오전에 고우장(古愚丈: 김옥균)과 같이 가미즈...</td>\n",
       "    </tr>\n",
       "    <tr>\n",
       "      <th>3</th>\n",
       "      <td>1883-01-04</td>\n",
       "      <td>sa_024r_0010_0010_0040</td>\n",
       "      <td>4일(25일, 목, 맑고 춥다) 아침 10시 기차로 고우(古愚: 김옥균), 각치공(...</td>\n",
       "    </tr>\n",
       "    <tr>\n",
       "      <th>4</th>\n",
       "      <td>1883-01-05</td>\n",
       "      <td>sa_024r_0010_0010_0050</td>\n",
       "      <td>5일(26일, 금, 맑고 춥다) 아침에 북해(北海:손붕구 孫鵬九) 씨 댁에 가서 종...</td>\n",
       "    </tr>\n",
       "  </tbody>\n",
       "</table>\n",
       "</div>"
      ],
      "text/plain": [
       "         date                    code  \\\n",
       "0  1883-01-01  sa_024r_0010_0010_0010   \n",
       "1  1883-01-02  sa_024r_0010_0010_0020   \n",
       "2  1883-01-03  sa_024r_0010_0010_0030   \n",
       "3  1883-01-04  sa_024r_0010_0010_0040   \n",
       "4  1883-01-05  sa_024r_0010_0010_0050   \n",
       "\n",
       "                                          diary_text  \n",
       "0  1883년(명치 16) 1월 1일(1882년 11월 22일, 월, 맑고 춥다) 관직...  \n",
       "1  2일(23일, 화, 맑음) 고우장(古愚丈: 김옥균)과 함께 후쿠자와 유키치(福澤諭吉...  \n",
       "2  3일(24일, 수, 맑고 춥다) 이날 오전에 고우장(古愚丈: 김옥균)과 같이 가미즈...  \n",
       "3  4일(25일, 목, 맑고 춥다) 아침 10시 기차로 고우(古愚: 김옥균), 각치공(...  \n",
       "4  5일(26일, 금, 맑고 춥다) 아침에 북해(北海:손붕구 孫鵬九) 씨 댁에 가서 종...  "
      ]
     },
     "execution_count": 104,
     "metadata": {},
     "output_type": "execute_result"
    }
   ],
   "source": [
    "# for문 돌려서 읽어오고 바로 데이터프레임 별도의 열에 저장하기\n",
    "diary_entries = []\n",
    "\n",
    "for i in range(df.code.size):\n",
    "    headers['Referer'] = f'https://db.history.go.kr/item/compareViewer.do?levelId={df.code[i]}'\n",
    "    params['levelId'] = df.code[i]\n",
    "    response = requests.get('https://db.history.go.kr/item/compareViewer.do', params=params, cookies=cookies, headers=headers, verify=False)\n",
    "\n",
    "    temp = html.fromstring(response.content).xpath('//*[@id=\"rightContent\"]//div//text()')\n",
    "    tokens = [s.strip() for s in temp if '\\n' not in s and s != ' ' and s != '닫기']\n",
    "    proc_str = ' '.join(tokens)\n",
    "    proc_str = proc_str.replace(\" )\", \")\").replace(\"( \", \"(\").replace(\"“ \", \"“\").replace(\" ”\", \"”\").replace(\"원저자주 \", \"\").replace(\"선⃐\", \"\")\n",
    "    # re.compile(r'[一-龥]').sub('', proc_str)\n",
    "    # re.compile(r'\\([^)]*\\)').sub('', proc_str)\n",
    "    diary_entries.append(proc_str)\n",
    "    time.sleep(random.randrange(1,5))\n",
    "\n",
    "print('크롤링 완료')\n",
    "df['diary_text'] = pd.Series(diary_entries)\n",
    "df.head()"
   ]
  },
  {
   "cell_type": "code",
   "execution_count": 127,
   "metadata": {},
   "outputs": [
    {
     "data": {
      "text/plain": [
       "0       1883-01-01\n",
       "2       1883-01-03\n",
       "12      1883-01-13\n",
       "16      1883-10-19\n",
       "19      1883-10-22\n",
       "           ...    \n",
       "2274    1889-12-23\n",
       "2275    1889-12-24\n",
       "2278    1889-12-27\n",
       "2279    1889-12-28\n",
       "2280    1889-12-29\n",
       "Name: date, Length: 65, dtype: object"
      ]
     },
     "execution_count": 127,
     "metadata": {},
     "output_type": "execute_result"
    }
   ],
   "source": [
    "df[df['diary_text'].str.contains(r\"[0-9]{3}\\s[0-9]{3}\", na=False)].date"
   ]
  },
  {
   "cell_type": "code",
   "execution_count": 108,
   "metadata": {},
   "outputs": [
    {
     "data": {
      "text/plain": [
       "date          0\n",
       "code          0\n",
       "diary_text    0\n",
       "dtype: int64"
      ]
     },
     "execution_count": 108,
     "metadata": {},
     "output_type": "execute_result"
    }
   ],
   "source": [
    "# df['text_without_CN'] = df['diary_text'].str.replace(pat=r'\\([^)]*\\)', repl='', regex=True)\n",
    "# \"이 기사는 국사편찬위원회에서 간행한 국역 윤치호 영문 일기1에 수록된 내용입니다.\" 문자열을 포함하는지도 점검해야 함 "
   ]
  },
  {
   "cell_type": "code",
   "execution_count": 113,
   "metadata": {},
   "outputs": [],
   "source": [
    "# csv로 다시 저장하기\n",
    "df.to_csv('thy_diary.csv', index=False, encoding='utf-8')"
   ]
  }
 ],
 "metadata": {
  "kernelspec": {
   "display_name": ".venv",
   "language": "python",
   "name": "python3"
  },
  "language_info": {
   "codemirror_mode": {
    "name": "ipython",
    "version": 3
   },
   "file_extension": ".py",
   "mimetype": "text/x-python",
   "name": "python",
   "nbconvert_exporter": "python",
   "pygments_lexer": "ipython3",
   "version": "3.12.1"
  }
 },
 "nbformat": 4,
 "nbformat_minor": 2
}
