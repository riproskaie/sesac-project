{
 "cells": [
  {
   "cell_type": "code",
   "execution_count": 1,
   "metadata": {},
   "outputs": [],
   "source": [
    "import requests\n",
    "import re\n",
    "import urllib.request\n",
    "from bs4 import BeautifulSoup\n",
    "from collections import deque\n",
    "from html.parser import HTMLParser\n",
    "from urllib.parse import urlparse\n",
    "import pandas as pd\n",
    "import os\n",
    "import tiktoken"
   ]
  },
  {
   "cell_type": "code",
   "execution_count": 104,
   "metadata": {},
   "outputs": [
    {
     "data": {
      "text/plain": [
       "Index(['date', 'code', 'diary_text'], dtype='object')"
      ]
     },
     "execution_count": 104,
     "metadata": {},
     "output_type": "execute_result"
    }
   ],
   "source": [
    "df = pd.read_csv('./processed/thy_diary.csv')\n",
    "df.columns"
   ]
  },
  {
   "cell_type": "code",
   "execution_count": 105,
   "metadata": {},
   "outputs": [
    {
     "data": {
      "text/html": [
       "<div>\n",
       "<style scoped>\n",
       "    .dataframe tbody tr th:only-of-type {\n",
       "        vertical-align: middle;\n",
       "    }\n",
       "\n",
       "    .dataframe tbody tr th {\n",
       "        vertical-align: top;\n",
       "    }\n",
       "\n",
       "    .dataframe thead th {\n",
       "        text-align: right;\n",
       "    }\n",
       "</style>\n",
       "<table border=\"1\" class=\"dataframe\">\n",
       "  <thead>\n",
       "    <tr style=\"text-align: right;\">\n",
       "      <th></th>\n",
       "      <th>date</th>\n",
       "      <th>code</th>\n",
       "      <th>diary_text</th>\n",
       "    </tr>\n",
       "  </thead>\n",
       "  <tbody>\n",
       "    <tr>\n",
       "      <th>0</th>\n",
       "      <td>1883-01-01</td>\n",
       "      <td>sa_024r_0010_0010_0010</td>\n",
       "      <td>1883년(명치 16) 1월 1일(월, 맑고 춥다) 관직·빈부·귀천을 막론하고 모두...</td>\n",
       "    </tr>\n",
       "    <tr>\n",
       "      <th>1</th>\n",
       "      <td>1883-01-02</td>\n",
       "      <td>sa_024r_0010_0010_0020</td>\n",
       "      <td>2일(화, 맑음) 고우장(古愚丈: 김옥균)과 함께 후쿠자와 유키치(福澤諭吉)를 방문...</td>\n",
       "    </tr>\n",
       "    <tr>\n",
       "      <th>2</th>\n",
       "      <td>1883-01-03</td>\n",
       "      <td>sa_024r_0010_0010_0030</td>\n",
       "      <td>3일(수, 맑고 춥다) 이날 오전에 고우장(古愚丈: 김옥균)과 같이 가미즈키(上月)...</td>\n",
       "    </tr>\n",
       "    <tr>\n",
       "      <th>3</th>\n",
       "      <td>1883-01-04</td>\n",
       "      <td>sa_024r_0010_0010_0040</td>\n",
       "      <td>4일(목, 맑고 춥다) 아침 10시 기차로 고우(古愚: 김옥균), 각치공(覺治公: ...</td>\n",
       "    </tr>\n",
       "    <tr>\n",
       "      <th>4</th>\n",
       "      <td>1883-01-05</td>\n",
       "      <td>sa_024r_0010_0010_0050</td>\n",
       "      <td>5일(금, 맑고 춥다) 아침에 북해(北海:손붕구 孫鵬九) 씨 댁에 가서 종기가 난 ...</td>\n",
       "    </tr>\n",
       "    <tr>\n",
       "      <th>...</th>\n",
       "      <td>...</td>\n",
       "      <td>...</td>\n",
       "      <td>...</td>\n",
       "    </tr>\n",
       "    <tr>\n",
       "      <th>2279</th>\n",
       "      <td>1889-12-27</td>\n",
       "      <td>sa_024r_0070_0130_0360</td>\n",
       "      <td>27일 《금요일》 아침에는 흐렸으나 오후에는 맑음.맥컬리가 쓴 『역사』를 읽었다. ...</td>\n",
       "    </tr>\n",
       "    <tr>\n",
       "      <th>2280</th>\n",
       "      <td>1889-12-28</td>\n",
       "      <td>sa_024r_0070_0130_0370</td>\n",
       "      <td>28일 《토요일》 상쾌한 날씨. 알렌(Allen) 박사와 본넬(Bonnell) 교수...</td>\n",
       "    </tr>\n",
       "    <tr>\n",
       "      <th>2281</th>\n",
       "      <td>1889-12-29</td>\n",
       "      <td>sa_024r_0070_0130_0380</td>\n",
       "      <td>29일 《일요일》 비가 내렸지만 따뜻함. 지난 몇 주 동안, 북쪽 기숙사 온도는 화...</td>\n",
       "    </tr>\n",
       "    <tr>\n",
       "      <th>2282</th>\n",
       "      <td>1889-12-30</td>\n",
       "      <td>sa_024r_0070_0130_0390</td>\n",
       "      <td>30일 《월요일》 몹시 추움. 불쏘시개와 석탄을 찾아 벽난로를 다시 켰어야 할 만큼...</td>\n",
       "    </tr>\n",
       "    <tr>\n",
       "      <th>2283</th>\n",
       "      <td>1889-12-31</td>\n",
       "      <td>sa_024r_0070_0130_0400</td>\n",
       "      <td>31일 《화요일》 춥고 흐림. 겨울철 학교행사가 시작되었다.</td>\n",
       "    </tr>\n",
       "  </tbody>\n",
       "</table>\n",
       "<p>2284 rows × 3 columns</p>\n",
       "</div>"
      ],
      "text/plain": [
       "            date                    code  \\\n",
       "0     1883-01-01  sa_024r_0010_0010_0010   \n",
       "1     1883-01-02  sa_024r_0010_0010_0020   \n",
       "2     1883-01-03  sa_024r_0010_0010_0030   \n",
       "3     1883-01-04  sa_024r_0010_0010_0040   \n",
       "4     1883-01-05  sa_024r_0010_0010_0050   \n",
       "...          ...                     ...   \n",
       "2279  1889-12-27  sa_024r_0070_0130_0360   \n",
       "2280  1889-12-28  sa_024r_0070_0130_0370   \n",
       "2281  1889-12-29  sa_024r_0070_0130_0380   \n",
       "2282  1889-12-30  sa_024r_0070_0130_0390   \n",
       "2283  1889-12-31  sa_024r_0070_0130_0400   \n",
       "\n",
       "                                             diary_text  \n",
       "0     1883년(명치 16) 1월 1일(월, 맑고 춥다) 관직·빈부·귀천을 막론하고 모두...  \n",
       "1     2일(화, 맑음) 고우장(古愚丈: 김옥균)과 함께 후쿠자와 유키치(福澤諭吉)를 방문...  \n",
       "2     3일(수, 맑고 춥다) 이날 오전에 고우장(古愚丈: 김옥균)과 같이 가미즈키(上月)...  \n",
       "3     4일(목, 맑고 춥다) 아침 10시 기차로 고우(古愚: 김옥균), 각치공(覺治公: ...  \n",
       "4     5일(금, 맑고 춥다) 아침에 북해(北海:손붕구 孫鵬九) 씨 댁에 가서 종기가 난 ...  \n",
       "...                                                 ...  \n",
       "2279  27일 《금요일》 아침에는 흐렸으나 오후에는 맑음.맥컬리가 쓴 『역사』를 읽었다. ...  \n",
       "2280  28일 《토요일》 상쾌한 날씨. 알렌(Allen) 박사와 본넬(Bonnell) 교수...  \n",
       "2281  29일 《일요일》 비가 내렸지만 따뜻함. 지난 몇 주 동안, 북쪽 기숙사 온도는 화...  \n",
       "2282  30일 《월요일》 몹시 추움. 불쏘시개와 석탄을 찾아 벽난로를 다시 켰어야 할 만큼...  \n",
       "2283                  31일 《화요일》 춥고 흐림. 겨울철 학교행사가 시작되었다.  \n",
       "\n",
       "[2284 rows x 3 columns]"
      ]
     },
     "execution_count": 105,
     "metadata": {},
     "output_type": "execute_result"
    }
   ],
   "source": [
    "# 음력 날짜 지우기\n",
    "def clean_str(x):\n",
    "    x1 = re.sub(r'\\(([^)]*\\d+)일,\\s', '(', str(x))\n",
    "    return x1\n",
    "\n",
    "df['diary_text'] = df['diary_text'].apply(clean_str)\n",
    "df"
   ]
  },
  {
   "cell_type": "code",
   "execution_count": 106,
   "metadata": {},
   "outputs": [
    {
     "data": {
      "text/html": [
       "<div>\n",
       "<style scoped>\n",
       "    .dataframe tbody tr th:only-of-type {\n",
       "        vertical-align: middle;\n",
       "    }\n",
       "\n",
       "    .dataframe tbody tr th {\n",
       "        vertical-align: top;\n",
       "    }\n",
       "\n",
       "    .dataframe thead th {\n",
       "        text-align: right;\n",
       "    }\n",
       "</style>\n",
       "<table border=\"1\" class=\"dataframe\">\n",
       "  <thead>\n",
       "    <tr style=\"text-align: right;\">\n",
       "      <th></th>\n",
       "      <th>date</th>\n",
       "      <th>code</th>\n",
       "      <th>diary_text</th>\n",
       "      <th>combined</th>\n",
       "    </tr>\n",
       "  </thead>\n",
       "  <tbody>\n",
       "    <tr>\n",
       "      <th>0</th>\n",
       "      <td>1883-01-01</td>\n",
       "      <td>sa_024r_0010_0010_0010</td>\n",
       "      <td>1883년(명치 16) 1월 1일(월, 맑고 춥다) 관직·빈부·귀천을 막론하고 모두...</td>\n",
       "      <td>Date: 1883-01-01; Content: 1883년(명치 16) 1월 1일(...</td>\n",
       "    </tr>\n",
       "    <tr>\n",
       "      <th>1</th>\n",
       "      <td>1883-01-02</td>\n",
       "      <td>sa_024r_0010_0010_0020</td>\n",
       "      <td>2일(화, 맑음) 고우장(古愚丈: 김옥균)과 함께 후쿠자와 유키치(福澤諭吉)를 방문...</td>\n",
       "      <td>Date: 1883-01-02; Content: 2일(화, 맑음) 고우장(古愚丈: ...</td>\n",
       "    </tr>\n",
       "    <tr>\n",
       "      <th>2</th>\n",
       "      <td>1883-01-03</td>\n",
       "      <td>sa_024r_0010_0010_0030</td>\n",
       "      <td>3일(수, 맑고 춥다) 이날 오전에 고우장(古愚丈: 김옥균)과 같이 가미즈키(上月)...</td>\n",
       "      <td>Date: 1883-01-03; Content: 3일(수, 맑고 춥다) 이날 오전에...</td>\n",
       "    </tr>\n",
       "    <tr>\n",
       "      <th>3</th>\n",
       "      <td>1883-01-04</td>\n",
       "      <td>sa_024r_0010_0010_0040</td>\n",
       "      <td>4일(목, 맑고 춥다) 아침 10시 기차로 고우(古愚: 김옥균), 각치공(覺治公: ...</td>\n",
       "      <td>Date: 1883-01-04; Content: 4일(목, 맑고 춥다) 아침 10시...</td>\n",
       "    </tr>\n",
       "    <tr>\n",
       "      <th>4</th>\n",
       "      <td>1883-01-05</td>\n",
       "      <td>sa_024r_0010_0010_0050</td>\n",
       "      <td>5일(금, 맑고 춥다) 아침에 북해(北海:손붕구 孫鵬九) 씨 댁에 가서 종기가 난 ...</td>\n",
       "      <td>Date: 1883-01-05; Content: 5일(금, 맑고 춥다) 아침에 북해...</td>\n",
       "    </tr>\n",
       "    <tr>\n",
       "      <th>...</th>\n",
       "      <td>...</td>\n",
       "      <td>...</td>\n",
       "      <td>...</td>\n",
       "      <td>...</td>\n",
       "    </tr>\n",
       "    <tr>\n",
       "      <th>2279</th>\n",
       "      <td>1889-12-27</td>\n",
       "      <td>sa_024r_0070_0130_0360</td>\n",
       "      <td>27일 《금요일》 아침에는 흐렸으나 오후에는 맑음.맥컬리가 쓴 『역사』를 읽었다. ...</td>\n",
       "      <td>Date: 1889-12-27; Content: 27일 《금요일》 아침에는 흐렸으나...</td>\n",
       "    </tr>\n",
       "    <tr>\n",
       "      <th>2280</th>\n",
       "      <td>1889-12-28</td>\n",
       "      <td>sa_024r_0070_0130_0370</td>\n",
       "      <td>28일 《토요일》 상쾌한 날씨. 알렌(Allen) 박사와 본넬(Bonnell) 교수...</td>\n",
       "      <td>Date: 1889-12-28; Content: 28일 《토요일》 상쾌한 날씨. 알...</td>\n",
       "    </tr>\n",
       "    <tr>\n",
       "      <th>2281</th>\n",
       "      <td>1889-12-29</td>\n",
       "      <td>sa_024r_0070_0130_0380</td>\n",
       "      <td>29일 《일요일》 비가 내렸지만 따뜻함. 지난 몇 주 동안, 북쪽 기숙사 온도는 화...</td>\n",
       "      <td>Date: 1889-12-29; Content: 29일 《일요일》 비가 내렸지만 따...</td>\n",
       "    </tr>\n",
       "    <tr>\n",
       "      <th>2282</th>\n",
       "      <td>1889-12-30</td>\n",
       "      <td>sa_024r_0070_0130_0390</td>\n",
       "      <td>30일 《월요일》 몹시 추움. 불쏘시개와 석탄을 찾아 벽난로를 다시 켰어야 할 만큼...</td>\n",
       "      <td>Date: 1889-12-30; Content: 30일 《월요일》 몹시 추움. 불쏘...</td>\n",
       "    </tr>\n",
       "    <tr>\n",
       "      <th>2283</th>\n",
       "      <td>1889-12-31</td>\n",
       "      <td>sa_024r_0070_0130_0400</td>\n",
       "      <td>31일 《화요일》 춥고 흐림. 겨울철 학교행사가 시작되었다.</td>\n",
       "      <td>Date: 1889-12-31; Content: 31일 《화요일》 춥고 흐림. 겨울...</td>\n",
       "    </tr>\n",
       "  </tbody>\n",
       "</table>\n",
       "<p>2284 rows × 4 columns</p>\n",
       "</div>"
      ],
      "text/plain": [
       "            date                    code  \\\n",
       "0     1883-01-01  sa_024r_0010_0010_0010   \n",
       "1     1883-01-02  sa_024r_0010_0010_0020   \n",
       "2     1883-01-03  sa_024r_0010_0010_0030   \n",
       "3     1883-01-04  sa_024r_0010_0010_0040   \n",
       "4     1883-01-05  sa_024r_0010_0010_0050   \n",
       "...          ...                     ...   \n",
       "2279  1889-12-27  sa_024r_0070_0130_0360   \n",
       "2280  1889-12-28  sa_024r_0070_0130_0370   \n",
       "2281  1889-12-29  sa_024r_0070_0130_0380   \n",
       "2282  1889-12-30  sa_024r_0070_0130_0390   \n",
       "2283  1889-12-31  sa_024r_0070_0130_0400   \n",
       "\n",
       "                                             diary_text  \\\n",
       "0     1883년(명치 16) 1월 1일(월, 맑고 춥다) 관직·빈부·귀천을 막론하고 모두...   \n",
       "1     2일(화, 맑음) 고우장(古愚丈: 김옥균)과 함께 후쿠자와 유키치(福澤諭吉)를 방문...   \n",
       "2     3일(수, 맑고 춥다) 이날 오전에 고우장(古愚丈: 김옥균)과 같이 가미즈키(上月)...   \n",
       "3     4일(목, 맑고 춥다) 아침 10시 기차로 고우(古愚: 김옥균), 각치공(覺治公: ...   \n",
       "4     5일(금, 맑고 춥다) 아침에 북해(北海:손붕구 孫鵬九) 씨 댁에 가서 종기가 난 ...   \n",
       "...                                                 ...   \n",
       "2279  27일 《금요일》 아침에는 흐렸으나 오후에는 맑음.맥컬리가 쓴 『역사』를 읽었다. ...   \n",
       "2280  28일 《토요일》 상쾌한 날씨. 알렌(Allen) 박사와 본넬(Bonnell) 교수...   \n",
       "2281  29일 《일요일》 비가 내렸지만 따뜻함. 지난 몇 주 동안, 북쪽 기숙사 온도는 화...   \n",
       "2282  30일 《월요일》 몹시 추움. 불쏘시개와 석탄을 찾아 벽난로를 다시 켰어야 할 만큼...   \n",
       "2283                  31일 《화요일》 춥고 흐림. 겨울철 학교행사가 시작되었다.   \n",
       "\n",
       "                                               combined  \n",
       "0     Date: 1883-01-01; Content: 1883년(명치 16) 1월 1일(...  \n",
       "1     Date: 1883-01-02; Content: 2일(화, 맑음) 고우장(古愚丈: ...  \n",
       "2     Date: 1883-01-03; Content: 3일(수, 맑고 춥다) 이날 오전에...  \n",
       "3     Date: 1883-01-04; Content: 4일(목, 맑고 춥다) 아침 10시...  \n",
       "4     Date: 1883-01-05; Content: 5일(금, 맑고 춥다) 아침에 북해...  \n",
       "...                                                 ...  \n",
       "2279  Date: 1889-12-27; Content: 27일 《금요일》 아침에는 흐렸으나...  \n",
       "2280  Date: 1889-12-28; Content: 28일 《토요일》 상쾌한 날씨. 알...  \n",
       "2281  Date: 1889-12-29; Content: 29일 《일요일》 비가 내렸지만 따...  \n",
       "2282  Date: 1889-12-30; Content: 30일 《월요일》 몹시 추움. 불쏘...  \n",
       "2283  Date: 1889-12-31; Content: 31일 《화요일》 춥고 흐림. 겨울...  \n",
       "\n",
       "[2284 rows x 4 columns]"
      ]
     },
     "execution_count": 106,
     "metadata": {},
     "output_type": "execute_result"
    }
   ],
   "source": [
    "df[\"combined\"] = (\n",
    "    \"Date: \" + df.date.str.strip() + \"; Content: \" + df.diary_text.str.strip()\n",
    ")\n",
    "df"
   ]
  },
  {
   "cell_type": "code",
   "execution_count": 107,
   "metadata": {},
   "outputs": [
    {
     "data": {
      "text/plain": [
       "str"
      ]
     },
     "execution_count": 107,
     "metadata": {},
     "output_type": "execute_result"
    }
   ],
   "source": [
    "#  cl100k_base는 토크나이저다. 임베딩과는 큰 관련이 없다.\n",
    "tokenizer = tiktoken.get_encoding(\"cl100k_base\")\n",
    "type(df.diary_text[0])"
   ]
  },
  {
   "cell_type": "code",
   "execution_count": 109,
   "metadata": {},
   "outputs": [],
   "source": [
    "# 소요되는 토큰을 각 칼럼에 저장하기. apply 함수가 쓰였다!\n",
    "df['n_tokens'] = df['combined'].apply(lambda x: len(tokenizer.encode(str(x))))"
   ]
  },
  {
   "cell_type": "code",
   "execution_count": 110,
   "metadata": {},
   "outputs": [
    {
     "data": {
      "text/html": [
       "<div>\n",
       "<style scoped>\n",
       "    .dataframe tbody tr th:only-of-type {\n",
       "        vertical-align: middle;\n",
       "    }\n",
       "\n",
       "    .dataframe tbody tr th {\n",
       "        vertical-align: top;\n",
       "    }\n",
       "\n",
       "    .dataframe thead th {\n",
       "        text-align: right;\n",
       "    }\n",
       "</style>\n",
       "<table border=\"1\" class=\"dataframe\">\n",
       "  <thead>\n",
       "    <tr style=\"text-align: right;\">\n",
       "      <th></th>\n",
       "      <th>combined</th>\n",
       "      <th>n_tokens</th>\n",
       "    </tr>\n",
       "  </thead>\n",
       "  <tbody>\n",
       "    <tr>\n",
       "      <th>0</th>\n",
       "      <td>Date: 1883-01-01; Content: 1883년(명치 16) 1월 1일(...</td>\n",
       "      <td>559</td>\n",
       "    </tr>\n",
       "    <tr>\n",
       "      <th>1</th>\n",
       "      <td>Date: 1883-01-02; Content: 2일(화, 맑음) 고우장(古愚丈: ...</td>\n",
       "      <td>405</td>\n",
       "    </tr>\n",
       "    <tr>\n",
       "      <th>2</th>\n",
       "      <td>Date: 1883-01-03; Content: 3일(수, 맑고 춥다) 이날 오전에...</td>\n",
       "      <td>2778</td>\n",
       "    </tr>\n",
       "    <tr>\n",
       "      <th>3</th>\n",
       "      <td>Date: 1883-01-04; Content: 4일(목, 맑고 춥다) 아침 10시...</td>\n",
       "      <td>422</td>\n",
       "    </tr>\n",
       "    <tr>\n",
       "      <th>4</th>\n",
       "      <td>Date: 1883-01-05; Content: 5일(금, 맑고 춥다) 아침에 북해...</td>\n",
       "      <td>387</td>\n",
       "    </tr>\n",
       "    <tr>\n",
       "      <th>5</th>\n",
       "      <td>Date: 1883-01-06; Content: 6일(토, 맑고 춥다) 간밤에 류마...</td>\n",
       "      <td>963</td>\n",
       "    </tr>\n",
       "    <tr>\n",
       "      <th>6</th>\n",
       "      <td>Date: 1883-01-07; Content: 7일(일, 맑음) 종일 종기로 몹시...</td>\n",
       "      <td>154</td>\n",
       "    </tr>\n",
       "    <tr>\n",
       "      <th>7</th>\n",
       "      <td>Date: 1883-01-08; Content: 8일(월, 맑음) 밤새도록 통증이 ...</td>\n",
       "      <td>58</td>\n",
       "    </tr>\n",
       "    <tr>\n",
       "      <th>8</th>\n",
       "      <td>Date: 1883-01-09; Content: 9일(화, 맑음) 이날 아침부터 통...</td>\n",
       "      <td>143</td>\n",
       "    </tr>\n",
       "    <tr>\n",
       "      <th>9</th>\n",
       "      <td>Date: 1883-01-10; Content: 10일(수, 아침에 맑고 저녁에 비...</td>\n",
       "      <td>278</td>\n",
       "    </tr>\n",
       "  </tbody>\n",
       "</table>\n",
       "</div>"
      ],
      "text/plain": [
       "                                            combined  n_tokens\n",
       "0  Date: 1883-01-01; Content: 1883년(명치 16) 1월 1일(...       559\n",
       "1  Date: 1883-01-02; Content: 2일(화, 맑음) 고우장(古愚丈: ...       405\n",
       "2  Date: 1883-01-03; Content: 3일(수, 맑고 춥다) 이날 오전에...      2778\n",
       "3  Date: 1883-01-04; Content: 4일(목, 맑고 춥다) 아침 10시...       422\n",
       "4  Date: 1883-01-05; Content: 5일(금, 맑고 춥다) 아침에 북해...       387\n",
       "5  Date: 1883-01-06; Content: 6일(토, 맑고 춥다) 간밤에 류마...       963\n",
       "6  Date: 1883-01-07; Content: 7일(일, 맑음) 종일 종기로 몹시...       154\n",
       "7  Date: 1883-01-08; Content: 8일(월, 맑음) 밤새도록 통증이 ...        58\n",
       "8  Date: 1883-01-09; Content: 9일(화, 맑음) 이날 아침부터 통...       143\n",
       "9  Date: 1883-01-10; Content: 10일(수, 아침에 맑고 저녁에 비...       278"
      ]
     },
     "execution_count": 110,
     "metadata": {},
     "output_type": "execute_result"
    }
   ],
   "source": [
    "df = df[['combined', 'n_tokens']]\n",
    "df.head(10)"
   ]
  },
  {
   "cell_type": "code",
   "execution_count": 111,
   "metadata": {},
   "outputs": [
    {
     "data": {
      "text/plain": [
       "<Axes: >"
      ]
     },
     "execution_count": 111,
     "metadata": {},
     "output_type": "execute_result"
    },
    {
     "data": {
      "image/png": "[encoded data removed]",
      "text/plain": [
       "<Figure size 640x480 with 1 Axes>"
      ]
     },
     "metadata": {},
     "output_type": "display_data"
    }
   ],
   "source": [
    "# 히스토그램으로 그려서 보기\n",
    "df.n_tokens.hist(range=(0, 1000))"
   ]
  },
  {
   "cell_type": "code",
   "execution_count": 112,
   "metadata": {},
   "outputs": [
    {
     "data": {
      "text/html": [
       "<div>\n",
       "<style scoped>\n",
       "    .dataframe tbody tr th:only-of-type {\n",
       "        vertical-align: middle;\n",
       "    }\n",
       "\n",
       "    .dataframe tbody tr th {\n",
       "        vertical-align: top;\n",
       "    }\n",
       "\n",
       "    .dataframe thead th {\n",
       "        text-align: right;\n",
       "    }\n",
       "</style>\n",
       "<table border=\"1\" class=\"dataframe\">\n",
       "  <thead>\n",
       "    <tr style=\"text-align: right;\">\n",
       "      <th></th>\n",
       "      <th>combined</th>\n",
       "      <th>n_tokens</th>\n",
       "    </tr>\n",
       "  </thead>\n",
       "  <tbody>\n",
       "    <tr>\n",
       "      <th>36</th>\n",
       "      <td>Date: 1883-11-07; Content: 7일(수, 맑음, 삼가다) 이날 낮...</td>\n",
       "      <td>5335</td>\n",
       "    </tr>\n",
       "    <tr>\n",
       "      <th>91</th>\n",
       "      <td>Date: 1884-01-01; Content: 1월 1일(화, 맑음, 삼가다) 이...</td>\n",
       "      <td>6306</td>\n",
       "    </tr>\n",
       "    <tr>\n",
       "      <th>108</th>\n",
       "      <td>Date: 1884-01-18; Content: 18일(금, 맑음, 삼가다) 이날 ...</td>\n",
       "      <td>6843</td>\n",
       "    </tr>\n",
       "    <tr>\n",
       "      <th>414</th>\n",
       "      <td>Date: 1884-11-19; Content: 19일(수, 맑음, 삼가다) 아침에...</td>\n",
       "      <td>5644</td>\n",
       "    </tr>\n",
       "    <tr>\n",
       "      <th>429</th>\n",
       "      <td>Date: 1884-12-04; Content: 4일(목, 맑음, 삼가다) 아침에 ...</td>\n",
       "      <td>4232</td>\n",
       "    </tr>\n",
       "  </tbody>\n",
       "</table>\n",
       "</div>"
      ],
      "text/plain": [
       "                                              combined  n_tokens\n",
       "36   Date: 1883-11-07; Content: 7일(수, 맑음, 삼가다) 이날 낮...      5335\n",
       "91   Date: 1884-01-01; Content: 1월 1일(화, 맑음, 삼가다) 이...      6306\n",
       "108  Date: 1884-01-18; Content: 18일(금, 맑음, 삼가다) 이날 ...      6843\n",
       "414  Date: 1884-11-19; Content: 19일(수, 맑음, 삼가다) 아침에...      5644\n",
       "429  Date: 1884-12-04; Content: 4일(목, 맑음, 삼가다) 아침에 ...      4232"
      ]
     },
     "execution_count": 112,
     "metadata": {},
     "output_type": "execute_result"
    }
   ],
   "source": [
    "df[df['n_tokens'] > 4000]"
   ]
  },
  {
   "cell_type": "code",
   "execution_count": 113,
   "metadata": {},
   "outputs": [],
   "source": [
    "max_tokens = 3000\n",
    "\n",
    "# 너무 입력 문장이 길다 싶으면 여러 문장으로 쪼개는 함수\n",
    "def split_into_many(text, max_tokens = max_tokens):\n",
    "\n",
    "    # 일단 문장으로 쪼개기\n",
    "    sentences = text.split('. ')\n",
    "\n",
    "    # 문장마다 몇 토큰 들어가는지 세어 주기.\n",
    "    n_tokens = [len(tokenizer.encode(\" \" + sentence)) for sentence in sentences]\n",
    "    \n",
    "    chunks = []\n",
    "    tokens_so_far = 0\n",
    "    chunk = []\n",
    "\n",
    "\n",
    "    for sentence, token in zip(sentences, n_tokens):\n",
    "\n",
    "        # 문장의 토큰 수와 현재까지의 토큰 수의 합이 최대 토큰 수를 초과하면, 해당 청크를 청크 목록에 추가하고 청크 및 현재까지의 토큰 수를 초기화한다.\n",
    "        if tokens_so_far + token > max_tokens:\n",
    "            chunks.append(\". \".join(chunk) + \".\")\n",
    "            chunk = []\n",
    "            tokens_so_far = 0\n",
    "\n",
    "\n",
    "        if token > max_tokens:\n",
    "            continue\n",
    "\n",
    "        chunk.append(sentence)\n",
    "        tokens_so_far += token + 1\n",
    "\n",
    "    if chunk:\n",
    "        chunks.append(\". \".join(chunk) + \".\")\n",
    "\n",
    "    return chunks"
   ]
  },
  {
   "cell_type": "code",
   "execution_count": 114,
   "metadata": {},
   "outputs": [],
   "source": [
    "shortened = []\n",
    "# 데이터 프레임 순회하기\n",
    "for row in df.iterrows():\n",
    "\n",
    "    # If the text is None, go to the next row\n",
    "    if row[1]['combined'] is None:\n",
    "        continue\n",
    "\n",
    "    # If the number of tokens is greater than the max number of tokens, split the text into chunks\n",
    "    if row[1]['n_tokens'] > max_tokens:\n",
    "        shortened += split_into_many(row[1]['combined'])\n",
    "    \n",
    "    # Otherwise, add the text to the list of shortened texts\n",
    "    else:\n",
    "        shortened.append( row[1]['combined'] )"
   ]
  },
  {
   "cell_type": "code",
   "execution_count": 117,
   "metadata": {},
   "outputs": [
    {
     "data": {
      "text/plain": [
       "<Axes: >"
      ]
     },
     "execution_count": 117,
     "metadata": {},
     "output_type": "execute_result"
    },
    {
     "data": {
      "image/png": "[encoded data removed]",
      "text/plain": [
       "<Figure size 640x480 with 1 Axes>"
      ]
     },
     "metadata": {},
     "output_type": "display_data"
    }
   ],
   "source": [
    "df = pd.DataFrame(shortened, columns = ['combined'])\n",
    "df['n_tokens'] = df.combined.apply(lambda x: len(tokenizer.encode(str(x))))\n",
    "df.n_tokens.hist()"
   ]
  },
  {
   "cell_type": "markdown",
   "metadata": {},
   "source": [
    "## Embedding"
   ]
  },
  {
   "cell_type": "code",
   "execution_count": 2,
   "metadata": {},
   "outputs": [],
   "source": [
    "import os\n",
    "from dotenv import load_dotenv, find_dotenv\n",
    "load_dotenv(find_dotenv('.env'))\n",
    "from openai import OpenAI\n",
    "import openai\n",
    "client = OpenAI()\n",
    "openai.api_key  = os.getenv('OPENAI_API_KEY')"
   ]
  },
  {
   "cell_type": "code",
   "execution_count": 3,
   "metadata": {},
   "outputs": [
    {
     "ename": "NameError",
     "evalue": "name 'df' is not defined",
     "output_type": "error",
     "traceback": [
      "\u001b[1;31m---------------------------------------------------------------------------\u001b[0m",
      "\u001b[1;31mNameError\u001b[0m                                 Traceback (most recent call last)",
      "Cell \u001b[1;32mIn[3], line 2\u001b[0m\n\u001b[0;32m      1\u001b[0m \u001b[38;5;66;03m# 텍스트를 embedding화한다. 실행하면 최대 20분은 걸린다.\u001b[39;00m\n\u001b[1;32m----> 2\u001b[0m df[\u001b[38;5;124m'\u001b[39m\u001b[38;5;124membeddings\u001b[39m\u001b[38;5;124m'\u001b[39m] \u001b[38;5;241m=\u001b[39m \u001b[43mdf\u001b[49m\u001b[38;5;241m.\u001b[39mcombined\u001b[38;5;241m.\u001b[39mapply(\u001b[38;5;28;01mlambda\u001b[39;00m x: client\u001b[38;5;241m.\u001b[39membeddings\u001b[38;5;241m.\u001b[39mcreate(\u001b[38;5;28minput\u001b[39m\u001b[38;5;241m=\u001b[39mx, model\u001b[38;5;241m=\u001b[39m\u001b[38;5;124m'\u001b[39m\u001b[38;5;124mtext-embedding-ada-002\u001b[39m\u001b[38;5;124m'\u001b[39m)\u001b[38;5;241m.\u001b[39mdata[\u001b[38;5;241m0\u001b[39m]\u001b[38;5;241m.\u001b[39membedding)\n\u001b[0;32m      3\u001b[0m df\u001b[38;5;241m.\u001b[39mto_csv(\u001b[38;5;124m'\u001b[39m\u001b[38;5;124mprocessed/thy_embeddings.csv\u001b[39m\u001b[38;5;124m'\u001b[39m)\n\u001b[0;32m      4\u001b[0m df\u001b[38;5;241m=\u001b[39mpd\u001b[38;5;241m.\u001b[39mread_csv(\u001b[38;5;124m'\u001b[39m\u001b[38;5;124mprocessed/thy_embeddings.csv\u001b[39m\u001b[38;5;124m'\u001b[39m, index_col\u001b[38;5;241m=\u001b[39m\u001b[38;5;241m0\u001b[39m)\n",
      "\u001b[1;31mNameError\u001b[0m: name 'df' is not defined"
     ]
    }
   ],
   "source": [
    "# 텍스트를 embedding화한다. (몇 분 이상 걸릴 수 있다)\n",
    "df['embeddings'] = df.combined.apply(lambda x: client.embeddings.create(input=x, model='text-embedding-ada-002').data[0].embedding)\n",
    "df.to_csv('processed/thy_embeddings.csv')\n",
    "df=pd.read_csv('processed/thy_embeddings.csv', index_col=0)\n",
    "df.head()"
   ]
  },
  {
   "cell_type": "code",
   "execution_count": 28,
   "metadata": {},
   "outputs": [
    {
     "data": {
      "text/html": [
       "<div>\n",
       "<style scoped>\n",
       "    .dataframe tbody tr th:only-of-type {\n",
       "        vertical-align: middle;\n",
       "    }\n",
       "\n",
       "    .dataframe tbody tr th {\n",
       "        vertical-align: top;\n",
       "    }\n",
       "\n",
       "    .dataframe thead th {\n",
       "        text-align: right;\n",
       "    }\n",
       "</style>\n",
       "<table border=\"1\" class=\"dataframe\">\n",
       "  <thead>\n",
       "    <tr style=\"text-align: right;\">\n",
       "      <th></th>\n",
       "      <th>combined</th>\n",
       "      <th>n_tokens</th>\n",
       "      <th>embeddings</th>\n",
       "    </tr>\n",
       "  </thead>\n",
       "  <tbody>\n",
       "    <tr>\n",
       "      <th>0</th>\n",
       "      <td>Date: 1883-01-01; Content: 1883년(명치 16) 1월 1일(...</td>\n",
       "      <td>559</td>\n",
       "      <td>[-0.01074959710240364, -0.015057748183608055, ...</td>\n",
       "    </tr>\n",
       "    <tr>\n",
       "      <th>1</th>\n",
       "      <td>Date: 1883-01-02; Content: 2일(화, 맑음) 고우장(古愚丈: ...</td>\n",
       "      <td>405</td>\n",
       "      <td>[0.003885359736159444, -0.006819339003413916, ...</td>\n",
       "    </tr>\n",
       "    <tr>\n",
       "      <th>2</th>\n",
       "      <td>Date: 1883-01-03; Content: 3일(수, 맑고 춥다) 이날 오전에...</td>\n",
       "      <td>2778</td>\n",
       "      <td>[-0.004177005961537361, -0.008521092124283314,...</td>\n",
       "    </tr>\n",
       "    <tr>\n",
       "      <th>3</th>\n",
       "      <td>Date: 1883-01-04; Content: 4일(목, 맑고 춥다) 아침 10시...</td>\n",
       "      <td>422</td>\n",
       "      <td>[-0.019375553354620934, -0.016086915507912636,...</td>\n",
       "    </tr>\n",
       "    <tr>\n",
       "      <th>4</th>\n",
       "      <td>Date: 1883-01-05; Content: 5일(금, 맑고 춥다) 아침에 북해...</td>\n",
       "      <td>387</td>\n",
       "      <td>[-0.0006925069028511643, -0.014644294045865536...</td>\n",
       "    </tr>\n",
       "  </tbody>\n",
       "</table>\n",
       "</div>"
      ],
      "text/plain": [
       "                                            combined  n_tokens  \\\n",
       "0  Date: 1883-01-01; Content: 1883년(명치 16) 1월 1일(...       559   \n",
       "1  Date: 1883-01-02; Content: 2일(화, 맑음) 고우장(古愚丈: ...       405   \n",
       "2  Date: 1883-01-03; Content: 3일(수, 맑고 춥다) 이날 오전에...      2778   \n",
       "3  Date: 1883-01-04; Content: 4일(목, 맑고 춥다) 아침 10시...       422   \n",
       "4  Date: 1883-01-05; Content: 5일(금, 맑고 춥다) 아침에 북해...       387   \n",
       "\n",
       "                                          embeddings  \n",
       "0  [-0.01074959710240364, -0.015057748183608055, ...  \n",
       "1  [0.003885359736159444, -0.006819339003413916, ...  \n",
       "2  [-0.004177005961537361, -0.008521092124283314,...  \n",
       "3  [-0.019375553354620934, -0.016086915507912636,...  \n",
       "4  [-0.0006925069028511643, -0.014644294045865536...  "
      ]
     },
     "execution_count": 28,
     "metadata": {},
     "output_type": "execute_result"
    }
   ],
   "source": [
    "import pandas as pd\n",
    "import numpy as np\n",
    "from scipy.spatial.distance import cosine\n",
    "\n",
    "df=pd.read_csv('thy_embeddings.csv', index_col=0)\n",
    "df['embeddings'] = df['embeddings'].apply(eval).apply(np.array).apply(lambda x: [float(i) for i in x]) # eval 함수를 적용하는 이유는 csv이기 때문이다. 임베딩을 혹시라도 문자열로 곧이곧대로 판단하지 않도록 하기 위함.\n",
    "df.head()"
   ]
  },
  {
   "cell_type": "code",
   "execution_count": 14,
   "metadata": {},
   "outputs": [],
   "source": [
    "import pickle\n",
    "\n",
    "with open('thy_embedding.pkl', 'wb') as f:\n",
    "    pickle.dump(df, f, pickle.HIGHEST_PROTOCOL)"
   ]
  },
  {
   "cell_type": "code",
   "execution_count": 22,
   "metadata": {},
   "outputs": [],
   "source": [
    "with open('../data/processed/thy-embedding.pkl', 'rb') as f:\n",
    "    df = pickle.load(f)"
   ]
  },
  {
   "cell_type": "code",
   "execution_count": 23,
   "metadata": {},
   "outputs": [
    {
     "data": {
      "text/plain": [
       "numpy.float64"
      ]
     },
     "execution_count": 23,
     "metadata": {},
     "output_type": "execute_result"
    }
   ],
   "source": [
    "type(df['embeddings'][0][0])"
   ]
  },
  {
   "cell_type": "code",
   "execution_count": 24,
   "metadata": {},
   "outputs": [],
   "source": [
    "def create_context(\n",
    "    question, df, max_len=1800\n",
    "):\n",
    "    \"\"\"\n",
    "    데이터 프레임으로부터 가장 유사한 문서를 찾아서, 질문에 대한 문맥을 만든다.\n",
    "    \"\"\"\n",
    "\n",
    "    # 질문으로부터 임베딩을 만든다.\n",
    "    q_embeddings = client.embeddings.create(input=question, model='text-embedding-ada-002').data[0].embedding\n",
    "\n",
    "    # 임베딩으로부터 거리를 계산한다.\n",
    "    df[\"distances\"] = df[\"embeddings\"].apply(lambda x: cosine(q_embeddings, x))\n",
    "    returns = []\n",
    "    cur_len = 0\n",
    "    # 거리순으로 정렬하고, 문맥이 너무 길어지기 전까지만 텍스트를 문맥에 추가한다.\n",
    "    for i, row in df.sort_values('distances', ascending=True).iterrows():\n",
    "        \n",
    "\n",
    "        # 현재 토큰 수에 텍스트 길이를 더한다.\n",
    "        cur_len += row['n_tokens'] + 4\n",
    "        \n",
    "        # 문맥이 너무 길어지면, break\n",
    "        if cur_len > max_len:\n",
    "            break\n",
    "        \n",
    "\n",
    "        # 아니면, 문맥에 추가한다.\n",
    "        returns.append(row[\"combined\"])\n",
    "\n",
    "    # Return the context\n",
    "    return \"\\n\\n###\\n\\n\".join(returns)\n",
    "\n",
    "\n",
    "# 이 함수가 하는 일 다시 정리해보자.\n",
    "# 1. 질문이 들어오면 질문을 임베딩한다. 즉, 숫자 표현으로 바꿔준다.\n",
    "# 2. 모든 문장들의 임베딩과 질문의 임베딩 사이의 거리를 계산한다.\n",
    "# 3. 문맥이 너무 길어지면 안되니까, 가장 거리가 가까운 문장부터 차례대로 문맥에 추가한다.\n",
    "# 4. 문맥을 반환한다."
   ]
  },
  {
   "cell_type": "code",
   "execution_count": 20,
   "metadata": {},
   "outputs": [],
   "source": [
    "def answer_question(\n",
    "    df,\n",
    "    model=\"gpt-3.5-turbo\",\n",
    "    question=\"Understand my question in English, and return in Korean, based on the input data (Yoon Tchi-ho's diary)\",\n",
    "    max_len=1800,\n",
    "    debug=False,\n",
    "):\n",
    "    \"\"\"\n",
    "    데이터 프레임 텍스트에서 가장 유사한 문맥을 기반으로 질문에 답한다.\n",
    "    \"\"\"\n",
    "    context = create_context(\n",
    "        question,\n",
    "        df,\n",
    "        max_len=max_len,\n",
    "    )\n",
    "\n",
    "    if debug:\n",
    "        print(\"Context:\\n\" + context)\n",
    "        print(\"\\n\\n\")\n",
    "\n",
    "    try: # 프롬프트는 여기에서 정의된다\n",
    "        response = client.chat.completions.create(\n",
    "            model=model,\n",
    "            messages=[\n",
    "                {\"role\": \"system\", \"content\": \"The training data is the diary entries of young Yun Tchi-ho. He was active in late 19th century and early 20th century. Pretend that you are the author. Answer my questions based on the diary. Bear in mind he referred to the King of Korea as '상', the Prnice as '동궁', and the Queen as '곤전'. He calls 김옥균 as '고우' or '고우장', 박영효 as '금릉' or '금릉장', 민영익 as '운미', 홍영식 as '금석', 서광범 as '위산'. The author's father was 윤웅렬, who is called throughout the diary as 가친. On 1884-12-04, the author witnessed 갑신정변, a coup-d'etat. If you don't have information that exceeds the year 1889, or if you don't find any relevant training data, please say \\\"I don't know\\\". Do not simply repeat the prompt.\\n\\n\"},\n",
    "                {\"role\": \"user\", \"content\": f\"Context: {context}\\n\\n---\\n\\n Question: {question}, '~습니다'체의 한국어로 대답해 줘.\"}\n",
    "            ],\n",
    "            temperature=0,\n",
    "        )\n",
    "        return response.choices[0].message.content\n",
    "    except Exception as e:\n",
    "        print(\"Error occurred:\", e)\n",
    "        return \"\""
   ]
  },
  {
   "cell_type": "code",
   "execution_count": 21,
   "metadata": {},
   "outputs": [
    {
     "data": {
      "text/plain": [
       "'저는 1883년에는 공사관에서 지내고 있었습니다.'"
      ]
     },
     "execution_count": 21,
     "metadata": {},
     "output_type": "execute_result"
    }
   ],
   "source": [
    "answer_question(df, question=\"당신은 1883년에 어떤 일을 겪었습니까?\", debug=False)"
   ]
  },
  {
   "cell_type": "code",
   "execution_count": 220,
   "metadata": {},
   "outputs": [
    {
     "data": {
      "text/plain": [
       "'저는 예수교를 믿었습니다.'"
      ]
     },
     "execution_count": 220,
     "metadata": {},
     "output_type": "execute_result"
    }
   ],
   "source": [
    "answer_question(df, question=\"당신은 어떤 종교를 믿었습니까?\", debug=False)"
   ]
  },
  {
   "cell_type": "code",
   "execution_count": 221,
   "metadata": {},
   "outputs": [
    {
     "data": {
      "text/plain": [
       "'김옥균에 대해서는 저는 그를 매우 존경하고 존경합니다.'"
      ]
     },
     "execution_count": 221,
     "metadata": {},
     "output_type": "execute_result"
    }
   ],
   "source": [
    "answer_question(df, question=\"김옥균에 대해서는 어떻게 생각합니까?\", debug=False)"
   ]
  },
  {
   "cell_type": "code",
   "execution_count": 222,
   "metadata": {},
   "outputs": [
    {
     "data": {
      "text/plain": [
       "'비가 내리면 저는 집에 머무르면서 책을 읽거나 공부를 하곤 합니다.'"
      ]
     },
     "execution_count": 222,
     "metadata": {},
     "output_type": "execute_result"
    }
   ],
   "source": [
    "answer_question(df, question=\"비가 내리면 무엇을 하면서 지냅니까?\", debug=False)"
   ]
  },
  {
   "cell_type": "code",
   "execution_count": 223,
   "metadata": {},
   "outputs": [
    {
     "data": {
      "text/plain": [
       "'상은 우리 조선의 왕이십니다. 저는 그를 존경하고 존중합니다. 그는 우리 나라를 이끌고 계시는 분으로서 많은 책임과 의무를 가지고 계십니다. 그의 지혜와 통찰력은 우리 나라의 번영과 안정에 큰 기여를 하고 있습니다. 상의 통치에 대해서는 믿음과 기대를 갖고 있습니다.'"
      ]
     },
     "execution_count": 223,
     "metadata": {},
     "output_type": "execute_result"
    }
   ],
   "source": [
    "answer_question(df, question=\"조선의 왕에 대해서는 어떻게 생각합니까?\", debug=False)"
   ]
  },
  {
   "cell_type": "code",
   "execution_count": 224,
   "metadata": {},
   "outputs": [
    {
     "data": {
      "text/plain": [
       "'상은 약하고 신하들에게 아첨을 받는 것을 좋아하며, 무기력하고 고식적인 처리를 선호합니다. 그는 진작과 진보를 망국의 계책으로 여기며, 눈앞의 이익에 급급합니다. 또한, 진실을 말하려는 사람들을 간신들이 모해하고, 자신들의 이익을 위해 숨어야 할 곳을 잃게 만들기 때문에, 상을 비판하는 사람들은 어려움을 겪을 수 있습니다.'"
      ]
     },
     "execution_count": 224,
     "metadata": {},
     "output_type": "execute_result"
    }
   ],
   "source": [
    "answer_question(df, question=\"What do you think of the King of Korea?\", debug=False)"
   ]
  },
  {
   "cell_type": "code",
   "execution_count": 183,
   "metadata": {},
   "outputs": [
    {
     "data": {
      "text/plain": [
       "'The author thought that the Queen of Korea was weak and submissive, and that she handled matters in a traditional and ceremonial manner.'"
      ]
     },
     "execution_count": 183,
     "metadata": {},
     "output_type": "execute_result"
    }
   ],
   "source": [
    "answer_question(df, question=\"What did the author think of the Queen of Korea?\", debug=False)"
   ]
  },
  {
   "cell_type": "code",
   "execution_count": 189,
   "metadata": {},
   "outputs": [
    {
     "data": {
      "text/plain": [
       "\"Based on the diary entries, the author began studying abroad in America. The specific date is not mentioned in the given entries, so I don't know when exactly he started studying abroad.\""
      ]
     },
     "execution_count": 189,
     "metadata": {},
     "output_type": "execute_result"
    }
   ],
   "source": [
    "answer_question(df, question=\"When did the author begin to study abroad? Which country?\", debug=False)"
   ]
  },
  {
   "cell_type": "code",
   "execution_count": 195,
   "metadata": {},
   "outputs": [
    {
     "data": {
      "text/plain": [
       "'The author read various books, including \"피득전(彼得傳)\" and \"성경 읽는 법(Helps to Bible Reading)\".'"
      ]
     },
     "execution_count": 195,
     "metadata": {},
     "output_type": "execute_result"
    }
   ],
   "source": [
    "answer_question(df, question=\"What kind of books did the author read?\", debug=False)"
   ]
  },
  {
   "cell_type": "code",
   "execution_count": 197,
   "metadata": {},
   "outputs": [
    {
     "data": {
      "text/plain": [
       "\"Yes, the author met Lowell. On December 26, 1883, the author mentioned that the American consul announced Lowell's arrival.\""
      ]
     },
     "execution_count": 197,
     "metadata": {},
     "output_type": "execute_result"
    }
   ],
   "source": [
    "answer_question(df, question=\"Did the author meet Lowell?\", debug=False)"
   ]
  },
  {
   "cell_type": "code",
   "execution_count": 161,
   "metadata": {},
   "outputs": [
    {
     "data": {
      "text/plain": [
       "'The author translated documents and letters in the legation.'"
      ]
     },
     "execution_count": 161,
     "metadata": {},
     "output_type": "execute_result"
    }
   ],
   "source": [
    "answer_question(df, question=\"What did the author do in the legation?\", debug=False)"
   ]
  },
  {
   "cell_type": "code",
   "execution_count": 162,
   "metadata": {},
   "outputs": [
    {
     "data": {
      "text/plain": [
       "'The author thought that the government officials of Korea were weak, flattery-seeking, and lacking in ability.'"
      ]
     },
     "execution_count": 162,
     "metadata": {},
     "output_type": "execute_result"
    }
   ],
   "source": [
    "answer_question(df, question=\"What did the author think of the government officials of Korea?\", debug=False)"
   ]
  },
  {
   "cell_type": "code",
   "execution_count": 174,
   "metadata": {},
   "outputs": [
    {
     "data": {
      "text/plain": [
       "'Up until 1884, the author usually visited the 공사관 (government office).'"
      ]
     },
     "execution_count": 174,
     "metadata": {},
     "output_type": "execute_result"
    }
   ],
   "source": [
    "answer_question(df, question=\"Up until 1884, who did the author visit usually?\", debug=False)"
   ]
  },
  {
   "cell_type": "code",
   "execution_count": 178,
   "metadata": {},
   "outputs": [
    {
     "data": {
      "text/plain": [
       "\"Based on the diary entries, the author seems to have a positive view of Japan. In the entry from 1885-04-23, the author mentions a news article stating that Japan and Korea will withdraw their troops after four months of negotiations. The author then ponders whether Korea will prosper or decline based on the outcome of these negotiations. In the entry from 1884-07-22, the author praises Japan's progress in civilization and prosperity compared to China, stating that Japan has improved by learning from the past and adopting new ideas. Therefore, it can be inferred that the author admires Japan's development and sees it as a positive example for Korea.\""
      ]
     },
     "execution_count": 178,
     "metadata": {},
     "output_type": "execute_result"
    }
   ],
   "source": [
    "answer_question(df, question=\"what did the author think of Japan?\", debug=False)"
   ]
  },
  {
   "cell_type": "code",
   "execution_count": 164,
   "metadata": {},
   "outputs": [
    {
     "data": {
      "text/plain": [
       "'The author chose to write in English later in his diary because he found it difficult to write in detail about various events in Korean, and also because he often missed recording daily activities due to the difficulty of expressing them in detail. Additionally, the author believed that writing in English would allow him to continue writing without having to change his writing tools, and because he found it easier to learn English quickly.'"
      ]
     },
     "execution_count": 164,
     "metadata": {},
     "output_type": "execute_result"
    }
   ],
   "source": [
    "answer_question(df, question=\"Why did the author choose to write in English later in his diary?\", debug=False)"
   ]
  },
  {
   "cell_type": "code",
   "execution_count": 160,
   "metadata": {},
   "outputs": [
    {
     "data": {
      "text/plain": [
       "'The author suffered from rheumatism and a cold.'"
      ]
     },
     "execution_count": 160,
     "metadata": {},
     "output_type": "execute_result"
    }
   ],
   "source": [
    "answer_question(df, question=\"What kind of diseases did the author suffer from?\", debug=False)"
   ]
  },
  {
   "cell_type": "code",
   "execution_count": 155,
   "metadata": {},
   "outputs": [
    {
     "data": {
      "text/plain": [
       "'The author of the diary thought that Unmi was disrespectful and arrogant.'"
      ]
     },
     "execution_count": 155,
     "metadata": {},
     "output_type": "execute_result"
    }
   ],
   "source": [
    "answer_question(df, question=\"What did the author of the diary think of Unmi?\", debug=False)"
   ]
  },
  {
   "cell_type": "code",
   "execution_count": 145,
   "metadata": {},
   "outputs": [
    {
     "data": {
      "text/plain": [
       "'The author of the diary believed that Korea was under oppressive and unjust rule, with a corrupt government and impoverished people. However, the author also recognized the potential for hope in the strength and intelligence of the Korean people, as well as the favorable climate and resources of the country. The author expressed frustration and despair at the contempt and disregard shown towards Korea, and hoped for a revolution or a change in the situation that would allow the country to utilize its advantages.'"
      ]
     },
     "execution_count": 145,
     "metadata": {},
     "output_type": "execute_result"
    }
   ],
   "source": [
    "# 주로 영어로 요청했을 때 잘 대답하는 경향을 보인다.\n",
    "answer_question(df, question=\"What did the author of the diary think of the situation Korea was in?\", debug=False)"
   ]
  },
  {
   "cell_type": "code",
   "execution_count": 144,
   "metadata": {},
   "outputs": [
    {
     "data": {
      "text/plain": [
       "'The author of the diary thought highly of the United States, as they mentioned reading a book about the country and expressed interest in the changing relationship between the United States and Korea.'"
      ]
     },
     "execution_count": 144,
     "metadata": {},
     "output_type": "execute_result"
    }
   ],
   "source": [
    "answer_question(df, question=\"What did the author of the diary think of the United States?\", debug=False)"
   ]
  }
 ],
 "metadata": {
  "kernelspec": {
   "display_name": ".venv",
   "language": "python",
   "name": "python3"
  },
  "language_info": {
   "codemirror_mode": {
    "name": "ipython",
    "version": 3
   },
   "file_extension": ".py",
   "mimetype": "text/x-python",
   "name": "python",
   "nbconvert_exporter": "python",
   "pygments_lexer": "ipython3",
   "version": "3.12.1"
  }
 },
 "nbformat": 4,
 "nbformat_minor": 2
}
